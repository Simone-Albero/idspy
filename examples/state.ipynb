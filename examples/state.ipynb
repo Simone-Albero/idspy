{
 "cells": [
  {
   "cell_type": "markdown",
   "id": "bfca83e1d8c24552",
   "metadata": {},
   "source": [
    "### Setup"
   ]
  },
  {
   "cell_type": "code",
   "execution_count": 10,
   "id": "18592b0d",
   "metadata": {},
   "outputs": [],
   "source": [
    "import sys\n",
    "import os\n",
    "\n",
    "# Add the project root to Python path\n",
    "project_root = os.path.abspath(os.path.join(os.getcwd(), '..'))\n",
    "if project_root not in sys.path:\n",
    "    sys.path.insert(0, project_root)"
   ]
  },
  {
   "cell_type": "code",
   "execution_count": 11,
   "id": "b64dfb248ad76a33",
   "metadata": {
    "ExecuteTime": {
     "end_time": "2025-09-03T14:27:27.629618Z",
     "start_time": "2025-09-03T14:27:27.621926Z"
    }
   },
   "outputs": [
    {
     "data": {
      "text/plain": [
       "State(size=2, data={'seed': 42, 'train.lr': 0.001})"
      ]
     },
     "execution_count": 11,
     "metadata": {},
     "output_type": "execute_result"
    }
   ],
   "source": [
    "from src.idspy.core.state import State\n",
    "\n",
    "s = State({\"seed\": 42, \"train.lr\": 1e-3})\n",
    "s"
   ]
  },
  {
   "cell_type": "markdown",
   "id": "88114a16e1f14065",
   "metadata": {},
   "source": [
    "### Basic usage"
   ]
  },
  {
   "cell_type": "code",
   "execution_count": 12,
   "id": "7c0cae063a78c5ed",
   "metadata": {
    "ExecuteTime": {
     "end_time": "2025-09-03T14:27:59.717770Z",
     "start_time": "2025-09-03T14:27:59.713682Z"
    }
   },
   "outputs": [
    {
     "data": {
      "text/plain": [
       "'resnet18'"
      ]
     },
     "execution_count": 12,
     "metadata": {},
     "output_type": "execute_result"
    }
   ],
   "source": [
    "s[\"model\"] = \"resnet18\"\n",
    "s[\"model\"]"
   ]
  },
  {
   "cell_type": "markdown",
   "id": "6683ab78ed83fe2d",
   "metadata": {},
   "source": [
    "### Readonly view"
   ]
  },
  {
   "cell_type": "code",
   "execution_count": 13,
   "id": "826724a452ffa72e",
   "metadata": {
    "ExecuteTime": {
     "end_time": "2025-09-03T14:29:11.710041Z",
     "start_time": "2025-09-03T14:29:11.703569Z"
    }
   },
   "outputs": [
    {
     "name": "stdout",
     "output_type": "stream",
     "text": [
      "reading: 42\n",
      "readonly: 'mappingproxy' object does not support item assignment\n"
     ]
    }
   ],
   "source": [
    "ro = s.readonly()\n",
    "print(f\"reading: {ro[\"seed\"]}\")\n",
    "\n",
    "try:\n",
    "    ro[\"seed\"] = 123\n",
    "except TypeError as e:\n",
    "    print(\"readonly:\", e)"
   ]
  },
  {
   "cell_type": "markdown",
   "id": "a5efb34bad8a302f",
   "metadata": {},
   "source": [
    "### Scoped view"
   ]
  },
  {
   "cell_type": "code",
   "execution_count": 14,
   "id": "33b9aece53b00e6a",
   "metadata": {
    "ExecuteTime": {
     "end_time": "2025-09-03T14:29:38.836433Z",
     "start_time": "2025-09-03T14:29:38.832757Z"
    }
   },
   "outputs": [
    {
     "data": {
      "text/plain": [
       "['lr']"
      ]
     },
     "execution_count": 14,
     "metadata": {},
     "output_type": "execute_result"
    }
   ],
   "source": [
    "train = s.scope(\"train\")\n",
    "list(train)"
   ]
  },
  {
   "cell_type": "markdown",
   "id": "86a8c5c04f9634b3",
   "metadata": {},
   "source": [
    "### Mutating through a scope"
   ]
  },
  {
   "cell_type": "code",
   "execution_count": 15,
   "id": "5dcc65fb61fcbecf",
   "metadata": {
    "ExecuteTime": {
     "end_time": "2025-09-03T14:30:29.809909Z",
     "start_time": "2025-09-03T14:30:29.806226Z"
    }
   },
   "outputs": [
    {
     "data": {
      "text/plain": [
       "{'seed': 42, 'train.lr': 0.001, 'model': 'resnet18', 'train.epochs': 10}"
      ]
     },
     "execution_count": 15,
     "metadata": {},
     "output_type": "execute_result"
    }
   ],
   "source": [
    "train[\"epochs\"] = 10  # adds \"train.epochs\" to the state\n",
    "s.to_dict()"
   ]
  },
  {
   "cell_type": "markdown",
   "id": "60e879ecd92e45fe",
   "metadata": {},
   "source": [
    "### Deleting via scope"
   ]
  },
  {
   "cell_type": "code",
   "execution_count": 16,
   "id": "bec22adf8ab250f0",
   "metadata": {
    "ExecuteTime": {
     "end_time": "2025-09-03T14:30:57.999312Z",
     "start_time": "2025-09-03T14:30:57.992938Z"
    }
   },
   "outputs": [
    {
     "data": {
      "text/plain": [
       "State(size=3, data={'seed': 42, 'model': 'resnet18', 'train.epochs': 10})"
      ]
     },
     "execution_count": 16,
     "metadata": {},
     "output_type": "execute_result"
    }
   ],
   "source": [
    "del train[\"lr\"]  # removes \"train.lr\" from state\n",
    "s"
   ]
  }
 ],
 "metadata": {
  "kernelspec": {
   "display_name": ".venv",
   "language": "python",
   "name": "python3"
  },
  "language_info": {
   "codemirror_mode": {
    "name": "ipython",
    "version": 3
   },
   "file_extension": ".py",
   "mimetype": "text/x-python",
   "name": "python",
   "nbconvert_exporter": "python",
   "pygments_lexer": "ipython3",
   "version": "3.12.3"
  }
 },
 "nbformat": 4,
 "nbformat_minor": 5
}
