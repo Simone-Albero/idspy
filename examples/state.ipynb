{
 "cells": [
  {
   "metadata": {},
   "cell_type": "markdown",
   "source": "### Setup",
   "id": "bfca83e1d8c24552"
  },
  {
   "metadata": {
    "ExecuteTime": {
     "end_time": "2025-09-03T14:27:27.629618Z",
     "start_time": "2025-09-03T14:27:27.621926Z"
    }
   },
   "cell_type": "code",
   "source": [
    "from src.idspy.core.state import State\n",
    "\n",
    "s = State({\"seed\": 42, \"train.lr\": 1e-3})\n",
    "s"
   ],
   "id": "b64dfb248ad76a33",
   "outputs": [
    {
     "data": {
      "text/plain": [
       "State(size=2, data={'seed': 42, 'train.lr': 0.001})"
      ]
     },
     "execution_count": 1,
     "metadata": {},
     "output_type": "execute_result"
    }
   ],
   "execution_count": 1
  },
  {
   "metadata": {},
   "cell_type": "markdown",
   "source": "### Basic usage",
   "id": "88114a16e1f14065"
  },
  {
   "metadata": {
    "ExecuteTime": {
     "end_time": "2025-09-03T14:27:59.717770Z",
     "start_time": "2025-09-03T14:27:59.713682Z"
    }
   },
   "cell_type": "code",
   "source": [
    "s[\"model\"] = \"resnet18\"\n",
    "s[\"model\"]"
   ],
   "id": "7c0cae063a78c5ed",
   "outputs": [
    {
     "data": {
      "text/plain": [
       "'resnet18'"
      ]
     },
     "execution_count": 2,
     "metadata": {},
     "output_type": "execute_result"
    }
   ],
   "execution_count": 2
  },
  {
   "metadata": {},
   "cell_type": "markdown",
   "source": "### Readonly view",
   "id": "6683ab78ed83fe2d"
  },
  {
   "metadata": {
    "ExecuteTime": {
     "end_time": "2025-09-03T14:29:11.710041Z",
     "start_time": "2025-09-03T14:29:11.703569Z"
    }
   },
   "cell_type": "code",
   "source": [
    "ro = s.readonly()\n",
    "print(f\"reading: {ro[\"seed\"]}\")\n",
    "\n",
    "try:\n",
    "    ro[\"seed\"] = 123\n",
    "except TypeError as e:\n",
    "    print(\"readonly:\", e)"
   ],
   "id": "826724a452ffa72e",
   "outputs": [
    {
     "name": "stdout",
     "output_type": "stream",
     "text": [
      "reading: 42\n",
      "readonly: 'mappingproxy' object does not support item assignment\n"
     ]
    }
   ],
   "execution_count": 4
  },
  {
   "metadata": {},
   "cell_type": "markdown",
   "source": "### Scoped view",
   "id": "a5efb34bad8a302f"
  },
  {
   "metadata": {
    "ExecuteTime": {
     "end_time": "2025-09-03T14:29:38.836433Z",
     "start_time": "2025-09-03T14:29:38.832757Z"
    }
   },
   "cell_type": "code",
   "source": [
    "train = s.scope(\"train\")\n",
    "list(train)"
   ],
   "id": "33b9aece53b00e6a",
   "outputs": [
    {
     "data": {
      "text/plain": [
       "['lr']"
      ]
     },
     "execution_count": 5,
     "metadata": {},
     "output_type": "execute_result"
    }
   ],
   "execution_count": 5
  },
  {
   "metadata": {},
   "cell_type": "markdown",
   "source": "### Mutating through a scope",
   "id": "86a8c5c04f9634b3"
  },
  {
   "metadata": {
    "ExecuteTime": {
     "end_time": "2025-09-03T14:30:29.809909Z",
     "start_time": "2025-09-03T14:30:29.806226Z"
    }
   },
   "cell_type": "code",
   "source": [
    "train[\"epochs\"] = 10  # adds \"train.epochs\" to the state\n",
    "s.to_dict()"
   ],
   "id": "5dcc65fb61fcbecf",
   "outputs": [
    {
     "data": {
      "text/plain": [
       "{'seed': 42, 'train.lr': 0.001, 'model': 'resnet18', 'train.epochs': 10}"
      ]
     },
     "execution_count": 6,
     "metadata": {},
     "output_type": "execute_result"
    }
   ],
   "execution_count": 6
  },
  {
   "metadata": {},
   "cell_type": "markdown",
   "source": "### Deleting via scope",
   "id": "60e879ecd92e45fe"
  },
  {
   "metadata": {
    "ExecuteTime": {
     "end_time": "2025-09-03T14:30:57.999312Z",
     "start_time": "2025-09-03T14:30:57.992938Z"
    }
   },
   "cell_type": "code",
   "source": [
    "del train[\"lr\"]  # removes \"train.lr\" from state\n",
    "s"
   ],
   "id": "bec22adf8ab250f0",
   "outputs": [
    {
     "data": {
      "text/plain": [
       "State(size=3, data={'seed': 42, 'model': 'resnet18', 'train.epochs': 10})"
      ]
     },
     "execution_count": 7,
     "metadata": {},
     "output_type": "execute_result"
    }
   ],
   "execution_count": 7
  }
 ],
 "metadata": {
  "kernelspec": {
   "display_name": "Python 3",
   "language": "python",
   "name": "python3"
  },
  "language_info": {
   "codemirror_mode": {
    "name": "ipython",
    "version": 2
   },
   "file_extension": ".py",
   "mimetype": "text/x-python",
   "name": "python",
   "nbconvert_exporter": "python",
   "pygments_lexer": "ipython2",
   "version": "2.7.6"
  }
 },
 "nbformat": 4,
 "nbformat_minor": 5
}
