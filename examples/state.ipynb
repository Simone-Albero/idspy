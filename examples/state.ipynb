{
 "cells": [
  {
   "metadata": {
    "ExecuteTime": {
     "end_time": "2025-08-11T16:54:59.809742Z",
     "start_time": "2025-08-11T16:54:59.759777Z"
    }
   },
   "cell_type": "code",
   "source": [
    "import logging\n",
    "\n",
    "from src.idspy.core.state import State\n",
    "from src.idspy.services.logger import setup_logging\n",
    "\n",
    "setup_logging()\n",
    "logger = logging.getLogger(__name__)"
   ],
   "id": "74387301d6800b32",
   "outputs": [],
   "execution_count": 1
  },
  {
   "metadata": {
    "ExecuteTime": {
     "end_time": "2025-08-11T16:54:59.815324Z",
     "start_time": "2025-08-11T16:54:59.813368Z"
    }
   },
   "cell_type": "code",
   "source": [
    "s = State({\"epoch\": 1, \"train.loss\": 0.7})\n",
    "s[\"val.acc\"] = 0.8"
   ],
   "id": "cad5fc2e26778401",
   "outputs": [],
   "execution_count": 2
  },
  {
   "metadata": {
    "collapsed": true,
    "ExecuteTime": {
     "end_time": "2025-08-11T16:54:59.918518Z",
     "start_time": "2025-08-11T16:54:59.911815Z"
    }
   },
   "cell_type": "code",
   "source": [
    "train = s.scope(\"train\")\n",
    "logger.info(f\"loss: {train[\"loss\"]}\")\n",
    "train[\"lr\"] = 3e-4\n",
    "logger.info(f\"train fields: {dict(s)}\")\n"
   ],
   "id": "initial_id",
   "outputs": [
    {
     "data": {
      "text/plain": [
       "\u001B[34mINFO    \u001B[0m \u001B[1;92m18:54:59\u001B[0m: loss: \u001B[1;36m0.7\u001B[0m                                                                                       \n"
      ],
      "text/html": [
       "<pre style=\"white-space:pre;overflow-x:auto;line-height:normal;font-family:Menlo,'DejaVu Sans Mono',consolas,'Courier New',monospace\"><span style=\"color: #000080; text-decoration-color: #000080\">INFO    </span> <span style=\"color: #00ff00; text-decoration-color: #00ff00; font-weight: bold\">18:54:59</span>: loss: <span style=\"color: #008080; text-decoration-color: #008080; font-weight: bold\">0.7</span>                                                                                       \n",
       "</pre>\n"
      ]
     },
     "metadata": {},
     "output_type": "display_data"
    },
    {
     "data": {
      "text/plain": [
       "\u001B[34mINFO    \u001B[0m \u001B[1;92m18:54:59\u001B[0m: train fields: \u001B[1m{\u001B[0m\u001B[32m'epoch'\u001B[0m: \u001B[1;36m1\u001B[0m, \u001B[32m'train.loss'\u001B[0m: \u001B[1;36m0.7\u001B[0m, \u001B[32m'val.acc'\u001B[0m: \u001B[1;36m0.8\u001B[0m, \u001B[32m'train.lr'\u001B[0m: \u001B[1;36m0.0003\u001B[0m\u001B[1m}\u001B[0m               \n"
      ],
      "text/html": [
       "<pre style=\"white-space:pre;overflow-x:auto;line-height:normal;font-family:Menlo,'DejaVu Sans Mono',consolas,'Courier New',monospace\"><span style=\"color: #000080; text-decoration-color: #000080\">INFO    </span> <span style=\"color: #00ff00; text-decoration-color: #00ff00; font-weight: bold\">18:54:59</span>: train fields: <span style=\"font-weight: bold\">{</span><span style=\"color: #008000; text-decoration-color: #008000\">'epoch'</span>: <span style=\"color: #008080; text-decoration-color: #008080; font-weight: bold\">1</span>, <span style=\"color: #008000; text-decoration-color: #008000\">'train.loss'</span>: <span style=\"color: #008080; text-decoration-color: #008080; font-weight: bold\">0.7</span>, <span style=\"color: #008000; text-decoration-color: #008000\">'val.acc'</span>: <span style=\"color: #008080; text-decoration-color: #008080; font-weight: bold\">0.8</span>, <span style=\"color: #008000; text-decoration-color: #008000\">'train.lr'</span>: <span style=\"color: #008080; text-decoration-color: #008080; font-weight: bold\">0.0003</span><span style=\"font-weight: bold\">}</span>               \n",
       "</pre>\n"
      ]
     },
     "metadata": {},
     "output_type": "display_data"
    }
   ],
   "execution_count": 3
  },
  {
   "metadata": {
    "ExecuteTime": {
     "end_time": "2025-08-11T16:54:59.927851Z",
     "start_time": "2025-08-11T16:54:59.924020Z"
    }
   },
   "cell_type": "code",
   "source": [
    "v = s.get_view()  # read-only\n",
    "logger.info(f\"epoch: {v[\"epoch\"]}\")\n",
    "s[\"epoch\"] += 1\n",
    "logger.info(f\"epoch: {v[\"epoch\"]}\")"
   ],
   "id": "d3577e099bc6c2c1",
   "outputs": [
    {
     "data": {
      "text/plain": [
       "\u001B[34mINFO    \u001B[0m \u001B[1;92m18:54:59\u001B[0m: epoch: \u001B[1;36m1\u001B[0m                                                                                        \n"
      ],
      "text/html": [
       "<pre style=\"white-space:pre;overflow-x:auto;line-height:normal;font-family:Menlo,'DejaVu Sans Mono',consolas,'Courier New',monospace\"><span style=\"color: #000080; text-decoration-color: #000080\">INFO    </span> <span style=\"color: #00ff00; text-decoration-color: #00ff00; font-weight: bold\">18:54:59</span>: epoch: <span style=\"color: #008080; text-decoration-color: #008080; font-weight: bold\">1</span>                                                                                        \n",
       "</pre>\n"
      ]
     },
     "metadata": {},
     "output_type": "display_data"
    },
    {
     "data": {
      "text/plain": [
       "\u001B[34mINFO    \u001B[0m \u001B[1;92m18:54:59\u001B[0m: epoch: \u001B[1;36m2\u001B[0m                                                                                        \n"
      ],
      "text/html": [
       "<pre style=\"white-space:pre;overflow-x:auto;line-height:normal;font-family:Menlo,'DejaVu Sans Mono',consolas,'Courier New',monospace\"><span style=\"color: #000080; text-decoration-color: #000080\">INFO    </span> <span style=\"color: #00ff00; text-decoration-color: #00ff00; font-weight: bold\">18:54:59</span>: epoch: <span style=\"color: #008080; text-decoration-color: #008080; font-weight: bold\">2</span>                                                                                        \n",
       "</pre>\n"
      ]
     },
     "metadata": {},
     "output_type": "display_data"
    }
   ],
   "execution_count": 4
  }
 ],
 "metadata": {
  "kernelspec": {
   "display_name": "Python 3",
   "language": "python",
   "name": "python3"
  },
  "language_info": {
   "codemirror_mode": {
    "name": "ipython",
    "version": 2
   },
   "file_extension": ".py",
   "mimetype": "text/x-python",
   "name": "python",
   "nbconvert_exporter": "python",
   "pygments_lexer": "ipython2",
   "version": "2.7.6"
  }
 },
 "nbformat": 4,
 "nbformat_minor": 5
}
