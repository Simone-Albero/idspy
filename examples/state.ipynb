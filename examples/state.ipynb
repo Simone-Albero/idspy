{
 "cells": [
  {
   "cell_type": "markdown",
   "id": "bfca83e1d8c24552",
   "metadata": {},
   "source": [
    "# State Management Examples\n",
    "\n",
    "This notebook demonstrates the `State` class, a persistent key-value store designed for pipeline state management. It maintains intermediate results and configuration across pipeline steps.\n",
    "\n",
    "## Features Demonstrated\n",
    "\n",
    "- **Basic Operations**: Dictionary-like interface for storing and retrieving values\n",
    "- **Readonly Views**: Immutable state views to prevent accidental modifications\n",
    "- **Scoped Views**: Namespace-based access using dot notation (e.g., `train.lr`)\n",
    "- **Type Safety**: Runtime type validation with `check_type()` and `get_typed()`\n",
    "- **Error Handling**: Proper exception handling for missing keys and type mismatches\n",
    "\n",
    "## Setup"
   ]
  },
  {
   "cell_type": "code",
   "execution_count": 1,
   "id": "18592b0d",
   "metadata": {},
   "outputs": [],
   "source": [
    "import sys\n",
    "import os\n",
    "\n",
    "# Add the project root to Python path\n",
    "project_root = os.path.abspath(os.path.join(os.getcwd(), '..'))\n",
    "if project_root not in sys.path:\n",
    "    sys.path.insert(0, project_root)"
   ]
  },
  {
   "cell_type": "code",
   "execution_count": 2,
   "id": "b64dfb248ad76a33",
   "metadata": {
    "ExecuteTime": {
     "end_time": "2025-09-03T14:27:27.629618Z",
     "start_time": "2025-09-03T14:27:27.621926Z"
    }
   },
   "outputs": [
    {
     "data": {
      "text/plain": [
       "State(size=2, data={'seed': 42, 'train.lr': 0.001})"
      ]
     },
     "execution_count": 2,
     "metadata": {},
     "output_type": "execute_result"
    }
   ],
   "source": [
    "from src.idspy.core.state import State\n",
    "\n",
    "s = State({\"seed\": 42, \"train.lr\": 1e-3})\n",
    "s"
   ]
  },
  {
   "cell_type": "markdown",
   "id": "88114a16e1f14065",
   "metadata": {},
   "source": [
    "## Basic Operations\n",
    "\n",
    "Dictionary-like interface for storing and retrieving values."
   ]
  },
  {
   "cell_type": "code",
   "execution_count": 3,
   "id": "7c0cae063a78c5ed",
   "metadata": {
    "ExecuteTime": {
     "end_time": "2025-09-03T14:27:59.717770Z",
     "start_time": "2025-09-03T14:27:59.713682Z"
    }
   },
   "outputs": [
    {
     "data": {
      "text/plain": [
       "'resnet18'"
      ]
     },
     "execution_count": 3,
     "metadata": {},
     "output_type": "execute_result"
    }
   ],
   "source": [
    "s[\"model\"] = \"resnet18\"\n",
    "s[\"model\"]"
   ]
  },
  {
   "cell_type": "markdown",
   "id": "6683ab78ed83fe2d",
   "metadata": {},
   "source": [
    "## Readonly Views\n",
    "\n",
    "Create immutable views to prevent accidental modifications."
   ]
  },
  {
   "cell_type": "code",
   "execution_count": 4,
   "id": "826724a452ffa72e",
   "metadata": {
    "ExecuteTime": {
     "end_time": "2025-09-03T14:29:11.710041Z",
     "start_time": "2025-09-03T14:29:11.703569Z"
    }
   },
   "outputs": [
    {
     "name": "stdout",
     "output_type": "stream",
     "text": [
      "reading: 42\n",
      "readonly: 'mappingproxy' object does not support item assignment\n"
     ]
    }
   ],
   "source": [
    "ro = s.readonly()\n",
    "print(f\"reading: {ro[\"seed\"]}\")\n",
    "\n",
    "try:\n",
    "    ro[\"seed\"] = 123\n",
    "except TypeError as e:\n",
    "    print(\"readonly:\", e)"
   ]
  },
  {
   "cell_type": "markdown",
   "id": "a5efb34bad8a302f",
   "metadata": {},
   "source": [
    "## Scoped Views\n",
    "\n",
    "Access subsets using namespace prefixes (e.g., `train.*`)."
   ]
  },
  {
   "cell_type": "code",
   "execution_count": 5,
   "id": "33b9aece53b00e6a",
   "metadata": {
    "ExecuteTime": {
     "end_time": "2025-09-03T14:29:38.836433Z",
     "start_time": "2025-09-03T14:29:38.832757Z"
    }
   },
   "outputs": [
    {
     "data": {
      "text/plain": [
       "['lr']"
      ]
     },
     "execution_count": 5,
     "metadata": {},
     "output_type": "execute_result"
    }
   ],
   "source": [
    "train = s.scope(\"train\")\n",
    "list(train)"
   ]
  },
  {
   "cell_type": "markdown",
   "id": "86a8c5c04f9634b3",
   "metadata": {},
   "source": [
    "### Modifying Through Scopes\n",
    "\n",
    "Modifications through scoped views update the main state."
   ]
  },
  {
   "cell_type": "code",
   "execution_count": 6,
   "id": "5dcc65fb61fcbecf",
   "metadata": {
    "ExecuteTime": {
     "end_time": "2025-09-03T14:30:29.809909Z",
     "start_time": "2025-09-03T14:30:29.806226Z"
    }
   },
   "outputs": [
    {
     "data": {
      "text/plain": [
       "{'seed': 42, 'train.lr': 0.001, 'model': 'resnet18', 'train.epochs': 10}"
      ]
     },
     "execution_count": 6,
     "metadata": {},
     "output_type": "execute_result"
    }
   ],
   "source": [
    "train[\"epochs\"] = 10  # adds \"train.epochs\" to the state\n",
    "s.to_dict()"
   ]
  },
  {
   "cell_type": "markdown",
   "id": "60e879ecd92e45fe",
   "metadata": {},
   "source": [
    "### Deletion Through Scopes\n",
    "\n",
    "Delete entries from the main state using scoped views."
   ]
  },
  {
   "cell_type": "code",
   "execution_count": 7,
   "id": "bec22adf8ab250f0",
   "metadata": {
    "ExecuteTime": {
     "end_time": "2025-09-03T14:30:57.999312Z",
     "start_time": "2025-09-03T14:30:57.992938Z"
    }
   },
   "outputs": [
    {
     "data": {
      "text/plain": [
       "State(size=3, data={'seed': 42, 'model': 'resnet18', 'train.epochs': 10})"
      ]
     },
     "execution_count": 7,
     "metadata": {},
     "output_type": "execute_result"
    }
   ],
   "source": [
    "del train[\"lr\"]  # removes \"train.lr\" from state\n",
    "s"
   ]
  },
  {
   "cell_type": "markdown",
   "id": "a5f621da",
   "metadata": {},
   "source": [
    "## Type Safety\n",
    "\n",
    "Runtime type validation for stored values."
   ]
  },
  {
   "cell_type": "code",
   "execution_count": 8,
   "id": "921cf337",
   "metadata": {},
   "outputs": [
    {
     "name": "stdout",
     "output_type": "stream",
     "text": [
      "Current state:\n",
      "{'seed': 42, 'model': 'resnet18', 'train.epochs': 10, 'learning_rate': 0.001, 'batch_size': 32, 'model_name': 'resnet18', 'is_training': True, 'layers': [64, 128, 256]}\n"
     ]
    }
   ],
   "source": [
    "# Setup test data with various types\n",
    "s[\"learning_rate\"] = 0.001\n",
    "s[\"batch_size\"] = 32\n",
    "s[\"model_name\"] = \"resnet18\"\n",
    "s[\"is_training\"] = True\n",
    "s[\"layers\"] = [64, 128, 256]\n",
    "\n",
    "print(\"Current state:\")\n",
    "print(s.to_dict())"
   ]
  },
  {
   "cell_type": "markdown",
   "id": "fb360766",
   "metadata": {},
   "source": [
    "### Type Checking\n",
    "\n",
    "Check if a key exists and matches expected type without exceptions."
   ]
  },
  {
   "cell_type": "code",
   "execution_count": 9,
   "id": "22a28b58",
   "metadata": {},
   "outputs": [
    {
     "name": "stdout",
     "output_type": "stream",
     "text": [
      "Type checks:\n",
      "learning_rate is float: True\n",
      "batch_size is int: True\n",
      "model_name is str: True\n",
      "is_training is bool: True\n",
      "layers is list: True\n",
      "learning_rate is int: False\n",
      "nonexistent_key is str: False\n"
     ]
    }
   ],
   "source": [
    "# Check types - returns True/False\n",
    "print(\"Type checks:\")\n",
    "print(f\"learning_rate is float: {s.check_type('learning_rate', float)}\")\n",
    "print(f\"batch_size is int: {s.check_type('batch_size', int)}\")\n",
    "print(f\"model_name is str: {s.check_type('model_name', str)}\")\n",
    "print(f\"is_training is bool: {s.check_type('is_training', bool)}\")\n",
    "print(f\"layers is list: {s.check_type('layers', list)}\")\n",
    "\n",
    "# Check wrong types\n",
    "print(f\"learning_rate is int: {s.check_type('learning_rate', int)}\")\n",
    "print(f\"nonexistent_key is str: {s.check_type('nonexistent_key', str)}\")"
   ]
  },
  {
   "cell_type": "markdown",
   "id": "506a28f3",
   "metadata": {},
   "source": [
    "### Typed Access\n",
    "\n",
    "Retrieve values with guaranteed type safety. Raises exceptions for mismatches."
   ]
  },
  {
   "cell_type": "code",
   "execution_count": 10,
   "id": "0bcf4db6",
   "metadata": {},
   "outputs": [
    {
     "name": "stdout",
     "output_type": "stream",
     "text": [
      "Successful typed access:\n",
      "Learning rate (float): 0.001\n",
      "Batch size (int): 32\n",
      "Model name (str): resnet18\n"
     ]
    }
   ],
   "source": [
    "# Successful typed access\n",
    "lr = s.get_typed(\"learning_rate\", float)\n",
    "batch_sz = s.get_typed(\"batch_size\", int)\n",
    "model = s.get_typed(\"model_name\", str)\n",
    "\n",
    "print(\"Successful typed access:\")\n",
    "print(f\"Learning rate (float): {lr}\")\n",
    "print(f\"Batch size (int): {batch_sz}\")\n",
    "print(f\"Model name (str): {model}\")"
   ]
  },
  {
   "cell_type": "code",
   "execution_count": 11,
   "id": "e52f6e4b",
   "metadata": {},
   "outputs": [
    {
     "name": "stdout",
     "output_type": "stream",
     "text": [
      "\n",
      "Error handling:\n",
      "KeyError: \"Key 'missing_key' not found in state.\"\n",
      "TypeError: Expected value of type <class 'int'> for key 'learning_rate', got <class 'float'>.\n",
      "TypeError: Expected value of type <class 'str'> for key 'batch_size', got <class 'int'>.\n"
     ]
    }
   ],
   "source": [
    "# Error handling examples\n",
    "print(\"\\nError handling:\")\n",
    "\n",
    "# KeyError for missing key\n",
    "try:\n",
    "    s.get_typed(\"missing_key\", str)\n",
    "except KeyError as e:\n",
    "    print(f\"KeyError: {e}\")\n",
    "\n",
    "# TypeError for wrong type\n",
    "try:\n",
    "    s.get_typed(\"learning_rate\", int)  # learning_rate is float, not int\n",
    "except TypeError as e:\n",
    "    print(f\"TypeError: {e}\")\n",
    "\n",
    "# Another type mismatch\n",
    "try:\n",
    "    s.get_typed(\"batch_size\", str)  # batch_size is int, not str\n",
    "except TypeError as e:\n",
    "    print(f\"TypeError: {e}\")"
   ]
  }
 ],
 "metadata": {
  "kernelspec": {
   "display_name": ".venv",
   "language": "python",
   "name": "python3"
  },
  "language_info": {
   "codemirror_mode": {
    "name": "ipython",
    "version": 3
   },
   "file_extension": ".py",
   "mimetype": "text/x-python",
   "name": "python",
   "nbconvert_exporter": "python",
   "pygments_lexer": "ipython3",
   "version": "3.12.3"
  }
 },
 "nbformat": 4,
 "nbformat_minor": 5
}
