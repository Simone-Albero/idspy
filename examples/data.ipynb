{
 "cells": [
  {
   "cell_type": "markdown",
   "id": "7108a1bc13314802",
   "metadata": {},
   "source": [
    "# Data Management with idspy\n",
    "\n",
    "This notebook demonstrates the core data management capabilities of idspy through the `TabAccessor` extension and schema system. These tools provide organized and flexible data handling for machine learning workflows.\n",
    "\n",
    "## What you'll learn\n",
    "\n",
    "In this tutorial, you'll discover how to:\n",
    "\n",
    "1. **Define Data Schemas** - Organize your data structure with meaningful column roles\n",
    "2. **Use TabAccessor** - Access data subsets through an intuitive pandas extension\n",
    "3. **Handle Dynamic Updates** - Modify data roles and schemas on the fly\n",
    "4. **Create Data Partitions** - Split datasets into train/validation/test sets\n",
    "5. **Manage Partitioned Data** - Work with specific data splits while preserving structure\n",
    "\n",
    "## Key Benefits\n",
    "\n",
    "- **Structured Data Management**: Clear separation of features, targets, and metadata\n",
    "- **Flexible Role Assignment**: Dynamic column role updates without data copying\n",
    "- **Seamless Integration**: Works naturally with pandas DataFrames\n",
    "- **Partition Awareness**: Automatic handling of data splits with schema preservation\n",
    "\n",
    "---\n",
    "\n",
    "Let's start by setting up our environment and creating some sample data."
   ]
  },
  {
   "cell_type": "code",
   "execution_count": 26,
   "id": "b6d692b1",
   "metadata": {},
   "outputs": [],
   "source": [
    "import sys\n",
    "import os\n",
    "\n",
    "# Add the project root to Python path\n",
    "project_root = os.path.abspath(os.path.join(os.getcwd(), '..'))\n",
    "if project_root not in sys.path:\n",
    "    sys.path.insert(0, project_root)"
   ]
  },
  {
   "cell_type": "code",
   "execution_count": 27,
   "id": "186b6f68271517fc",
   "metadata": {
    "ExecuteTime": {
     "end_time": "2025-09-08T13:05:19.538793Z",
     "start_time": "2025-09-08T13:05:18.081296Z"
    }
   },
   "outputs": [
    {
     "name": "stdout",
     "output_type": "stream",
     "text": [
      "Our sample dataset:\n",
      "Shape: (10, 5)\n",
      "\n",
      "Column types:\n",
      "character    object\n",
      "coins         int64\n",
      "lives         int64\n",
      "power_up     object\n",
      "is_enemy      int64\n",
      "dtype: object\n",
      "\n",
      "First few rows:\n"
     ]
    },
    {
     "data": {
      "text/html": [
       "<div>\n",
       "<style scoped>\n",
       "    .dataframe tbody tr th:only-of-type {\n",
       "        vertical-align: middle;\n",
       "    }\n",
       "\n",
       "    .dataframe tbody tr th {\n",
       "        vertical-align: top;\n",
       "    }\n",
       "\n",
       "    .dataframe thead th {\n",
       "        text-align: right;\n",
       "    }\n",
       "</style>\n",
       "<table border=\"1\" class=\"dataframe\">\n",
       "  <thead>\n",
       "    <tr style=\"text-align: right;\">\n",
       "      <th></th>\n",
       "      <th>character</th>\n",
       "      <th>coins</th>\n",
       "      <th>lives</th>\n",
       "      <th>power_up</th>\n",
       "      <th>is_enemy</th>\n",
       "    </tr>\n",
       "    <tr>\n",
       "      <th>id</th>\n",
       "      <th></th>\n",
       "      <th></th>\n",
       "      <th></th>\n",
       "      <th></th>\n",
       "      <th></th>\n",
       "    </tr>\n",
       "  </thead>\n",
       "  <tbody>\n",
       "    <tr>\n",
       "      <th>0</th>\n",
       "      <td>Mario</td>\n",
       "      <td>120</td>\n",
       "      <td>3</td>\n",
       "      <td>Mushroom</td>\n",
       "      <td>0</td>\n",
       "    </tr>\n",
       "    <tr>\n",
       "      <th>1</th>\n",
       "      <td>Luigi</td>\n",
       "      <td>95</td>\n",
       "      <td>2</td>\n",
       "      <td>Mushroom</td>\n",
       "      <td>0</td>\n",
       "    </tr>\n",
       "    <tr>\n",
       "      <th>2</th>\n",
       "      <td>Peach</td>\n",
       "      <td>30</td>\n",
       "      <td>4</td>\n",
       "      <td>Star</td>\n",
       "      <td>0</td>\n",
       "    </tr>\n",
       "    <tr>\n",
       "      <th>3</th>\n",
       "      <td>Bowser</td>\n",
       "      <td>300</td>\n",
       "      <td>10</td>\n",
       "      <td>Fire Flower</td>\n",
       "      <td>1</td>\n",
       "    </tr>\n",
       "    <tr>\n",
       "      <th>4</th>\n",
       "      <td>Yoshi</td>\n",
       "      <td>60</td>\n",
       "      <td>5</td>\n",
       "      <td>Egg</td>\n",
       "      <td>0</td>\n",
       "    </tr>\n",
       "  </tbody>\n",
       "</table>\n",
       "</div>"
      ],
      "text/plain": [
       "   character  coins  lives     power_up  is_enemy\n",
       "id                                               \n",
       "0      Mario    120      3     Mushroom         0\n",
       "1      Luigi     95      2     Mushroom         0\n",
       "2      Peach     30      4         Star         0\n",
       "3     Bowser    300     10  Fire Flower         1\n",
       "4      Yoshi     60      5          Egg         0"
      ]
     },
     "execution_count": 27,
     "metadata": {},
     "output_type": "execute_result"
    }
   ],
   "source": [
    "import pandas as pd\n",
    "\n",
    "from src.idspy.data.schema import ColumnRole\n",
    "from src.idspy.data.partition import random_split\n",
    "from src.idspy.data.tab_accessor import TabAccessor\n",
    "\n",
    "# Create a sample Super Mario Bros. dataset with various data types\n",
    "df = pd.DataFrame({\n",
    "    \"character\": [\n",
    "        \"Mario\", \"Luigi\", \"Peach\", \"Bowser\", \"Yoshi\",\n",
    "        \"Toad\", \"Donkey Kong\", \"Wario\", \"Waluigi\", \"Koopa\"\n",
    "    ],\n",
    "    \"coins\": [120, 95, 30, 300, 60, 45, 150, 80, 70, 20],\n",
    "    \"lives\": [3, 2, 4, 10, 5, 1, 6, 1, 2, 1],\n",
    "    \"power_up\": [\n",
    "        \"Mushroom\", \"Mushroom\", \"Star\", \"Fire Flower\", \"Egg\",\n",
    "        \"Mushroom\", \"Banana\", \"Garlic\", \"Trickster\", \"Shell\"\n",
    "    ],\n",
    "    \"is_enemy\": [0, 0, 0, 1, 0, 0, 0, 1, 1, 1]\n",
    "})\n",
    "df.index.name = \"id\"\n",
    "\n",
    "print(\"Our sample dataset:\")\n",
    "print(f\"Shape: {df.shape}\")\n",
    "print(\"\\nColumn types:\")\n",
    "print(df.dtypes)\n",
    "print(\"\\nFirst few rows:\")\n",
    "df.head()"
   ]
  },
  {
   "cell_type": "markdown",
   "id": "a53d684d",
   "metadata": {},
   "source": [
    "## Sample Dataset Creation\n",
    "\n",
    "Now let's create a sample dataset to demonstrate the data management features. We'll use a Super Mario Bros. themed dataset with different types of columns:"
   ]
  },
  {
   "cell_type": "code",
   "execution_count": 28,
   "id": "61d19d859c0c5341",
   "metadata": {
    "ExecuteTime": {
     "end_time": "2025-09-08T13:05:19.572441Z",
     "start_time": "2025-09-08T13:05:19.569782Z"
    }
   },
   "outputs": [
    {
     "name": "stdout",
     "output_type": "stream",
     "text": [
      "Available methods in .tab namespace:\n",
      "  - add_role\n",
      "  - categorical\n",
      "  - columns\n",
      "  - features\n",
      "  - get_meta\n",
      "  - get_partition\n",
      "  - load_meta\n",
      "  - numerical\n",
      "  - partitions\n",
      "  - schema\n",
      "  - set_partitions_from_labels\n",
      "  - set_partitions_from_positions\n",
      "  - set_schema\n",
      "  - target\n",
      "  - test\n",
      "  - train\n",
      "  - update_role\n",
      "  - val\n",
      "\n",
      "TabAccessor type: <class 'src.idspy.data.tab_accessor.TabAccessor'>\n",
      "Original DataFrame type: <class 'pandas.core.frame.DataFrame'>\n"
     ]
    }
   ],
   "source": [
    "# The TabAccessor is automatically available on any DataFrame\n",
    "print(\"Available methods in .tab namespace:\")\n",
    "tab_methods = [method for method in dir(df.tab) if not method.startswith('_')]\n",
    "for method in tab_methods:\n",
    "    print(f\"  - {method}\")\n",
    "\n",
    "print(f\"\\nTabAccessor type: {type(df.tab)}\")\n",
    "print(f\"Original DataFrame type: {type(df)}\")"
   ]
  },
  {
   "cell_type": "markdown",
   "id": "538ad58b359660fe",
   "metadata": {},
   "source": [
    "## Understanding TabAccessor\n",
    "\n",
    "Before diving into schemas, let's understand what TabAccessor is and what it provides:\n",
    "\n",
    "The `TabAccessor` is a pandas extension that adds the `.tab` namespace to DataFrames. It provides structured data management capabilities while keeping your data as a regular pandas DataFrame."
   ]
  },
  {
   "cell_type": "code",
   "execution_count": 29,
   "id": "5d81aab5c25edb4e",
   "metadata": {
    "ExecuteTime": {
     "end_time": "2025-09-08T13:05:19.716464Z",
     "start_time": "2025-09-08T13:05:19.710208Z"
    }
   },
   "outputs": [
    {
     "name": "stdout",
     "output_type": "stream",
     "text": [
      "Schema successfully defined!\n",
      "✓ Numerical features: ['coins', 'lives']\n",
      "✓ Categorical features: ['character', 'power_up']\n",
      "✓ All features: ['coins', 'lives', 'character', 'power_up']\n",
      "✓ Target variable: is_enemy\n",
      "\n",
      "Schema type: <class 'src.idspy.data.schema.Schema'>\n"
     ]
    }
   ],
   "source": [
    "# Define the schema by assigning roles to columns\n",
    "df = df.tab.set_schema(\n",
    "    numerical=[\"coins\", \"lives\"],      # Continuous numeric values\n",
    "    categorical=[\"character\", \"power_up\"],  # Discrete categories\n",
    "    target=[\"is_enemy\"],               # What we want to predict\n",
    ")\n",
    "\n",
    "print(\"Schema successfully defined!\")\n",
    "print(f\"✓ Numerical features: {df.tab.schema.numerical}\")\n",
    "print(f\"✓ Categorical features: {df.tab.schema.categorical}\")\n",
    "print(f\"✓ All features: {df.tab.schema.features}\")\n",
    "print(f\"✓ Target variable: {df.tab.schema.target}\")\n",
    "\n",
    "# The schema is now part of the DataFrame\n",
    "print(f\"\\nSchema type: {type(df.tab.schema)}\")"
   ]
  },
  {
   "cell_type": "markdown",
   "id": "b55d4f8165f7b10",
   "metadata": {},
   "source": [
    "## Dynamic Schema Updates\n",
    "\n",
    "Schemas aren't set in stone! You can modify column roles dynamically as your analysis evolves. This is particularly useful when:\n",
    "\n",
    "- Exploring different feature representations\n",
    "- Converting continuous variables to categorical\n",
    "- Adding or removing features from your model\n",
    "\n",
    "Let's see how to update roles dynamically:"
   ]
  },
  {
   "cell_type": "code",
   "execution_count": 30,
   "id": "ec507288fc87a581",
   "metadata": {
    "ExecuteTime": {
     "end_time": "2025-09-08T13:05:19.812605Z",
     "start_time": "2025-09-08T13:05:19.809350Z"
    }
   },
   "outputs": [
    {
     "name": "stdout",
     "output_type": "stream",
     "text": [
      "Before role change:\n",
      "  Numerical: ['coins', 'lives']\n",
      "  Categorical: ['character', 'power_up']\n",
      "\n",
      "After role change:\n",
      "  Numerical: ['coins']\n",
      "  Categorical: ['character', 'power_up', 'lives']\n",
      "\n",
      "Note: Column 'lives' is now categorical, not numerical!\n"
     ]
    }
   ],
   "source": [
    "# Let's treat \"lives\" as categorical instead of numerical\n",
    "# This makes sense since lives are often discrete counts (1, 2, 3, etc.)\n",
    "print(\"Before role change:\")\n",
    "print(f\"  Numerical: {df.tab.schema.numerical}\")\n",
    "print(f\"  Categorical: {df.tab.schema.categorical}\")\n",
    "\n",
    "# Add categorical role to \"lives\" column\n",
    "df.tab.add_role(\"lives\", ColumnRole.CATEGORICAL)\n",
    "\n",
    "print(\"\\nAfter role change:\")\n",
    "print(f\"  Numerical: {df.tab.schema.numerical}\")\n",
    "print(f\"  Categorical: {df.tab.schema.categorical}\")\n",
    "\n",
    "print(f\"\\nNote: Column 'lives' is now categorical, not numerical!\")"
   ]
  },
  {
   "cell_type": "markdown",
   "id": "9640e8d8c9672d20",
   "metadata": {},
   "source": [
    "## Role-Based Data Access\n",
    "\n",
    "Now for the magic! With a schema defined, you can access data subsets based on their roles. This creates clean separation between features and targets, making your ML code more readable and maintainable.\n",
    "\n",
    "### Accessing Features and Targets"
   ]
  },
  {
   "cell_type": "code",
   "execution_count": 31,
   "id": "710627440896d740",
   "metadata": {
    "ExecuteTime": {
     "end_time": "2025-09-08T13:05:19.846200Z",
     "start_time": "2025-09-08T13:05:19.839377Z"
    }
   },
   "outputs": [
    {
     "name": "stdout",
     "output_type": "stream",
     "text": [
      "Feature matrix (X):\n",
      "Shape: (10, 4)\n"
     ]
    },
    {
     "data": {
      "text/html": [
       "<div>\n",
       "<style scoped>\n",
       "    .dataframe tbody tr th:only-of-type {\n",
       "        vertical-align: middle;\n",
       "    }\n",
       "\n",
       "    .dataframe tbody tr th {\n",
       "        vertical-align: top;\n",
       "    }\n",
       "\n",
       "    .dataframe thead th {\n",
       "        text-align: right;\n",
       "    }\n",
       "</style>\n",
       "<table border=\"1\" class=\"dataframe\">\n",
       "  <thead>\n",
       "    <tr style=\"text-align: right;\">\n",
       "      <th></th>\n",
       "      <th>coins</th>\n",
       "      <th>character</th>\n",
       "      <th>power_up</th>\n",
       "      <th>lives</th>\n",
       "    </tr>\n",
       "    <tr>\n",
       "      <th>id</th>\n",
       "      <th></th>\n",
       "      <th></th>\n",
       "      <th></th>\n",
       "      <th></th>\n",
       "    </tr>\n",
       "  </thead>\n",
       "  <tbody>\n",
       "    <tr>\n",
       "      <th>0</th>\n",
       "      <td>120</td>\n",
       "      <td>Mario</td>\n",
       "      <td>Mushroom</td>\n",
       "      <td>3</td>\n",
       "    </tr>\n",
       "    <tr>\n",
       "      <th>1</th>\n",
       "      <td>95</td>\n",
       "      <td>Luigi</td>\n",
       "      <td>Mushroom</td>\n",
       "      <td>2</td>\n",
       "    </tr>\n",
       "    <tr>\n",
       "      <th>2</th>\n",
       "      <td>30</td>\n",
       "      <td>Peach</td>\n",
       "      <td>Star</td>\n",
       "      <td>4</td>\n",
       "    </tr>\n",
       "    <tr>\n",
       "      <th>3</th>\n",
       "      <td>300</td>\n",
       "      <td>Bowser</td>\n",
       "      <td>Fire Flower</td>\n",
       "      <td>10</td>\n",
       "    </tr>\n",
       "    <tr>\n",
       "      <th>4</th>\n",
       "      <td>60</td>\n",
       "      <td>Yoshi</td>\n",
       "      <td>Egg</td>\n",
       "      <td>5</td>\n",
       "    </tr>\n",
       "  </tbody>\n",
       "</table>\n",
       "</div>"
      ],
      "text/plain": [
       "    coins character     power_up  lives\n",
       "id                                     \n",
       "0     120     Mario     Mushroom      3\n",
       "1      95     Luigi     Mushroom      2\n",
       "2      30     Peach         Star      4\n",
       "3     300    Bowser  Fire Flower     10\n",
       "4      60     Yoshi          Egg      5"
      ]
     },
     "metadata": {},
     "output_type": "display_data"
    },
    {
     "name": "stdout",
     "output_type": "stream",
     "text": [
      "\n",
      "Target vector (y):\n",
      "Shape: (10,)\n"
     ]
    },
    {
     "data": {
      "text/plain": [
       "id\n",
       "0    0\n",
       "1    0\n",
       "2    0\n",
       "3    1\n",
       "4    0\n",
       "Name: is_enemy, dtype: int64"
      ]
     },
     "metadata": {},
     "output_type": "display_data"
    }
   ],
   "source": [
    "# Access feature matrix (X) and target vector (y) like in scikit-learn\n",
    "X = df.tab.features  # All feature columns\n",
    "y = df.tab.target    # Target column(s)\n",
    "\n",
    "print(\"Feature matrix (X):\")\n",
    "print(f\"Shape: {X.shape}\")\n",
    "display(X.head())\n",
    "\n",
    "print(\"\\nTarget vector (y):\")\n",
    "print(f\"Shape: {y.shape}\")\n",
    "display(y.head())"
   ]
  },
  {
   "cell_type": "code",
   "execution_count": 32,
   "id": "4b67702885b37b28",
   "metadata": {
    "ExecuteTime": {
     "end_time": "2025-09-08T13:05:19.888669Z",
     "start_time": "2025-09-08T13:05:19.883264Z"
    }
   },
   "outputs": [
    {
     "name": "stdout",
     "output_type": "stream",
     "text": [
      "Original numerical data:\n",
      "    coins\n",
      "id       \n",
      "0     120\n",
      "1      95\n",
      "2      30\n",
      "3     300\n",
      "4      60\n",
      "\n",
      "After adding 2 to all numerical columns:\n",
      "    coins\n",
      "id       \n",
      "0     122\n",
      "1      97\n",
      "2      32\n",
      "3     302\n",
      "4      62\n",
      "\n",
      "Verification - updated DataFrame:\n",
      "    coins\n",
      "id       \n",
      "0     122\n",
      "1      97\n",
      "2      32\n",
      "3     302\n",
      "4      62\n"
     ]
    }
   ],
   "source": [
    "# Work with only numerical columns\n",
    "print(\"Original numerical data:\")\n",
    "print(df.tab.numerical.head())\n",
    "\n",
    "# Perform operations on numerical columns\n",
    "df.tab.numerical = df.tab.numerical + 2\n",
    "print(\"\\nAfter adding 2 to all numerical columns:\")\n",
    "print(df.tab.numerical.head())\n",
    "\n",
    "# The original DataFrame is updated too\n",
    "print(\"\\nVerification - updated DataFrame:\")\n",
    "print(df[[\"coins\"]].head())"
   ]
  },
  {
   "cell_type": "code",
   "execution_count": 33,
   "id": "2591bc91416c71a4",
   "metadata": {
    "ExecuteTime": {
     "end_time": "2025-09-08T13:05:19.963091Z",
     "start_time": "2025-09-08T13:05:19.953713Z"
    }
   },
   "outputs": [
    {
     "name": "stdout",
     "output_type": "stream",
     "text": [
      "Data types of numerical columns:\n",
      "coins    int64\n",
      "dtype: object\n",
      "\n",
      "Data types of categorical columns:\n",
      "character    object\n",
      "power_up     object\n",
      "lives         int64\n",
      "dtype: object\n"
     ]
    }
   ],
   "source": [
    "# Check data types of numerical columns\n",
    "print(\"Data types of numerical columns:\")\n",
    "print(df.tab.numerical.dtypes)\n",
    "\n",
    "# You can also access categorical columns\n",
    "print(\"\\nData types of categorical columns:\")\n",
    "print(df.tab.categorical.dtypes)"
   ]
  },
  {
   "cell_type": "code",
   "execution_count": 34,
   "id": "8f07a1f0cfb4670f",
   "metadata": {
    "ExecuteTime": {
     "end_time": "2025-09-08T13:05:20.191105Z",
     "start_time": "2025-09-08T13:05:20.185875Z"
    }
   },
   "outputs": [
    {
     "name": "stdout",
     "output_type": "stream",
     "text": [
      "Before conversion:\n",
      "coins    int64\n",
      "dtype: object\n",
      "\n",
      "After conversion to float64:\n",
      "coins    float64\n",
      "dtype: object\n"
     ]
    }
   ],
   "source": [
    "# Type conversion is straightforward\n",
    "print(\"Before conversion:\")\n",
    "print(df.tab.numerical.dtypes)\n",
    "\n",
    "# Convert all numerical columns to float64\n",
    "df.tab.numerical = df.tab.numerical.astype(\"float64\")\n",
    "\n",
    "print(\"\\nAfter conversion to float64:\")\n",
    "print(df.tab.numerical.dtypes)"
   ]
  },
  {
   "cell_type": "markdown",
   "id": "7589f7ceb4af087a",
   "metadata": {},
   "source": [
    "## Data Partitioning\n",
    "\n",
    "One of the most powerful features is built-in support for data partitioning. You can split your data into train/validation/test sets while preserving the schema across all partitions.\n",
    "\n",
    "### Creating Data Splits"
   ]
  },
  {
   "cell_type": "code",
   "execution_count": 35,
   "id": "dacf140728ea30b2",
   "metadata": {
    "ExecuteTime": {
     "end_time": "2025-09-08T13:05:20.270669Z",
     "start_time": "2025-09-08T13:05:20.243363Z"
    }
   },
   "outputs": [
    {
     "name": "stdout",
     "output_type": "stream",
     "text": [
      "Data has been partitioned!\n",
      "Total samples: 10\n",
      "Train samples: 6\n",
      "Validation samples: 2\n",
      "Test samples: 2\n",
      "\n",
      "==================================================\n",
      "TRAINING SET:\n",
      "==================================================\n"
     ]
    },
    {
     "data": {
      "text/html": [
       "<div>\n",
       "<style scoped>\n",
       "    .dataframe tbody tr th:only-of-type {\n",
       "        vertical-align: middle;\n",
       "    }\n",
       "\n",
       "    .dataframe tbody tr th {\n",
       "        vertical-align: top;\n",
       "    }\n",
       "\n",
       "    .dataframe thead th {\n",
       "        text-align: right;\n",
       "    }\n",
       "</style>\n",
       "<table border=\"1\" class=\"dataframe\">\n",
       "  <thead>\n",
       "    <tr style=\"text-align: right;\">\n",
       "      <th></th>\n",
       "      <th>character</th>\n",
       "      <th>coins</th>\n",
       "      <th>lives</th>\n",
       "      <th>power_up</th>\n",
       "      <th>is_enemy</th>\n",
       "    </tr>\n",
       "    <tr>\n",
       "      <th>id</th>\n",
       "      <th></th>\n",
       "      <th></th>\n",
       "      <th></th>\n",
       "      <th></th>\n",
       "      <th></th>\n",
       "    </tr>\n",
       "  </thead>\n",
       "  <tbody>\n",
       "    <tr>\n",
       "      <th>0</th>\n",
       "      <td>Mario</td>\n",
       "      <td>122.0</td>\n",
       "      <td>3</td>\n",
       "      <td>Mushroom</td>\n",
       "      <td>0</td>\n",
       "    </tr>\n",
       "    <tr>\n",
       "      <th>2</th>\n",
       "      <td>Peach</td>\n",
       "      <td>32.0</td>\n",
       "      <td>4</td>\n",
       "      <td>Star</td>\n",
       "      <td>0</td>\n",
       "    </tr>\n",
       "    <tr>\n",
       "      <th>3</th>\n",
       "      <td>Bowser</td>\n",
       "      <td>302.0</td>\n",
       "      <td>10</td>\n",
       "      <td>Fire Flower</td>\n",
       "      <td>1</td>\n",
       "    </tr>\n",
       "    <tr>\n",
       "      <th>5</th>\n",
       "      <td>Toad</td>\n",
       "      <td>47.0</td>\n",
       "      <td>1</td>\n",
       "      <td>Mushroom</td>\n",
       "      <td>0</td>\n",
       "    </tr>\n",
       "    <tr>\n",
       "      <th>6</th>\n",
       "      <td>Donkey Kong</td>\n",
       "      <td>152.0</td>\n",
       "      <td>6</td>\n",
       "      <td>Banana</td>\n",
       "      <td>0</td>\n",
       "    </tr>\n",
       "    <tr>\n",
       "      <th>7</th>\n",
       "      <td>Wario</td>\n",
       "      <td>82.0</td>\n",
       "      <td>1</td>\n",
       "      <td>Garlic</td>\n",
       "      <td>1</td>\n",
       "    </tr>\n",
       "  </tbody>\n",
       "</table>\n",
       "</div>"
      ],
      "text/plain": [
       "      character  coins  lives     power_up  is_enemy\n",
       "id                                                  \n",
       "0         Mario  122.0      3     Mushroom         0\n",
       "2         Peach   32.0      4         Star         0\n",
       "3        Bowser  302.0     10  Fire Flower         1\n",
       "5          Toad   47.0      1     Mushroom         0\n",
       "6   Donkey Kong  152.0      6       Banana         0\n",
       "7         Wario   82.0      1       Garlic         1"
      ]
     },
     "metadata": {},
     "output_type": "display_data"
    },
    {
     "name": "stdout",
     "output_type": "stream",
     "text": [
      "\n",
      "==================================================\n",
      "VALIDATION SET:\n",
      "==================================================\n"
     ]
    },
    {
     "data": {
      "text/html": [
       "<div>\n",
       "<style scoped>\n",
       "    .dataframe tbody tr th:only-of-type {\n",
       "        vertical-align: middle;\n",
       "    }\n",
       "\n",
       "    .dataframe tbody tr th {\n",
       "        vertical-align: top;\n",
       "    }\n",
       "\n",
       "    .dataframe thead th {\n",
       "        text-align: right;\n",
       "    }\n",
       "</style>\n",
       "<table border=\"1\" class=\"dataframe\">\n",
       "  <thead>\n",
       "    <tr style=\"text-align: right;\">\n",
       "      <th></th>\n",
       "      <th>character</th>\n",
       "      <th>coins</th>\n",
       "      <th>lives</th>\n",
       "      <th>power_up</th>\n",
       "      <th>is_enemy</th>\n",
       "    </tr>\n",
       "    <tr>\n",
       "      <th>id</th>\n",
       "      <th></th>\n",
       "      <th></th>\n",
       "      <th></th>\n",
       "      <th></th>\n",
       "      <th></th>\n",
       "    </tr>\n",
       "  </thead>\n",
       "  <tbody>\n",
       "    <tr>\n",
       "      <th>1</th>\n",
       "      <td>Luigi</td>\n",
       "      <td>97.0</td>\n",
       "      <td>2</td>\n",
       "      <td>Mushroom</td>\n",
       "      <td>0</td>\n",
       "    </tr>\n",
       "    <tr>\n",
       "      <th>4</th>\n",
       "      <td>Yoshi</td>\n",
       "      <td>62.0</td>\n",
       "      <td>5</td>\n",
       "      <td>Egg</td>\n",
       "      <td>0</td>\n",
       "    </tr>\n",
       "  </tbody>\n",
       "</table>\n",
       "</div>"
      ],
      "text/plain": [
       "   character  coins  lives  power_up  is_enemy\n",
       "id                                            \n",
       "1      Luigi   97.0      2  Mushroom         0\n",
       "4      Yoshi   62.0      5       Egg         0"
      ]
     },
     "metadata": {},
     "output_type": "display_data"
    },
    {
     "name": "stdout",
     "output_type": "stream",
     "text": [
      "\n",
      "==================================================\n",
      "TEST SET:\n",
      "==================================================\n"
     ]
    },
    {
     "data": {
      "text/html": [
       "<div>\n",
       "<style scoped>\n",
       "    .dataframe tbody tr th:only-of-type {\n",
       "        vertical-align: middle;\n",
       "    }\n",
       "\n",
       "    .dataframe tbody tr th {\n",
       "        vertical-align: top;\n",
       "    }\n",
       "\n",
       "    .dataframe thead th {\n",
       "        text-align: right;\n",
       "    }\n",
       "</style>\n",
       "<table border=\"1\" class=\"dataframe\">\n",
       "  <thead>\n",
       "    <tr style=\"text-align: right;\">\n",
       "      <th></th>\n",
       "      <th>character</th>\n",
       "      <th>coins</th>\n",
       "      <th>lives</th>\n",
       "      <th>power_up</th>\n",
       "      <th>is_enemy</th>\n",
       "    </tr>\n",
       "    <tr>\n",
       "      <th>id</th>\n",
       "      <th></th>\n",
       "      <th></th>\n",
       "      <th></th>\n",
       "      <th></th>\n",
       "      <th></th>\n",
       "    </tr>\n",
       "  </thead>\n",
       "  <tbody>\n",
       "    <tr>\n",
       "      <th>8</th>\n",
       "      <td>Waluigi</td>\n",
       "      <td>72.0</td>\n",
       "      <td>2</td>\n",
       "      <td>Trickster</td>\n",
       "      <td>1</td>\n",
       "    </tr>\n",
       "    <tr>\n",
       "      <th>9</th>\n",
       "      <td>Koopa</td>\n",
       "      <td>22.0</td>\n",
       "      <td>1</td>\n",
       "      <td>Shell</td>\n",
       "      <td>1</td>\n",
       "    </tr>\n",
       "  </tbody>\n",
       "</table>\n",
       "</div>"
      ],
      "text/plain": [
       "   character  coins  lives   power_up  is_enemy\n",
       "id                                             \n",
       "8    Waluigi   72.0      2  Trickster         1\n",
       "9      Koopa   22.0      1      Shell         1"
      ]
     },
     "metadata": {},
     "output_type": "display_data"
    }
   ],
   "source": [
    "# Create stratified splits (60% train, 20% validation, 20% test)\n",
    "split_mapping = random_split(df, train_size=0.6, val_size=0.2, test_size=0.2)\n",
    "df.tab.set_partitions_from_labels(split_mapping)\n",
    "\n",
    "print(\"Data has been partitioned!\")\n",
    "print(f\"Total samples: {len(df)}\")\n",
    "print(f\"Train samples: {len(df.tab.train)}\")\n",
    "print(f\"Validation samples: {len(df.tab.val)}\")\n",
    "print(f\"Test samples: {len(df.tab.test)}\")\n",
    "\n",
    "print(\"\\n\" + \"=\"*50)\n",
    "print(\"TRAINING SET:\")\n",
    "print(\"=\"*50)\n",
    "display(df.tab.train)\n",
    "\n",
    "print(\"\\n\" + \"=\"*50)\n",
    "print(\"VALIDATION SET:\")\n",
    "print(\"=\"*50)\n",
    "display(df.tab.val)\n",
    "\n",
    "print(\"\\n\" + \"=\"*50)\n",
    "print(\"TEST SET:\")\n",
    "print(\"=\"*50)\n",
    "display(df.tab.test)"
   ]
  },
  {
   "cell_type": "code",
   "execution_count": 36,
   "id": "89fde56f83030070",
   "metadata": {
    "ExecuteTime": {
     "end_time": "2025-09-08T13:05:20.681712Z",
     "start_time": "2025-09-08T13:05:20.601797Z"
    }
   },
   "outputs": [
    {
     "name": "stdout",
     "output_type": "stream",
     "text": [
      "Original training data coins:\n",
      "      character  coins  is_enemy\n",
      "id                              \n",
      "0         Mario  122.0         0\n",
      "2         Peach   32.0         0\n",
      "3        Bowser  302.0         1\n",
      "5          Toad   47.0         0\n",
      "6   Donkey Kong  152.0         0\n",
      "7         Wario   82.0         1\n",
      "\n",
      "After giving heroes bonus coins:\n",
      "      character  coins  is_enemy\n",
      "id                              \n",
      "0         Mario  172.0         0\n",
      "2         Peach   82.0         0\n",
      "3        Bowser  302.0         1\n",
      "5          Toad   97.0         0\n",
      "6   Donkey Kong  202.0         0\n",
      "7         Wario   82.0         1\n",
      "\n",
      "Updated training set numerical features:\n"
     ]
    },
    {
     "data": {
      "text/html": [
       "<div>\n",
       "<style scoped>\n",
       "    .dataframe tbody tr th:only-of-type {\n",
       "        vertical-align: middle;\n",
       "    }\n",
       "\n",
       "    .dataframe tbody tr th {\n",
       "        vertical-align: top;\n",
       "    }\n",
       "\n",
       "    .dataframe thead th {\n",
       "        text-align: right;\n",
       "    }\n",
       "</style>\n",
       "<table border=\"1\" class=\"dataframe\">\n",
       "  <thead>\n",
       "    <tr style=\"text-align: right;\">\n",
       "      <th></th>\n",
       "      <th>coins</th>\n",
       "    </tr>\n",
       "    <tr>\n",
       "      <th>id</th>\n",
       "      <th></th>\n",
       "    </tr>\n",
       "  </thead>\n",
       "  <tbody>\n",
       "    <tr>\n",
       "      <th>0</th>\n",
       "      <td>172.0</td>\n",
       "    </tr>\n",
       "    <tr>\n",
       "      <th>2</th>\n",
       "      <td>82.0</td>\n",
       "    </tr>\n",
       "    <tr>\n",
       "      <th>3</th>\n",
       "      <td>302.0</td>\n",
       "    </tr>\n",
       "    <tr>\n",
       "      <th>5</th>\n",
       "      <td>97.0</td>\n",
       "    </tr>\n",
       "    <tr>\n",
       "      <th>6</th>\n",
       "      <td>202.0</td>\n",
       "    </tr>\n",
       "    <tr>\n",
       "      <th>7</th>\n",
       "      <td>82.0</td>\n",
       "    </tr>\n",
       "  </tbody>\n",
       "</table>\n",
       "</div>"
      ],
      "text/plain": [
       "    coins\n",
       "id       \n",
       "0   172.0\n",
       "2    82.0\n",
       "3   302.0\n",
       "5    97.0\n",
       "6   202.0\n",
       "7    82.0"
      ]
     },
     "metadata": {},
     "output_type": "display_data"
    }
   ],
   "source": [
    "# Example: Give hero characters bonus coins in training data\n",
    "df_train = df.tab.train.copy()\n",
    "print(\"Original training data coins:\")\n",
    "print(df_train[[\"character\", \"coins\", \"is_enemy\"]])\n",
    "\n",
    "# Add 50 coins to non-enemy characters (heroes)\n",
    "df_train.loc[df_train[\"is_enemy\"] == 0, \"coins\"] += 50\n",
    "\n",
    "print(\"\\nAfter giving heroes bonus coins:\")\n",
    "print(df_train[[\"character\", \"coins\", \"is_enemy\"]])\n",
    "\n",
    "# Update the training partition\n",
    "df.tab.train = df_train\n",
    "\n",
    "print(\"\\nUpdated training set numerical features:\")\n",
    "display(df.tab.train.tab.numerical)"
   ]
  },
  {
   "cell_type": "markdown",
   "id": "64d59300",
   "metadata": {},
   "source": [
    "## Key Takeaways\n",
    "\n",
    "1. **TabAccessor Integration**: The `.tab` namespace extends pandas DataFrames with structured data management\n",
    "2. **Schema-Driven Design**: Define column roles (numerical, categorical, target) for organized ML workflows  \n",
    "3. **Dynamic Flexibility**: Update column roles on-the-fly without copying data\n",
    "4. **Clean Data Access**: Use `df.tab.features`, `df.tab.target`, etc. for intuitive data selection\n",
    "5. **Partition Management**: Split data into train/val/test while preserving schemas across all partitions\n",
    "6. **Seamless Operations**: All pandas functionality remains available alongside schema features\n"
   ]
  }
 ],
 "metadata": {
  "kernelspec": {
   "display_name": ".venv",
   "language": "python",
   "name": "python3"
  },
  "language_info": {
   "codemirror_mode": {
    "name": "ipython",
    "version": 3
   },
   "file_extension": ".py",
   "mimetype": "text/x-python",
   "name": "python",
   "nbconvert_exporter": "python",
   "pygments_lexer": "ipython3",
   "version": "3.12.3"
  }
 },
 "nbformat": 4,
 "nbformat_minor": 5
}
