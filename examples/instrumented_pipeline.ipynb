{
 "cells": [
  {
   "cell_type": "code",
   "id": "initial_id",
   "metadata": {
    "collapsed": true,
    "ExecuteTime": {
     "end_time": "2025-08-11T17:10:41.960393Z",
     "start_time": "2025-08-11T17:10:41.915233Z"
    }
   },
   "source": [
    "import logging\n",
    "\n",
    "from src.idspy.core.pipeline import InstrumentedPipeline\n",
    "from src.idspy.core.state import State\n",
    "from src.idspy.core.step import Step\n",
    "from src.idspy.events.bus import EventBus\n",
    "from src.idspy.events.events import EventType\n",
    "from src.idspy.services.logger import setup_logging\n",
    "\n",
    "setup_logging()\n",
    "logger = logging.getLogger(__name__)"
   ],
   "outputs": [],
   "execution_count": 1
  },
  {
   "metadata": {
    "ExecuteTime": {
     "end_time": "2025-08-11T17:10:41.966055Z",
     "start_time": "2025-08-11T17:10:41.963631Z"
    }
   },
   "cell_type": "code",
   "source": [
    "class Step1(Step):\n",
    "    def _run(self, state: State):\n",
    "        logger.info(f\"Running {self.name} ...\")\n",
    "\n",
    "\n",
    "class Step2(Step):\n",
    "    def _run(self, state: State):\n",
    "        logger.info(f\"Running {self.name} ...\")\n",
    "\n",
    "\n",
    "class Step3(Step):\n",
    "    def _run(self, state: State):\n",
    "        logger.info(f\"Running {self.name} ...\")\n",
    "\n"
   ],
   "id": "91f8cd7bc5ca63a4",
   "outputs": [],
   "execution_count": 2
  },
  {
   "metadata": {
    "ExecuteTime": {
     "end_time": "2025-08-11T17:10:42.047324Z",
     "start_time": "2025-08-11T17:10:42.042609Z"
    }
   },
   "cell_type": "code",
   "source": [
    "bus = EventBus()\n",
    "bus.subscribe(EventType.PIPELINE_START, lambda e: logger.info(f\"Starting Pipeline: {e.id}\"))\n",
    "bus.subscribe(EventType.PIPELINE_END, lambda e: logger.info(f\"Finished Pipeline: {e.id}\"))\n",
    "bus.subscribe(EventType.STEP_START, lambda e: logger.info(f\"Starting Step: {e.id}\"))\n",
    "bus.subscribe(EventType.STEP_END, lambda e: logger.info(f\"Finished Step: {e.id}\"))\n",
    "\n",
    "bus.subscribe(EventType.STEP_START, lambda e: logger.info(f\"Event tailored for 'step2'.\"),\n",
    "              predicate=lambda e: e.id == \"InstrumentedPipeline.step2\")"
   ],
   "id": "9493f47b1f46de0f",
   "outputs": [
    {
     "data": {
      "text/plain": [
       "5"
      ]
     },
     "execution_count": 3,
     "metadata": {},
     "output_type": "execute_result"
    }
   ],
   "execution_count": 3
  },
  {
   "metadata": {
    "ExecuteTime": {
     "end_time": "2025-08-11T17:10:42.057263Z",
     "start_time": "2025-08-11T17:10:42.055782Z"
    }
   },
   "cell_type": "code",
   "source": [
    "pipeline = InstrumentedPipeline([\n",
    "    Step1(\"step1\"),\n",
    "    Step2(\"step2\"),\n",
    "    Step3(\"step3\")\n",
    "], bus=bus)"
   ],
   "id": "3dcde77d645a78a3",
   "outputs": [],
   "execution_count": 4
  },
  {
   "metadata": {
    "ExecuteTime": {
     "end_time": "2025-08-11T17:10:42.089837Z",
     "start_time": "2025-08-11T17:10:42.072427Z"
    }
   },
   "cell_type": "code",
   "source": "pipeline.run(State())",
   "id": "5946626ed6905dda",
   "outputs": [
    {
     "data": {
      "text/plain": [
       "\u001B[34mINFO    \u001B[0m \u001B[1;92m19:10:42\u001B[0m: Starting Pipeline: InstrumentedPipeline                                                         \n"
      ],
      "text/html": [
       "<pre style=\"white-space:pre;overflow-x:auto;line-height:normal;font-family:Menlo,'DejaVu Sans Mono',consolas,'Courier New',monospace\"><span style=\"color: #000080; text-decoration-color: #000080\">INFO    </span> <span style=\"color: #00ff00; text-decoration-color: #00ff00; font-weight: bold\">19:10:42</span>: Starting Pipeline: InstrumentedPipeline                                                         \n",
       "</pre>\n"
      ]
     },
     "metadata": {},
     "output_type": "display_data"
    },
    {
     "data": {
      "text/plain": [
       "\u001B[34mINFO    \u001B[0m \u001B[1;92m19:10:42\u001B[0m: Starting Step: InstrumentedPipeline.step1                                                       \n"
      ],
      "text/html": [
       "<pre style=\"white-space:pre;overflow-x:auto;line-height:normal;font-family:Menlo,'DejaVu Sans Mono',consolas,'Courier New',monospace\"><span style=\"color: #000080; text-decoration-color: #000080\">INFO    </span> <span style=\"color: #00ff00; text-decoration-color: #00ff00; font-weight: bold\">19:10:42</span>: Starting Step: InstrumentedPipeline.step1                                                       \n",
       "</pre>\n"
      ]
     },
     "metadata": {},
     "output_type": "display_data"
    },
    {
     "data": {
      "text/plain": [
       "\u001B[34mINFO    \u001B[0m \u001B[1;92m19:10:42\u001B[0m: Running step1 \u001B[33m...\u001B[0m                                                                               \n"
      ],
      "text/html": [
       "<pre style=\"white-space:pre;overflow-x:auto;line-height:normal;font-family:Menlo,'DejaVu Sans Mono',consolas,'Courier New',monospace\"><span style=\"color: #000080; text-decoration-color: #000080\">INFO    </span> <span style=\"color: #00ff00; text-decoration-color: #00ff00; font-weight: bold\">19:10:42</span>: Running step1 <span style=\"color: #808000; text-decoration-color: #808000\">...</span>                                                                               \n",
       "</pre>\n"
      ]
     },
     "metadata": {},
     "output_type": "display_data"
    },
    {
     "data": {
      "text/plain": [
       "\u001B[34mINFO    \u001B[0m \u001B[1;92m19:10:42\u001B[0m: Finished Step: InstrumentedPipeline.step1                                                       \n"
      ],
      "text/html": [
       "<pre style=\"white-space:pre;overflow-x:auto;line-height:normal;font-family:Menlo,'DejaVu Sans Mono',consolas,'Courier New',monospace\"><span style=\"color: #000080; text-decoration-color: #000080\">INFO    </span> <span style=\"color: #00ff00; text-decoration-color: #00ff00; font-weight: bold\">19:10:42</span>: Finished Step: InstrumentedPipeline.step1                                                       \n",
       "</pre>\n"
      ]
     },
     "metadata": {},
     "output_type": "display_data"
    },
    {
     "data": {
      "text/plain": [
       "\u001B[34mINFO    \u001B[0m \u001B[1;92m19:10:42\u001B[0m: Starting Step: InstrumentedPipeline.step2                                                       \n"
      ],
      "text/html": [
       "<pre style=\"white-space:pre;overflow-x:auto;line-height:normal;font-family:Menlo,'DejaVu Sans Mono',consolas,'Courier New',monospace\"><span style=\"color: #000080; text-decoration-color: #000080\">INFO    </span> <span style=\"color: #00ff00; text-decoration-color: #00ff00; font-weight: bold\">19:10:42</span>: Starting Step: InstrumentedPipeline.step2                                                       \n",
       "</pre>\n"
      ]
     },
     "metadata": {},
     "output_type": "display_data"
    },
    {
     "data": {
      "text/plain": [
       "\u001B[34mINFO    \u001B[0m \u001B[1;92m19:10:42\u001B[0m: Event tailored for \u001B[32m'step2'\u001B[0m.                                                                     \n"
      ],
      "text/html": [
       "<pre style=\"white-space:pre;overflow-x:auto;line-height:normal;font-family:Menlo,'DejaVu Sans Mono',consolas,'Courier New',monospace\"><span style=\"color: #000080; text-decoration-color: #000080\">INFO    </span> <span style=\"color: #00ff00; text-decoration-color: #00ff00; font-weight: bold\">19:10:42</span>: Event tailored for <span style=\"color: #008000; text-decoration-color: #008000\">'step2'</span>.                                                                     \n",
       "</pre>\n"
      ]
     },
     "metadata": {},
     "output_type": "display_data"
    },
    {
     "data": {
      "text/plain": [
       "\u001B[34mINFO    \u001B[0m \u001B[1;92m19:10:42\u001B[0m: Running step2 \u001B[33m...\u001B[0m                                                                               \n"
      ],
      "text/html": [
       "<pre style=\"white-space:pre;overflow-x:auto;line-height:normal;font-family:Menlo,'DejaVu Sans Mono',consolas,'Courier New',monospace\"><span style=\"color: #000080; text-decoration-color: #000080\">INFO    </span> <span style=\"color: #00ff00; text-decoration-color: #00ff00; font-weight: bold\">19:10:42</span>: Running step2 <span style=\"color: #808000; text-decoration-color: #808000\">...</span>                                                                               \n",
       "</pre>\n"
      ]
     },
     "metadata": {},
     "output_type": "display_data"
    },
    {
     "data": {
      "text/plain": [
       "\u001B[34mINFO    \u001B[0m \u001B[1;92m19:10:42\u001B[0m: Finished Step: InstrumentedPipeline.step2                                                       \n"
      ],
      "text/html": [
       "<pre style=\"white-space:pre;overflow-x:auto;line-height:normal;font-family:Menlo,'DejaVu Sans Mono',consolas,'Courier New',monospace\"><span style=\"color: #000080; text-decoration-color: #000080\">INFO    </span> <span style=\"color: #00ff00; text-decoration-color: #00ff00; font-weight: bold\">19:10:42</span>: Finished Step: InstrumentedPipeline.step2                                                       \n",
       "</pre>\n"
      ]
     },
     "metadata": {},
     "output_type": "display_data"
    },
    {
     "data": {
      "text/plain": [
       "\u001B[34mINFO    \u001B[0m \u001B[1;92m19:10:42\u001B[0m: Starting Step: InstrumentedPipeline.step3                                                       \n"
      ],
      "text/html": [
       "<pre style=\"white-space:pre;overflow-x:auto;line-height:normal;font-family:Menlo,'DejaVu Sans Mono',consolas,'Courier New',monospace\"><span style=\"color: #000080; text-decoration-color: #000080\">INFO    </span> <span style=\"color: #00ff00; text-decoration-color: #00ff00; font-weight: bold\">19:10:42</span>: Starting Step: InstrumentedPipeline.step3                                                       \n",
       "</pre>\n"
      ]
     },
     "metadata": {},
     "output_type": "display_data"
    },
    {
     "data": {
      "text/plain": [
       "\u001B[34mINFO    \u001B[0m \u001B[1;92m19:10:42\u001B[0m: Running step3 \u001B[33m...\u001B[0m                                                                               \n"
      ],
      "text/html": [
       "<pre style=\"white-space:pre;overflow-x:auto;line-height:normal;font-family:Menlo,'DejaVu Sans Mono',consolas,'Courier New',monospace\"><span style=\"color: #000080; text-decoration-color: #000080\">INFO    </span> <span style=\"color: #00ff00; text-decoration-color: #00ff00; font-weight: bold\">19:10:42</span>: Running step3 <span style=\"color: #808000; text-decoration-color: #808000\">...</span>                                                                               \n",
       "</pre>\n"
      ]
     },
     "metadata": {},
     "output_type": "display_data"
    },
    {
     "data": {
      "text/plain": [
       "\u001B[34mINFO    \u001B[0m \u001B[1;92m19:10:42\u001B[0m: Finished Step: InstrumentedPipeline.step3                                                       \n"
      ],
      "text/html": [
       "<pre style=\"white-space:pre;overflow-x:auto;line-height:normal;font-family:Menlo,'DejaVu Sans Mono',consolas,'Courier New',monospace\"><span style=\"color: #000080; text-decoration-color: #000080\">INFO    </span> <span style=\"color: #00ff00; text-decoration-color: #00ff00; font-weight: bold\">19:10:42</span>: Finished Step: InstrumentedPipeline.step3                                                       \n",
       "</pre>\n"
      ]
     },
     "metadata": {},
     "output_type": "display_data"
    },
    {
     "data": {
      "text/plain": [
       "\u001B[34mINFO    \u001B[0m \u001B[1;92m19:10:42\u001B[0m: Finished Pipeline: InstrumentedPipeline                                                         \n"
      ],
      "text/html": [
       "<pre style=\"white-space:pre;overflow-x:auto;line-height:normal;font-family:Menlo,'DejaVu Sans Mono',consolas,'Courier New',monospace\"><span style=\"color: #000080; text-decoration-color: #000080\">INFO    </span> <span style=\"color: #00ff00; text-decoration-color: #00ff00; font-weight: bold\">19:10:42</span>: Finished Pipeline: InstrumentedPipeline                                                         \n",
       "</pre>\n"
      ]
     },
     "metadata": {},
     "output_type": "display_data"
    }
   ],
   "execution_count": 5
  }
 ],
 "metadata": {
  "kernelspec": {
   "display_name": "Python 3",
   "language": "python",
   "name": "python3"
  },
  "language_info": {
   "codemirror_mode": {
    "name": "ipython",
    "version": 2
   },
   "file_extension": ".py",
   "mimetype": "text/x-python",
   "name": "python",
   "nbconvert_exporter": "python",
   "pygments_lexer": "ipython2",
   "version": "2.7.6"
  }
 },
 "nbformat": 4,
 "nbformat_minor": 5
}
