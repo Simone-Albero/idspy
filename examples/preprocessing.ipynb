{
 "cells": [
  {
   "cell_type": "code",
   "id": "initial_id",
   "metadata": {
    "collapsed": true,
    "ExecuteTime": {
     "end_time": "2025-08-22T15:54:16.723549Z",
     "start_time": "2025-08-22T15:54:15.378578Z"
    }
   },
   "source": [
    "import logging\n",
    "\n",
    "import numpy as np\n",
    "import pandas as pd\n",
    "\n",
    "from src.idspy.core.pipeline import FittedPipeline, Pipeline\n",
    "from src.idspy.core.state import State\n",
    "from src.idspy.data.tabular_data import TabularData, TabularSchema\n",
    "from src.idspy.services.logger import setup_logging\n",
    "from src.idspy.steps.preprocessing.adjust import DropNulls\n",
    "from src.idspy.steps.preprocessing.map import TargetMap, FrequencyMap\n",
    "from src.idspy.steps.preprocessing.scale import StandardScale\n",
    "from src.idspy.steps.preprocessing.split import RandomSplit\n",
    "\n",
    "setup_logging()\n",
    "logger = logging.getLogger(__name__)\n",
    "rng = np.random.default_rng(42)"
   ],
   "outputs": [],
   "execution_count": 1
  },
  {
   "metadata": {
    "ExecuteTime": {
     "end_time": "2025-08-22T15:54:16.743586Z",
     "start_time": "2025-08-22T15:54:16.728445Z"
    }
   },
   "cell_type": "code",
   "source": [
    "data = {\n",
    "    \"age\": [25, 37, 45, 29, 52, 33, 41, np.nan, 60, 22, 38, 47, 31, 26, 55, 43, 39, np.inf, 68, 34],\n",
    "    \"income\": [32000, 58000, 72000, 40000, 90000, 51000, 67000, 45000, 110000, 28000, 60000, 80000, 80000, 35000,\n",
    "               95000, 70000, 62000, 76000, -np.inf, 54000],\n",
    "    \"score\": [0.81, 0.55, 0.72, 0.49, 0.91, 0.63, 0.70, 0.58, 0.96, 0.40, 0.40, 0.77, 0.60, 0.52, 0.88, 0.69, 0.66,\n",
    "              0.74, 0.45, 0.61],\n",
    "    \"city\": [\"Roma\", \"Milano\", \"Napoli\", \"Roma\", \"Torino\", \"Bologna\", \"Roma\", \"Milano\", \"Roma\", \"Firenze\", \"Roma\",\n",
    "             \"Napoli\", \"Cagliari\", \"Bari\", \"Roma\", \"Genova\", \"Roma\", \"Roma\", \"Trieste\", \"Roma\"],\n",
    "    \"device\": [\"mobile\", \"desktop\", \"mobile\", \"tablet\", \"desktop\", \"mobile\", \"mobile\", \"desktop\", \"tablet\", \"mobile\",\n",
    "               \"desktop\", \"tablet\", \"mobile\", \"mobile\", \"desktop\", \"mobile\", \"tablet\", \"desktop\", \"mobile\", \"smart_tv\"],\n",
    "    \"target\": [\"suspicious\", \"suspicious\", \"fraud\", \"benign\", \"fraud\", \"fraud\", \"benign\", \"suspicious\", \"benign\",\n",
    "               \"benign\",\n",
    "               \"fraud\", \"suspicious\", \"suspicious\", \"benign\", \"suspicious\", \"fraud\", \"benign\", \"fraud\", \"suspicious\",\n",
    "               \"benign\"],\n",
    "    \"amount\": [120.5, 45.0, 300.0, 89.9, 450.0, 200.0, 150.0, 99.0, 800.0, 20.0, 60.0, 250.0, 130.0, 75.0, 500.0, 220.0,\n",
    "               140.0, 310.0, 55.0, 180.0],\n",
    "    \"is_new_user\": [\"yes\", \"no\", \"no\", \"yes\", \"no\", \"no\", \"yes\", \"yes\", \"no\", \"no\", \"no\", \"yes\", \"yes\", \"no\", \"no\",\n",
    "                    \"yes\", \"no\", \"no\", \"yes\", \"no\"],\n",
    "}\n",
    "\n",
    "df = pd.DataFrame(data)\n",
    "\n",
    "df = df.sample(frac=1.0, random_state=123).reset_index(drop=True)\n",
    "logger.info(df.head())"
   ],
   "id": "148ee490111e78cb",
   "outputs": [
    {
     "data": {
      "text/plain": [
       "\u001B[34mINFO    \u001B[0m \u001B[1;92m17:54:16\u001B[0m:     age    income  score     city   device      target  amount is_new_user                      \n",
       "         \u001B[1;36m0\u001B[0m  \u001B[1;36m55.0\u001B[0m   \u001B[1;36m95000.0\u001B[0m   \u001B[1;36m0.88\u001B[0m     Roma  desktop  suspicious   \u001B[1;36m500.0\u001B[0m          no                                \n",
       "         \u001B[1;36m1\u001B[0m  \u001B[1;36m33.0\u001B[0m   \u001B[1;36m51000.0\u001B[0m   \u001B[1;36m0.63\u001B[0m  Bologna   mobile       fraud   \u001B[1;36m200.0\u001B[0m          no                                \n",
       "         \u001B[1;36m2\u001B[0m  \u001B[1;36m52.0\u001B[0m   \u001B[1;36m90000.0\u001B[0m   \u001B[1;36m0.91\u001B[0m   Torino  desktop       fraud   \u001B[1;36m450.0\u001B[0m          no                                \n",
       "         \u001B[1;36m3\u001B[0m   inf   \u001B[1;36m76000.0\u001B[0m   \u001B[1;36m0.74\u001B[0m     Roma  desktop       fraud   \u001B[1;36m310.0\u001B[0m          no                                \n",
       "         \u001B[1;36m4\u001B[0m  \u001B[1;36m60.0\u001B[0m  \u001B[1;36m110000.0\u001B[0m   \u001B[1;36m0.96\u001B[0m     Roma   tablet      benign   \u001B[1;36m800.0\u001B[0m          no                                \n"
      ],
      "text/html": [
       "<pre style=\"white-space:pre;overflow-x:auto;line-height:normal;font-family:Menlo,'DejaVu Sans Mono',consolas,'Courier New',monospace\"><span style=\"color: #000080; text-decoration-color: #000080\">INFO    </span> <span style=\"color: #00ff00; text-decoration-color: #00ff00; font-weight: bold\">17:54:16</span>:     age    income  score     city   device      target  amount is_new_user                      \n",
       "         <span style=\"color: #008080; text-decoration-color: #008080; font-weight: bold\">0</span>  <span style=\"color: #008080; text-decoration-color: #008080; font-weight: bold\">55.0</span>   <span style=\"color: #008080; text-decoration-color: #008080; font-weight: bold\">95000.0</span>   <span style=\"color: #008080; text-decoration-color: #008080; font-weight: bold\">0.88</span>     Roma  desktop  suspicious   <span style=\"color: #008080; text-decoration-color: #008080; font-weight: bold\">500.0</span>          no                                \n",
       "         <span style=\"color: #008080; text-decoration-color: #008080; font-weight: bold\">1</span>  <span style=\"color: #008080; text-decoration-color: #008080; font-weight: bold\">33.0</span>   <span style=\"color: #008080; text-decoration-color: #008080; font-weight: bold\">51000.0</span>   <span style=\"color: #008080; text-decoration-color: #008080; font-weight: bold\">0.63</span>  Bologna   mobile       fraud   <span style=\"color: #008080; text-decoration-color: #008080; font-weight: bold\">200.0</span>          no                                \n",
       "         <span style=\"color: #008080; text-decoration-color: #008080; font-weight: bold\">2</span>  <span style=\"color: #008080; text-decoration-color: #008080; font-weight: bold\">52.0</span>   <span style=\"color: #008080; text-decoration-color: #008080; font-weight: bold\">90000.0</span>   <span style=\"color: #008080; text-decoration-color: #008080; font-weight: bold\">0.91</span>   Torino  desktop       fraud   <span style=\"color: #008080; text-decoration-color: #008080; font-weight: bold\">450.0</span>          no                                \n",
       "         <span style=\"color: #008080; text-decoration-color: #008080; font-weight: bold\">3</span>   inf   <span style=\"color: #008080; text-decoration-color: #008080; font-weight: bold\">76000.0</span>   <span style=\"color: #008080; text-decoration-color: #008080; font-weight: bold\">0.74</span>     Roma  desktop       fraud   <span style=\"color: #008080; text-decoration-color: #008080; font-weight: bold\">310.0</span>          no                                \n",
       "         <span style=\"color: #008080; text-decoration-color: #008080; font-weight: bold\">4</span>  <span style=\"color: #008080; text-decoration-color: #008080; font-weight: bold\">60.0</span>  <span style=\"color: #008080; text-decoration-color: #008080; font-weight: bold\">110000.0</span>   <span style=\"color: #008080; text-decoration-color: #008080; font-weight: bold\">0.96</span>     Roma   tablet      benign   <span style=\"color: #008080; text-decoration-color: #008080; font-weight: bold\">800.0</span>          no                                \n",
       "</pre>\n"
      ]
     },
     "metadata": {},
     "output_type": "display_data"
    }
   ],
   "execution_count": 2
  },
  {
   "metadata": {
    "ExecuteTime": {
     "end_time": "2025-08-22T15:54:16.838917Z",
     "start_time": "2025-08-22T15:54:16.836696Z"
    }
   },
   "cell_type": "code",
   "source": [
    "schema = TabularSchema(\n",
    "    target=\"target\",\n",
    "    numeric=(\"age\", \"income\", \"score\", \"amount\"),\n",
    "    categorical=(\"city\", \"device\", \"is_new_user\"),\n",
    ")\n",
    "\n",
    "tab = TabularData(df, schema)"
   ],
   "id": "2d99695bd845e946",
   "outputs": [],
   "execution_count": 3
  },
  {
   "metadata": {
    "ExecuteTime": {
     "end_time": "2025-08-22T15:54:16.846786Z",
     "start_time": "2025-08-22T15:54:16.844946Z"
    }
   },
   "cell_type": "code",
   "source": "s = State({\"data\": tab})",
   "id": "f0a985d893111c22",
   "outputs": [],
   "execution_count": 4
  },
  {
   "metadata": {
    "ExecuteTime": {
     "end_time": "2025-08-22T15:54:16.861570Z",
     "start_time": "2025-08-22T15:54:16.858359Z"
    }
   },
   "cell_type": "code",
   "source": [
    "cat_mapper = FrequencyMap(max_levels=3)\n",
    "fit_pipeline = FittedPipeline(\n",
    "    steps=[\n",
    "        StandardScale(),\n",
    "        cat_mapper,\n",
    "        TargetMap(),\n",
    "    ]\n",
    ")\n",
    "TargetMap()"
   ],
   "id": "b7c98fd66c7ade5d",
   "outputs": [
    {
     "data": {
      "text/plain": [
       "TargetMap(name='target_map', requires={'train', 'data'}, provides={'data'})"
      ]
     },
     "execution_count": 5,
     "metadata": {},
     "output_type": "execute_result"
    }
   ],
   "execution_count": 5
  },
  {
   "metadata": {
    "ExecuteTime": {
     "end_time": "2025-08-22T15:54:16.877022Z",
     "start_time": "2025-08-22T15:54:16.874947Z"
    }
   },
   "cell_type": "code",
   "source": [
    "pipeline = Pipeline(\n",
    "    steps=[\n",
    "        DropNulls(),\n",
    "        RandomSplit(),\n",
    "        fit_pipeline\n",
    "    ]\n",
    ")"
   ],
   "id": "1c1950401f66ef43",
   "outputs": [],
   "execution_count": 6
  },
  {
   "metadata": {
    "ExecuteTime": {
     "end_time": "2025-08-22T15:54:16.907536Z",
     "start_time": "2025-08-22T15:54:16.892479Z"
    }
   },
   "cell_type": "code",
   "source": "pipeline.run(s)",
   "id": "3e732291c74276ff",
   "outputs": [],
   "execution_count": 7
  },
  {
   "metadata": {
    "ExecuteTime": {
     "end_time": "2025-08-22T15:54:16.922536Z",
     "start_time": "2025-08-22T15:54:16.913345Z"
    }
   },
   "cell_type": "code",
   "source": [
    "logger.info(f\"Category mapping:\\n{cat_mapper.cat_types}\")\n",
    "\n",
    "for c in schema.categorical:\n",
    "    logger.info(s[\"data\"].df[c].value_counts())"
   ],
   "id": "7736f3c08cc7f447",
   "outputs": [
    {
     "data": {
      "text/plain": [
       "\u001B[34mINFO    \u001B[0m \u001B[1;92m17:54:16\u001B[0m: Category mapping:                                                                               \n",
       "         \u001B[1m{\u001B[0m\u001B[32m'city'\u001B[0m: \u001B[1;35mCategoricalDtype\u001B[0m\u001B[1m(\u001B[0m\u001B[33mcategories\u001B[0m=\u001B[1m[\u001B[0m\u001B[32m'Roma'\u001B[0m, \u001B[32m'Genova'\u001B[0m, \u001B[32m'Bari'\u001B[0m\u001B[1m]\u001B[0m, \u001B[33mordered\u001B[0m=\u001B[3;92mTrue\u001B[0m, \u001B[33mcategories_dtype\u001B[0m=\u001B[35mobject\u001B[0m\u001B[1m)\u001B[0m,  \n",
       "         \u001B[32m'device'\u001B[0m: \u001B[1;35mCategoricalDtype\u001B[0m\u001B[1m(\u001B[0m\u001B[33mcategories\u001B[0m=\u001B[1m[\u001B[0m\u001B[32m'mobile'\u001B[0m, \u001B[32m'desktop'\u001B[0m, \u001B[32m'tablet'\u001B[0m\u001B[1m]\u001B[0m, \u001B[33mordered\u001B[0m=\u001B[3;92mTrue\u001B[0m,                      \n",
       "         \u001B[33mcategories_dtype\u001B[0m=\u001B[35mobject\u001B[0m\u001B[1m)\u001B[0m, \u001B[32m'is_new_user'\u001B[0m: \u001B[1;35mCategoricalDtype\u001B[0m\u001B[1m(\u001B[0m\u001B[33mcategories\u001B[0m=\u001B[1m[\u001B[0m\u001B[32m'no'\u001B[0m, \u001B[32m'yes'\u001B[0m\u001B[1m]\u001B[0m, \u001B[33mordered\u001B[0m=\u001B[3;92mTrue\u001B[0m,         \n",
       "         \u001B[33mcategories_dtype\u001B[0m=\u001B[35mobject\u001B[0m\u001B[1m)\u001B[0m\u001B[1m}\u001B[0m                                                                                 \n"
      ],
      "text/html": [
       "<pre style=\"white-space:pre;overflow-x:auto;line-height:normal;font-family:Menlo,'DejaVu Sans Mono',consolas,'Courier New',monospace\"><span style=\"color: #000080; text-decoration-color: #000080\">INFO    </span> <span style=\"color: #00ff00; text-decoration-color: #00ff00; font-weight: bold\">17:54:16</span>: Category mapping:                                                                               \n",
       "         <span style=\"font-weight: bold\">{</span><span style=\"color: #008000; text-decoration-color: #008000\">'city'</span>: <span style=\"color: #800080; text-decoration-color: #800080; font-weight: bold\">CategoricalDtype</span><span style=\"font-weight: bold\">(</span><span style=\"color: #808000; text-decoration-color: #808000\">categories</span>=<span style=\"font-weight: bold\">[</span><span style=\"color: #008000; text-decoration-color: #008000\">'Roma'</span>, <span style=\"color: #008000; text-decoration-color: #008000\">'Genova'</span>, <span style=\"color: #008000; text-decoration-color: #008000\">'Bari'</span><span style=\"font-weight: bold\">]</span>, <span style=\"color: #808000; text-decoration-color: #808000\">ordered</span>=<span style=\"color: #00ff00; text-decoration-color: #00ff00; font-style: italic\">True</span>, <span style=\"color: #808000; text-decoration-color: #808000\">categories_dtype</span>=<span style=\"color: #800080; text-decoration-color: #800080\">object</span><span style=\"font-weight: bold\">)</span>,  \n",
       "         <span style=\"color: #008000; text-decoration-color: #008000\">'device'</span>: <span style=\"color: #800080; text-decoration-color: #800080; font-weight: bold\">CategoricalDtype</span><span style=\"font-weight: bold\">(</span><span style=\"color: #808000; text-decoration-color: #808000\">categories</span>=<span style=\"font-weight: bold\">[</span><span style=\"color: #008000; text-decoration-color: #008000\">'mobile'</span>, <span style=\"color: #008000; text-decoration-color: #008000\">'desktop'</span>, <span style=\"color: #008000; text-decoration-color: #008000\">'tablet'</span><span style=\"font-weight: bold\">]</span>, <span style=\"color: #808000; text-decoration-color: #808000\">ordered</span>=<span style=\"color: #00ff00; text-decoration-color: #00ff00; font-style: italic\">True</span>,                      \n",
       "         <span style=\"color: #808000; text-decoration-color: #808000\">categories_dtype</span>=<span style=\"color: #800080; text-decoration-color: #800080\">object</span><span style=\"font-weight: bold\">)</span>, <span style=\"color: #008000; text-decoration-color: #008000\">'is_new_user'</span>: <span style=\"color: #800080; text-decoration-color: #800080; font-weight: bold\">CategoricalDtype</span><span style=\"font-weight: bold\">(</span><span style=\"color: #808000; text-decoration-color: #808000\">categories</span>=<span style=\"font-weight: bold\">[</span><span style=\"color: #008000; text-decoration-color: #008000\">'no'</span>, <span style=\"color: #008000; text-decoration-color: #008000\">'yes'</span><span style=\"font-weight: bold\">]</span>, <span style=\"color: #808000; text-decoration-color: #808000\">ordered</span>=<span style=\"color: #00ff00; text-decoration-color: #00ff00; font-style: italic\">True</span>,         \n",
       "         <span style=\"color: #808000; text-decoration-color: #808000\">categories_dtype</span>=<span style=\"color: #800080; text-decoration-color: #800080\">object</span><span style=\"font-weight: bold\">)}</span>                                                                                 \n",
       "</pre>\n"
      ]
     },
     "metadata": {},
     "output_type": "display_data"
    },
    {
     "data": {
      "text/plain": [
       "\u001B[34mINFO    \u001B[0m \u001B[1;92m17:54:16\u001B[0m: city                                                                                            \n",
       "         \u001B[1;36m1\u001B[0m    \u001B[1;36m8\u001B[0m                                                                                                    \n",
       "         \u001B[1;36m0\u001B[0m    \u001B[1;36m7\u001B[0m                                                                                                    \n",
       "         \u001B[1;36m2\u001B[0m    \u001B[1;36m1\u001B[0m                                                                                                    \n",
       "         \u001B[1;36m3\u001B[0m    \u001B[1;36m1\u001B[0m                                                                                                    \n",
       "         Name: count, dtype: int64                                                                                 \n"
      ],
      "text/html": [
       "<pre style=\"white-space:pre;overflow-x:auto;line-height:normal;font-family:Menlo,'DejaVu Sans Mono',consolas,'Courier New',monospace\"><span style=\"color: #000080; text-decoration-color: #000080\">INFO    </span> <span style=\"color: #00ff00; text-decoration-color: #00ff00; font-weight: bold\">17:54:16</span>: city                                                                                            \n",
       "         <span style=\"color: #008080; text-decoration-color: #008080; font-weight: bold\">1</span>    <span style=\"color: #008080; text-decoration-color: #008080; font-weight: bold\">8</span>                                                                                                    \n",
       "         <span style=\"color: #008080; text-decoration-color: #008080; font-weight: bold\">0</span>    <span style=\"color: #008080; text-decoration-color: #008080; font-weight: bold\">7</span>                                                                                                    \n",
       "         <span style=\"color: #008080; text-decoration-color: #008080; font-weight: bold\">2</span>    <span style=\"color: #008080; text-decoration-color: #008080; font-weight: bold\">1</span>                                                                                                    \n",
       "         <span style=\"color: #008080; text-decoration-color: #008080; font-weight: bold\">3</span>    <span style=\"color: #008080; text-decoration-color: #008080; font-weight: bold\">1</span>                                                                                                    \n",
       "         Name: count, dtype: int64                                                                                 \n",
       "</pre>\n"
      ]
     },
     "metadata": {},
     "output_type": "display_data"
    },
    {
     "data": {
      "text/plain": [
       "\u001B[34mINFO    \u001B[0m \u001B[1;92m17:54:16\u001B[0m: device                                                                                          \n",
       "         \u001B[1;36m1\u001B[0m    \u001B[1;36m8\u001B[0m                                                                                                    \n",
       "         \u001B[1;36m2\u001B[0m    \u001B[1;36m4\u001B[0m                                                                                                    \n",
       "         \u001B[1;36m3\u001B[0m    \u001B[1;36m4\u001B[0m                                                                                                    \n",
       "         \u001B[1;36m0\u001B[0m    \u001B[1;36m1\u001B[0m                                                                                                    \n",
       "         Name: count, dtype: int64                                                                                 \n"
      ],
      "text/html": [
       "<pre style=\"white-space:pre;overflow-x:auto;line-height:normal;font-family:Menlo,'DejaVu Sans Mono',consolas,'Courier New',monospace\"><span style=\"color: #000080; text-decoration-color: #000080\">INFO    </span> <span style=\"color: #00ff00; text-decoration-color: #00ff00; font-weight: bold\">17:54:16</span>: device                                                                                          \n",
       "         <span style=\"color: #008080; text-decoration-color: #008080; font-weight: bold\">1</span>    <span style=\"color: #008080; text-decoration-color: #008080; font-weight: bold\">8</span>                                                                                                    \n",
       "         <span style=\"color: #008080; text-decoration-color: #008080; font-weight: bold\">2</span>    <span style=\"color: #008080; text-decoration-color: #008080; font-weight: bold\">4</span>                                                                                                    \n",
       "         <span style=\"color: #008080; text-decoration-color: #008080; font-weight: bold\">3</span>    <span style=\"color: #008080; text-decoration-color: #008080; font-weight: bold\">4</span>                                                                                                    \n",
       "         <span style=\"color: #008080; text-decoration-color: #008080; font-weight: bold\">0</span>    <span style=\"color: #008080; text-decoration-color: #008080; font-weight: bold\">1</span>                                                                                                    \n",
       "         Name: count, dtype: int64                                                                                 \n",
       "</pre>\n"
      ]
     },
     "metadata": {},
     "output_type": "display_data"
    },
    {
     "data": {
      "text/plain": [
       "\u001B[34mINFO    \u001B[0m \u001B[1;92m17:54:16\u001B[0m: is_new_user                                                                                     \n",
       "         \u001B[1;36m1\u001B[0m    \u001B[1;36m11\u001B[0m                                                                                                   \n",
       "         \u001B[1;36m2\u001B[0m     \u001B[1;36m6\u001B[0m                                                                                                   \n",
       "         Name: count, dtype: int64                                                                                 \n"
      ],
      "text/html": [
       "<pre style=\"white-space:pre;overflow-x:auto;line-height:normal;font-family:Menlo,'DejaVu Sans Mono',consolas,'Courier New',monospace\"><span style=\"color: #000080; text-decoration-color: #000080\">INFO    </span> <span style=\"color: #00ff00; text-decoration-color: #00ff00; font-weight: bold\">17:54:16</span>: is_new_user                                                                                     \n",
       "         <span style=\"color: #008080; text-decoration-color: #008080; font-weight: bold\">1</span>    <span style=\"color: #008080; text-decoration-color: #008080; font-weight: bold\">11</span>                                                                                                   \n",
       "         <span style=\"color: #008080; text-decoration-color: #008080; font-weight: bold\">2</span>     <span style=\"color: #008080; text-decoration-color: #008080; font-weight: bold\">6</span>                                                                                                   \n",
       "         Name: count, dtype: int64                                                                                 \n",
       "</pre>\n"
      ]
     },
     "metadata": {},
     "output_type": "display_data"
    }
   ],
   "execution_count": 8
  },
  {
   "metadata": {
    "ExecuteTime": {
     "end_time": "2025-08-22T15:54:16.947297Z",
     "start_time": "2025-08-22T15:54:16.941795Z"
    }
   },
   "cell_type": "code",
   "source": "logger.info(s[\"data\"].df[[schema.target, schema.target + \"_encoded\"]])",
   "id": "53894e8b2ffb8c50",
   "outputs": [
    {
     "data": {
      "text/plain": [
       "\u001B[34mINFO    \u001B[0m \u001B[1;92m17:54:16\u001B[0m:         target target_encoded                                                                   \n",
       "         \u001B[1;36m0\u001B[0m   suspicious              \u001B[1;36m3\u001B[0m                                                                             \n",
       "         \u001B[1;36m1\u001B[0m        fraud              \u001B[1;36m1\u001B[0m                                                                             \n",
       "         \u001B[1;36m2\u001B[0m        fraud              \u001B[1;36m1\u001B[0m                                                                             \n",
       "         \u001B[1;36m4\u001B[0m       benign              \u001B[1;36m2\u001B[0m                                                                             \n",
       "         \u001B[1;36m6\u001B[0m       benign              \u001B[1;36m2\u001B[0m                                                                             \n",
       "         \u001B[1;36m7\u001B[0m   suspicious              \u001B[1;36m3\u001B[0m                                                                             \n",
       "         \u001B[1;36m8\u001B[0m   suspicious              \u001B[1;36m3\u001B[0m                                                                             \n",
       "         \u001B[1;36m9\u001B[0m        fraud              \u001B[1;36m1\u001B[0m                                                                             \n",
       "         \u001B[1;36m10\u001B[0m      benign              \u001B[1;36m2\u001B[0m                                                                             \n",
       "         \u001B[1;36m11\u001B[0m      benign              \u001B[1;36m2\u001B[0m                                                                             \n",
       "         \u001B[1;36m12\u001B[0m  suspicious              \u001B[1;36m3\u001B[0m                                                                             \n",
       "         \u001B[1;36m13\u001B[0m       fraud              \u001B[1;36m1\u001B[0m                                                                             \n",
       "         \u001B[1;36m14\u001B[0m      benign              \u001B[1;36m2\u001B[0m                                                                             \n",
       "         \u001B[1;36m15\u001B[0m  suspicious              \u001B[1;36m3\u001B[0m                                                                             \n",
       "         \u001B[1;36m16\u001B[0m      benign              \u001B[1;36m2\u001B[0m                                                                             \n",
       "         \u001B[1;36m18\u001B[0m       fraud              \u001B[1;36m1\u001B[0m                                                                             \n",
       "         \u001B[1;36m19\u001B[0m      benign              \u001B[1;36m2\u001B[0m                                                                             \n"
      ],
      "text/html": [
       "<pre style=\"white-space:pre;overflow-x:auto;line-height:normal;font-family:Menlo,'DejaVu Sans Mono',consolas,'Courier New',monospace\"><span style=\"color: #000080; text-decoration-color: #000080\">INFO    </span> <span style=\"color: #00ff00; text-decoration-color: #00ff00; font-weight: bold\">17:54:16</span>:         target target_encoded                                                                   \n",
       "         <span style=\"color: #008080; text-decoration-color: #008080; font-weight: bold\">0</span>   suspicious              <span style=\"color: #008080; text-decoration-color: #008080; font-weight: bold\">3</span>                                                                             \n",
       "         <span style=\"color: #008080; text-decoration-color: #008080; font-weight: bold\">1</span>        fraud              <span style=\"color: #008080; text-decoration-color: #008080; font-weight: bold\">1</span>                                                                             \n",
       "         <span style=\"color: #008080; text-decoration-color: #008080; font-weight: bold\">2</span>        fraud              <span style=\"color: #008080; text-decoration-color: #008080; font-weight: bold\">1</span>                                                                             \n",
       "         <span style=\"color: #008080; text-decoration-color: #008080; font-weight: bold\">4</span>       benign              <span style=\"color: #008080; text-decoration-color: #008080; font-weight: bold\">2</span>                                                                             \n",
       "         <span style=\"color: #008080; text-decoration-color: #008080; font-weight: bold\">6</span>       benign              <span style=\"color: #008080; text-decoration-color: #008080; font-weight: bold\">2</span>                                                                             \n",
       "         <span style=\"color: #008080; text-decoration-color: #008080; font-weight: bold\">7</span>   suspicious              <span style=\"color: #008080; text-decoration-color: #008080; font-weight: bold\">3</span>                                                                             \n",
       "         <span style=\"color: #008080; text-decoration-color: #008080; font-weight: bold\">8</span>   suspicious              <span style=\"color: #008080; text-decoration-color: #008080; font-weight: bold\">3</span>                                                                             \n",
       "         <span style=\"color: #008080; text-decoration-color: #008080; font-weight: bold\">9</span>        fraud              <span style=\"color: #008080; text-decoration-color: #008080; font-weight: bold\">1</span>                                                                             \n",
       "         <span style=\"color: #008080; text-decoration-color: #008080; font-weight: bold\">10</span>      benign              <span style=\"color: #008080; text-decoration-color: #008080; font-weight: bold\">2</span>                                                                             \n",
       "         <span style=\"color: #008080; text-decoration-color: #008080; font-weight: bold\">11</span>      benign              <span style=\"color: #008080; text-decoration-color: #008080; font-weight: bold\">2</span>                                                                             \n",
       "         <span style=\"color: #008080; text-decoration-color: #008080; font-weight: bold\">12</span>  suspicious              <span style=\"color: #008080; text-decoration-color: #008080; font-weight: bold\">3</span>                                                                             \n",
       "         <span style=\"color: #008080; text-decoration-color: #008080; font-weight: bold\">13</span>       fraud              <span style=\"color: #008080; text-decoration-color: #008080; font-weight: bold\">1</span>                                                                             \n",
       "         <span style=\"color: #008080; text-decoration-color: #008080; font-weight: bold\">14</span>      benign              <span style=\"color: #008080; text-decoration-color: #008080; font-weight: bold\">2</span>                                                                             \n",
       "         <span style=\"color: #008080; text-decoration-color: #008080; font-weight: bold\">15</span>  suspicious              <span style=\"color: #008080; text-decoration-color: #008080; font-weight: bold\">3</span>                                                                             \n",
       "         <span style=\"color: #008080; text-decoration-color: #008080; font-weight: bold\">16</span>      benign              <span style=\"color: #008080; text-decoration-color: #008080; font-weight: bold\">2</span>                                                                             \n",
       "         <span style=\"color: #008080; text-decoration-color: #008080; font-weight: bold\">18</span>       fraud              <span style=\"color: #008080; text-decoration-color: #008080; font-weight: bold\">1</span>                                                                             \n",
       "         <span style=\"color: #008080; text-decoration-color: #008080; font-weight: bold\">19</span>      benign              <span style=\"color: #008080; text-decoration-color: #008080; font-weight: bold\">2</span>                                                                             \n",
       "</pre>\n"
      ]
     },
     "metadata": {},
     "output_type": "display_data"
    }
   ],
   "execution_count": 9
  }
 ],
 "metadata": {
  "kernelspec": {
   "display_name": "Python 3",
   "language": "python",
   "name": "python3"
  },
  "language_info": {
   "codemirror_mode": {
    "name": "ipython",
    "version": 2
   },
   "file_extension": ".py",
   "mimetype": "text/x-python",
   "name": "python",
   "nbconvert_exporter": "python",
   "pygments_lexer": "ipython2",
   "version": "2.7.6"
  }
 },
 "nbformat": 4,
 "nbformat_minor": 5
}
