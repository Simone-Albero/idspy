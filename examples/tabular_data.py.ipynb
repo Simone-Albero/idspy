{
 "cells": [
  {
   "cell_type": "code",
   "id": "initial_id",
   "metadata": {
    "collapsed": true,
    "ExecuteTime": {
     "end_time": "2025-08-12T16:49:56.505906Z",
     "start_time": "2025-08-12T16:49:55.358235Z"
    }
   },
   "source": [
    "import logging\n",
    "from pathlib import Path\n",
    "\n",
    "import numpy as np\n",
    "import pandas as pd\n",
    "\n",
    "from src.idspy.data.split import random_split\n",
    "from src.idspy.data.tabular_data import TabularData, TabularSchema\n",
    "from src.idspy.data.tabular_repository import TabularDataRepository\n",
    "from src.idspy.services.logger import setup_logging\n",
    "\n",
    "setup_logging()\n",
    "logger = logging.getLogger(__name__)"
   ],
   "outputs": [],
   "execution_count": 1
  },
  {
   "metadata": {
    "ExecuteTime": {
     "end_time": "2025-08-12T16:49:56.596709Z",
     "start_time": "2025-08-12T16:49:56.593452Z"
    }
   },
   "cell_type": "code",
   "source": [
    "rng = np.random.default_rng(42)\n",
    "n = 12\n",
    "df = pd.DataFrame({\n",
    "    \"id\": range(1, n + 1),\n",
    "    \"age\": rng.integers(18, 70, size=n),\n",
    "    \"income\": rng.normal(30000, 8000, size=n).round(0),\n",
    "    \"city\": rng.choice([\"Roma\", \"Milano\", \"Torino\"], size=n),\n",
    "    \"label\": rng.choice([0, 1], size=n, p=[0.6, 0.4]),\n",
    "})\n",
    "df.set_index(\"id\", inplace=True)"
   ],
   "id": "66178dd3343bfb43",
   "outputs": [],
   "execution_count": 2
  },
  {
   "metadata": {
    "ExecuteTime": {
     "end_time": "2025-08-12T16:49:56.600984Z",
     "start_time": "2025-08-12T16:49:56.599517Z"
    }
   },
   "cell_type": "code",
   "source": [
    "schema = TabularSchema(\n",
    "    target=\"label\",\n",
    "    numeric=(\"age\", \"income\"),\n",
    "    categorical=(\"city\",),\n",
    ")"
   ],
   "id": "844e8a61d645d3bd",
   "outputs": [],
   "execution_count": 3
  },
  {
   "metadata": {
    "ExecuteTime": {
     "end_time": "2025-08-12T16:49:56.616519Z",
     "start_time": "2025-08-12T16:49:56.607091Z"
    }
   },
   "cell_type": "code",
   "source": [
    "tab = TabularData(_base=df, _schema=schema)\n",
    "\n",
    "logger.info(f\"numeric:\\n{tab.numeric}\")\n",
    "logger.info(f\"categorical:\\n{tab.categorical}\")"
   ],
   "id": "9fb7433b2018b3f2",
   "outputs": [
    {
     "data": {
      "text/plain": [
       "\u001B[34mINFO    \u001B[0m \u001B[1;92m18:49:56\u001B[0m: numeric:                                                                                        \n",
       "             age   income                                                                                          \n",
       "         id                                                                                                        \n",
       "         \u001B[1;36m1\u001B[0m    \u001B[1;36m22\u001B[0m  \u001B[1;36m31023.0\u001B[0m                                                                                          \n",
       "         \u001B[1;36m2\u001B[0m    \u001B[1;36m58\u001B[0m  \u001B[1;36m27470.0\u001B[0m                                                                                          \n",
       "         \u001B[1;36m3\u001B[0m    \u001B[1;36m52\u001B[0m  \u001B[1;36m29866.0\u001B[0m                                                                                          \n",
       "         \u001B[1;36m4\u001B[0m    \u001B[1;36m40\u001B[0m  \u001B[1;36m23176.0\u001B[0m                                                                                          \n",
       "         \u001B[1;36m5\u001B[0m    \u001B[1;36m40\u001B[0m  \u001B[1;36m37035.0\u001B[0m                                                                                          \n",
       "         \u001B[1;36m6\u001B[0m    \u001B[1;36m62\u001B[0m  \u001B[1;36m36222.0\u001B[0m                                                                                          \n",
       "         \u001B[1;36m7\u001B[0m    \u001B[1;36m22\u001B[0m  \u001B[1;36m30528.0\u001B[0m                                                                                          \n",
       "         \u001B[1;36m8\u001B[0m    \u001B[1;36m54\u001B[0m  \u001B[1;36m39018.0\u001B[0m                                                                                          \n",
       "         \u001B[1;36m9\u001B[0m    \u001B[1;36m28\u001B[0m  \u001B[1;36m33740.0\u001B[0m                                                                                          \n",
       "         \u001B[1;36m10\u001B[0m   \u001B[1;36m22\u001B[0m  \u001B[1;36m23126.0\u001B[0m                                                                                          \n",
       "         \u001B[1;36m11\u001B[0m   \u001B[1;36m45\u001B[0m  \u001B[1;36m32950.0\u001B[0m                                                                                          \n",
       "         \u001B[1;36m12\u001B[0m   \u001B[1;36m68\u001B[0m  \u001B[1;36m22329.0\u001B[0m                                                                                          \n"
      ],
      "text/html": [
       "<pre style=\"white-space:pre;overflow-x:auto;line-height:normal;font-family:Menlo,'DejaVu Sans Mono',consolas,'Courier New',monospace\"><span style=\"color: #000080; text-decoration-color: #000080\">INFO    </span> <span style=\"color: #00ff00; text-decoration-color: #00ff00; font-weight: bold\">18:49:56</span>: numeric:                                                                                        \n",
       "             age   income                                                                                          \n",
       "         id                                                                                                        \n",
       "         <span style=\"color: #008080; text-decoration-color: #008080; font-weight: bold\">1</span>    <span style=\"color: #008080; text-decoration-color: #008080; font-weight: bold\">22</span>  <span style=\"color: #008080; text-decoration-color: #008080; font-weight: bold\">31023.0</span>                                                                                          \n",
       "         <span style=\"color: #008080; text-decoration-color: #008080; font-weight: bold\">2</span>    <span style=\"color: #008080; text-decoration-color: #008080; font-weight: bold\">58</span>  <span style=\"color: #008080; text-decoration-color: #008080; font-weight: bold\">27470.0</span>                                                                                          \n",
       "         <span style=\"color: #008080; text-decoration-color: #008080; font-weight: bold\">3</span>    <span style=\"color: #008080; text-decoration-color: #008080; font-weight: bold\">52</span>  <span style=\"color: #008080; text-decoration-color: #008080; font-weight: bold\">29866.0</span>                                                                                          \n",
       "         <span style=\"color: #008080; text-decoration-color: #008080; font-weight: bold\">4</span>    <span style=\"color: #008080; text-decoration-color: #008080; font-weight: bold\">40</span>  <span style=\"color: #008080; text-decoration-color: #008080; font-weight: bold\">23176.0</span>                                                                                          \n",
       "         <span style=\"color: #008080; text-decoration-color: #008080; font-weight: bold\">5</span>    <span style=\"color: #008080; text-decoration-color: #008080; font-weight: bold\">40</span>  <span style=\"color: #008080; text-decoration-color: #008080; font-weight: bold\">37035.0</span>                                                                                          \n",
       "         <span style=\"color: #008080; text-decoration-color: #008080; font-weight: bold\">6</span>    <span style=\"color: #008080; text-decoration-color: #008080; font-weight: bold\">62</span>  <span style=\"color: #008080; text-decoration-color: #008080; font-weight: bold\">36222.0</span>                                                                                          \n",
       "         <span style=\"color: #008080; text-decoration-color: #008080; font-weight: bold\">7</span>    <span style=\"color: #008080; text-decoration-color: #008080; font-weight: bold\">22</span>  <span style=\"color: #008080; text-decoration-color: #008080; font-weight: bold\">30528.0</span>                                                                                          \n",
       "         <span style=\"color: #008080; text-decoration-color: #008080; font-weight: bold\">8</span>    <span style=\"color: #008080; text-decoration-color: #008080; font-weight: bold\">54</span>  <span style=\"color: #008080; text-decoration-color: #008080; font-weight: bold\">39018.0</span>                                                                                          \n",
       "         <span style=\"color: #008080; text-decoration-color: #008080; font-weight: bold\">9</span>    <span style=\"color: #008080; text-decoration-color: #008080; font-weight: bold\">28</span>  <span style=\"color: #008080; text-decoration-color: #008080; font-weight: bold\">33740.0</span>                                                                                          \n",
       "         <span style=\"color: #008080; text-decoration-color: #008080; font-weight: bold\">10</span>   <span style=\"color: #008080; text-decoration-color: #008080; font-weight: bold\">22</span>  <span style=\"color: #008080; text-decoration-color: #008080; font-weight: bold\">23126.0</span>                                                                                          \n",
       "         <span style=\"color: #008080; text-decoration-color: #008080; font-weight: bold\">11</span>   <span style=\"color: #008080; text-decoration-color: #008080; font-weight: bold\">45</span>  <span style=\"color: #008080; text-decoration-color: #008080; font-weight: bold\">32950.0</span>                                                                                          \n",
       "         <span style=\"color: #008080; text-decoration-color: #008080; font-weight: bold\">12</span>   <span style=\"color: #008080; text-decoration-color: #008080; font-weight: bold\">68</span>  <span style=\"color: #008080; text-decoration-color: #008080; font-weight: bold\">22329.0</span>                                                                                          \n",
       "</pre>\n"
      ]
     },
     "metadata": {},
     "output_type": "display_data"
    },
    {
     "data": {
      "text/plain": [
       "\u001B[34mINFO    \u001B[0m \u001B[1;92m18:49:56\u001B[0m: categorical:                                                                                    \n",
       "               city                                                                                                \n",
       "         id                                                                                                        \n",
       "         \u001B[1;36m1\u001B[0m   Torino                                                                                                \n",
       "         \u001B[1;36m2\u001B[0m   Torino                                                                                                \n",
       "         \u001B[1;36m3\u001B[0m     Roma                                                                                                \n",
       "         \u001B[1;36m4\u001B[0m   Milano                                                                                                \n",
       "         \u001B[1;36m5\u001B[0m     Roma                                                                                                \n",
       "         \u001B[1;36m6\u001B[0m   Torino                                                                                                \n",
       "         \u001B[1;36m7\u001B[0m   Torino                                                                                                \n",
       "         \u001B[1;36m8\u001B[0m   Milano                                                                                                \n",
       "         \u001B[1;36m9\u001B[0m     Roma                                                                                                \n",
       "         \u001B[1;36m10\u001B[0m  Torino                                                                                                \n",
       "         \u001B[1;36m11\u001B[0m  Milano                                                                                                \n",
       "         \u001B[1;36m12\u001B[0m  Torino                                                                                                \n"
      ],
      "text/html": [
       "<pre style=\"white-space:pre;overflow-x:auto;line-height:normal;font-family:Menlo,'DejaVu Sans Mono',consolas,'Courier New',monospace\"><span style=\"color: #000080; text-decoration-color: #000080\">INFO    </span> <span style=\"color: #00ff00; text-decoration-color: #00ff00; font-weight: bold\">18:49:56</span>: categorical:                                                                                    \n",
       "               city                                                                                                \n",
       "         id                                                                                                        \n",
       "         <span style=\"color: #008080; text-decoration-color: #008080; font-weight: bold\">1</span>   Torino                                                                                                \n",
       "         <span style=\"color: #008080; text-decoration-color: #008080; font-weight: bold\">2</span>   Torino                                                                                                \n",
       "         <span style=\"color: #008080; text-decoration-color: #008080; font-weight: bold\">3</span>     Roma                                                                                                \n",
       "         <span style=\"color: #008080; text-decoration-color: #008080; font-weight: bold\">4</span>   Milano                                                                                                \n",
       "         <span style=\"color: #008080; text-decoration-color: #008080; font-weight: bold\">5</span>     Roma                                                                                                \n",
       "         <span style=\"color: #008080; text-decoration-color: #008080; font-weight: bold\">6</span>   Torino                                                                                                \n",
       "         <span style=\"color: #008080; text-decoration-color: #008080; font-weight: bold\">7</span>   Torino                                                                                                \n",
       "         <span style=\"color: #008080; text-decoration-color: #008080; font-weight: bold\">8</span>   Milano                                                                                                \n",
       "         <span style=\"color: #008080; text-decoration-color: #008080; font-weight: bold\">9</span>     Roma                                                                                                \n",
       "         <span style=\"color: #008080; text-decoration-color: #008080; font-weight: bold\">10</span>  Torino                                                                                                \n",
       "         <span style=\"color: #008080; text-decoration-color: #008080; font-weight: bold\">11</span>  Milano                                                                                                \n",
       "         <span style=\"color: #008080; text-decoration-color: #008080; font-weight: bold\">12</span>  Torino                                                                                                \n",
       "</pre>\n"
      ]
     },
     "metadata": {},
     "output_type": "display_data"
    }
   ],
   "execution_count": 4
  },
  {
   "metadata": {
    "ExecuteTime": {
     "end_time": "2025-08-12T16:49:56.632725Z",
     "start_time": "2025-08-12T16:49:56.625188Z"
    }
   },
   "cell_type": "code",
   "source": [
    "num = tab.numeric\n",
    "num[\"age\"] = num[\"age\"] + 2\n",
    "num[\"income\"] = (num[\"income\"] * 1.05).round(0)\n",
    "tab.numeric = num\n",
    "\n",
    "cat = tab.categorical\n",
    "cat[\"city\"] = cat[\"city\"].replace({\"Milano\": \"MILANO\"})\n",
    "tab.categorical = cat\n",
    "\n",
    "logger.info(f\"features:\\n{tab.features}\")"
   ],
   "id": "8ed36888cc21bed",
   "outputs": [
    {
     "data": {
      "text/plain": [
       "\u001B[34mINFO    \u001B[0m \u001B[1;92m18:49:56\u001B[0m: features:                                                                                       \n",
       "             age   income    city                                                                                  \n",
       "         id                                                                                                        \n",
       "         \u001B[1;36m1\u001B[0m    \u001B[1;36m24\u001B[0m  \u001B[1;36m32574.0\u001B[0m  Torino                                                                                  \n",
       "         \u001B[1;36m2\u001B[0m    \u001B[1;36m60\u001B[0m  \u001B[1;36m28844.0\u001B[0m  Torino                                                                                  \n",
       "         \u001B[1;36m3\u001B[0m    \u001B[1;36m54\u001B[0m  \u001B[1;36m31359.0\u001B[0m    Roma                                                                                  \n",
       "         \u001B[1;36m4\u001B[0m    \u001B[1;36m42\u001B[0m  \u001B[1;36m24335.0\u001B[0m  MILANO                                                                                  \n",
       "         \u001B[1;36m5\u001B[0m    \u001B[1;36m42\u001B[0m  \u001B[1;36m38887.0\u001B[0m    Roma                                                                                  \n",
       "         \u001B[1;36m6\u001B[0m    \u001B[1;36m64\u001B[0m  \u001B[1;36m38033.0\u001B[0m  Torino                                                                                  \n",
       "         \u001B[1;36m7\u001B[0m    \u001B[1;36m24\u001B[0m  \u001B[1;36m32054.0\u001B[0m  Torino                                                                                  \n",
       "         \u001B[1;36m8\u001B[0m    \u001B[1;36m56\u001B[0m  \u001B[1;36m40969.0\u001B[0m  MILANO                                                                                  \n",
       "         \u001B[1;36m9\u001B[0m    \u001B[1;36m30\u001B[0m  \u001B[1;36m35427.0\u001B[0m    Roma                                                                                  \n",
       "         \u001B[1;36m10\u001B[0m   \u001B[1;36m24\u001B[0m  \u001B[1;36m24282.0\u001B[0m  Torino                                                                                  \n",
       "         \u001B[1;36m11\u001B[0m   \u001B[1;36m47\u001B[0m  \u001B[1;36m34598.0\u001B[0m  MILANO                                                                                  \n",
       "         \u001B[1;36m12\u001B[0m   \u001B[1;36m70\u001B[0m  \u001B[1;36m23445.0\u001B[0m  Torino                                                                                  \n"
      ],
      "text/html": [
       "<pre style=\"white-space:pre;overflow-x:auto;line-height:normal;font-family:Menlo,'DejaVu Sans Mono',consolas,'Courier New',monospace\"><span style=\"color: #000080; text-decoration-color: #000080\">INFO    </span> <span style=\"color: #00ff00; text-decoration-color: #00ff00; font-weight: bold\">18:49:56</span>: features:                                                                                       \n",
       "             age   income    city                                                                                  \n",
       "         id                                                                                                        \n",
       "         <span style=\"color: #008080; text-decoration-color: #008080; font-weight: bold\">1</span>    <span style=\"color: #008080; text-decoration-color: #008080; font-weight: bold\">24</span>  <span style=\"color: #008080; text-decoration-color: #008080; font-weight: bold\">32574.0</span>  Torino                                                                                  \n",
       "         <span style=\"color: #008080; text-decoration-color: #008080; font-weight: bold\">2</span>    <span style=\"color: #008080; text-decoration-color: #008080; font-weight: bold\">60</span>  <span style=\"color: #008080; text-decoration-color: #008080; font-weight: bold\">28844.0</span>  Torino                                                                                  \n",
       "         <span style=\"color: #008080; text-decoration-color: #008080; font-weight: bold\">3</span>    <span style=\"color: #008080; text-decoration-color: #008080; font-weight: bold\">54</span>  <span style=\"color: #008080; text-decoration-color: #008080; font-weight: bold\">31359.0</span>    Roma                                                                                  \n",
       "         <span style=\"color: #008080; text-decoration-color: #008080; font-weight: bold\">4</span>    <span style=\"color: #008080; text-decoration-color: #008080; font-weight: bold\">42</span>  <span style=\"color: #008080; text-decoration-color: #008080; font-weight: bold\">24335.0</span>  MILANO                                                                                  \n",
       "         <span style=\"color: #008080; text-decoration-color: #008080; font-weight: bold\">5</span>    <span style=\"color: #008080; text-decoration-color: #008080; font-weight: bold\">42</span>  <span style=\"color: #008080; text-decoration-color: #008080; font-weight: bold\">38887.0</span>    Roma                                                                                  \n",
       "         <span style=\"color: #008080; text-decoration-color: #008080; font-weight: bold\">6</span>    <span style=\"color: #008080; text-decoration-color: #008080; font-weight: bold\">64</span>  <span style=\"color: #008080; text-decoration-color: #008080; font-weight: bold\">38033.0</span>  Torino                                                                                  \n",
       "         <span style=\"color: #008080; text-decoration-color: #008080; font-weight: bold\">7</span>    <span style=\"color: #008080; text-decoration-color: #008080; font-weight: bold\">24</span>  <span style=\"color: #008080; text-decoration-color: #008080; font-weight: bold\">32054.0</span>  Torino                                                                                  \n",
       "         <span style=\"color: #008080; text-decoration-color: #008080; font-weight: bold\">8</span>    <span style=\"color: #008080; text-decoration-color: #008080; font-weight: bold\">56</span>  <span style=\"color: #008080; text-decoration-color: #008080; font-weight: bold\">40969.0</span>  MILANO                                                                                  \n",
       "         <span style=\"color: #008080; text-decoration-color: #008080; font-weight: bold\">9</span>    <span style=\"color: #008080; text-decoration-color: #008080; font-weight: bold\">30</span>  <span style=\"color: #008080; text-decoration-color: #008080; font-weight: bold\">35427.0</span>    Roma                                                                                  \n",
       "         <span style=\"color: #008080; text-decoration-color: #008080; font-weight: bold\">10</span>   <span style=\"color: #008080; text-decoration-color: #008080; font-weight: bold\">24</span>  <span style=\"color: #008080; text-decoration-color: #008080; font-weight: bold\">24282.0</span>  Torino                                                                                  \n",
       "         <span style=\"color: #008080; text-decoration-color: #008080; font-weight: bold\">11</span>   <span style=\"color: #008080; text-decoration-color: #008080; font-weight: bold\">47</span>  <span style=\"color: #008080; text-decoration-color: #008080; font-weight: bold\">34598.0</span>  MILANO                                                                                  \n",
       "         <span style=\"color: #008080; text-decoration-color: #008080; font-weight: bold\">12</span>   <span style=\"color: #008080; text-decoration-color: #008080; font-weight: bold\">70</span>  <span style=\"color: #008080; text-decoration-color: #008080; font-weight: bold\">23445.0</span>  Torino                                                                                  \n",
       "</pre>\n"
      ]
     },
     "metadata": {},
     "output_type": "display_data"
    }
   ],
   "execution_count": 5
  },
  {
   "metadata": {
    "ExecuteTime": {
     "end_time": "2025-08-12T16:49:56.645122Z",
     "start_time": "2025-08-12T16:49:56.639701Z"
    }
   },
   "cell_type": "code",
   "source": [
    "tab_view = tab.view_from_query(\"city == 'MILANO' and age > 50\")\n",
    "\n",
    "logger.info(f\"features:\\n{tab_view.features}\")"
   ],
   "id": "86bffd64bc768dd6",
   "outputs": [
    {
     "data": {
      "text/plain": [
       "\u001B[34mINFO    \u001B[0m \u001B[1;92m18:49:56\u001B[0m: features:                                                                                       \n",
       "             age   income    city                                                                                  \n",
       "         id                                                                                                        \n",
       "         \u001B[1;36m8\u001B[0m    \u001B[1;36m56\u001B[0m  \u001B[1;36m40969.0\u001B[0m  MILANO                                                                                  \n"
      ],
      "text/html": [
       "<pre style=\"white-space:pre;overflow-x:auto;line-height:normal;font-family:Menlo,'DejaVu Sans Mono',consolas,'Courier New',monospace\"><span style=\"color: #000080; text-decoration-color: #000080\">INFO    </span> <span style=\"color: #00ff00; text-decoration-color: #00ff00; font-weight: bold\">18:49:56</span>: features:                                                                                       \n",
       "             age   income    city                                                                                  \n",
       "         id                                                                                                        \n",
       "         <span style=\"color: #008080; text-decoration-color: #008080; font-weight: bold\">8</span>    <span style=\"color: #008080; text-decoration-color: #008080; font-weight: bold\">56</span>  <span style=\"color: #008080; text-decoration-color: #008080; font-weight: bold\">40969.0</span>  MILANO                                                                                  \n",
       "</pre>\n"
      ]
     },
     "metadata": {},
     "output_type": "display_data"
    }
   ],
   "execution_count": 6
  },
  {
   "metadata": {
    "ExecuteTime": {
     "end_time": "2025-08-12T16:49:56.659404Z",
     "start_time": "2025-08-12T16:49:56.653754Z"
    }
   },
   "cell_type": "code",
   "source": [
    "tab_view1 = tab.view_from_query(\"city == 'MILANO'\")\n",
    "tab_view2 = tab.view_from_query(\"age > 50\")\n",
    "\n",
    "tab_view = tab_view1.intersect(tab_view2)\n",
    "logger.info(f\"features:\\n{tab_view.features}\")"
   ],
   "id": "4137cdd5c47ebfff",
   "outputs": [
    {
     "data": {
      "text/plain": [
       "\u001B[34mINFO    \u001B[0m \u001B[1;92m18:49:56\u001B[0m: features:                                                                                       \n",
       "             age   income    city                                                                                  \n",
       "         id                                                                                                        \n",
       "         \u001B[1;36m8\u001B[0m    \u001B[1;36m56\u001B[0m  \u001B[1;36m40969.0\u001B[0m  MILANO                                                                                  \n"
      ],
      "text/html": [
       "<pre style=\"white-space:pre;overflow-x:auto;line-height:normal;font-family:Menlo,'DejaVu Sans Mono',consolas,'Courier New',monospace\"><span style=\"color: #000080; text-decoration-color: #000080\">INFO    </span> <span style=\"color: #00ff00; text-decoration-color: #00ff00; font-weight: bold\">18:49:56</span>: features:                                                                                       \n",
       "             age   income    city                                                                                  \n",
       "         id                                                                                                        \n",
       "         <span style=\"color: #008080; text-decoration-color: #008080; font-weight: bold\">8</span>    <span style=\"color: #008080; text-decoration-color: #008080; font-weight: bold\">56</span>  <span style=\"color: #008080; text-decoration-color: #008080; font-weight: bold\">40969.0</span>  MILANO                                                                                  \n",
       "</pre>\n"
      ]
     },
     "metadata": {},
     "output_type": "display_data"
    }
   ],
   "execution_count": 7
  },
  {
   "metadata": {
    "ExecuteTime": {
     "end_time": "2025-08-12T16:49:56.672781Z",
     "start_time": "2025-08-12T16:49:56.667774Z"
    }
   },
   "cell_type": "code",
   "source": [
    "cat = tab_view.categorical\n",
    "cat[\"city\"] = cat[\"city\"].replace({\"MILANO\": \"Milano\"})\n",
    "tab_view.categorical = cat\n",
    "\n",
    "logger.info(f\"features:\\n{tab_view.features}\")"
   ],
   "id": "e0956cfc397723ba",
   "outputs": [
    {
     "data": {
      "text/plain": [
       "\u001B[34mINFO    \u001B[0m \u001B[1;92m18:49:56\u001B[0m: features:                                                                                       \n",
       "             age   income    city                                                                                  \n",
       "         id                                                                                                        \n",
       "         \u001B[1;36m8\u001B[0m    \u001B[1;36m56\u001B[0m  \u001B[1;36m40969.0\u001B[0m  Milano                                                                                  \n"
      ],
      "text/html": [
       "<pre style=\"white-space:pre;overflow-x:auto;line-height:normal;font-family:Menlo,'DejaVu Sans Mono',consolas,'Courier New',monospace\"><span style=\"color: #000080; text-decoration-color: #000080\">INFO    </span> <span style=\"color: #00ff00; text-decoration-color: #00ff00; font-weight: bold\">18:49:56</span>: features:                                                                                       \n",
       "             age   income    city                                                                                  \n",
       "         id                                                                                                        \n",
       "         <span style=\"color: #008080; text-decoration-color: #008080; font-weight: bold\">8</span>    <span style=\"color: #008080; text-decoration-color: #008080; font-weight: bold\">56</span>  <span style=\"color: #008080; text-decoration-color: #008080; font-weight: bold\">40969.0</span>  Milano                                                                                  \n",
       "</pre>\n"
      ]
     },
     "metadata": {},
     "output_type": "display_data"
    }
   ],
   "execution_count": 8
  },
  {
   "metadata": {
    "ExecuteTime": {
     "end_time": "2025-08-12T16:49:56.695008Z",
     "start_time": "2025-08-12T16:49:56.689536Z"
    }
   },
   "cell_type": "code",
   "source": [
    "train_idx, val_idx, test_idx = random_split(\n",
    "    tab.data, train_size=0.7, val_size=0.15, test_size=0.15, random_state=123\n",
    ")\n",
    "\n",
    "train_view = tab.view(train_idx)\n",
    "val_view = tab.view(val_idx)\n",
    "test_view = tab.view(test_idx)\n",
    "\n",
    "logger.info(f\"train size: {len(train_view)}, val size: {len(val_view)}, test size: {len(test_view)}\")"
   ],
   "id": "dfa421543ad7ddff",
   "outputs": [
    {
     "data": {
      "text/plain": [
       "\u001B[34mINFO    \u001B[0m \u001B[1;92m18:49:56\u001B[0m: train size: \u001B[1;36m8\u001B[0m, val size: \u001B[1;36m2\u001B[0m, test size: \u001B[1;36m2\u001B[0m                                                        \n"
      ],
      "text/html": [
       "<pre style=\"white-space:pre;overflow-x:auto;line-height:normal;font-family:Menlo,'DejaVu Sans Mono',consolas,'Courier New',monospace\"><span style=\"color: #000080; text-decoration-color: #000080\">INFO    </span> <span style=\"color: #00ff00; text-decoration-color: #00ff00; font-weight: bold\">18:49:56</span>: train size: <span style=\"color: #008080; text-decoration-color: #008080; font-weight: bold\">8</span>, val size: <span style=\"color: #008080; text-decoration-color: #008080; font-weight: bold\">2</span>, test size: <span style=\"color: #008080; text-decoration-color: #008080; font-weight: bold\">2</span>                                                        \n",
       "</pre>\n"
      ]
     },
     "metadata": {},
     "output_type": "display_data"
    }
   ],
   "execution_count": 9
  },
  {
   "metadata": {
    "ExecuteTime": {
     "end_time": "2025-08-12T16:49:56.707984Z",
     "start_time": "2025-08-12T16:49:56.705969Z"
    }
   },
   "cell_type": "code",
   "source": [
    "train_tab = train_view.materialize()\n",
    "assert isinstance(train_tab, TabularData)"
   ],
   "id": "73b604fefcd4b2b5",
   "outputs": [],
   "execution_count": 10
  },
  {
   "metadata": {
    "ExecuteTime": {
     "end_time": "2025-08-12T16:49:56.794917Z",
     "start_time": "2025-08-12T16:49:56.719521Z"
    }
   },
   "cell_type": "code",
   "source": [
    "out_path = Path(\"example_dataset.parquet\")\n",
    "TabularDataRepository.save(tab, out_path, include_schema=True, index=True)\n",
    "tab_loaded = TabularDataRepository.load(out_path)\n",
    "\n",
    "logger.info(f\"schema: {tab_loaded.schema.to_dict()}\")\n",
    "logger.info(f\"data:\\n{tab_loaded.data.head()}\")"
   ],
   "id": "2b3712549cd2c903",
   "outputs": [
    {
     "data": {
      "text/plain": [
       "\u001B[34mINFO    \u001B[0m \u001B[1;92m18:49:56\u001B[0m: schema: \u001B[1m{\u001B[0m\u001B[32m'target'\u001B[0m: \u001B[32m'label'\u001B[0m, \u001B[32m'numeric'\u001B[0m: \u001B[1m[\u001B[0m\u001B[32m'age'\u001B[0m, \u001B[32m'income'\u001B[0m\u001B[1m]\u001B[0m, \u001B[32m'categorical'\u001B[0m: \u001B[1m[\u001B[0m\u001B[32m'city'\u001B[0m\u001B[1m]\u001B[0m, \u001B[32m'extra'\u001B[0m: \u001B[1m[\u001B[0m\u001B[1m]\u001B[0m\u001B[1m}\u001B[0m \n"
      ],
      "text/html": [
       "<pre style=\"white-space:pre;overflow-x:auto;line-height:normal;font-family:Menlo,'DejaVu Sans Mono',consolas,'Courier New',monospace\"><span style=\"color: #000080; text-decoration-color: #000080\">INFO    </span> <span style=\"color: #00ff00; text-decoration-color: #00ff00; font-weight: bold\">18:49:56</span>: schema: <span style=\"font-weight: bold\">{</span><span style=\"color: #008000; text-decoration-color: #008000\">'target'</span>: <span style=\"color: #008000; text-decoration-color: #008000\">'label'</span>, <span style=\"color: #008000; text-decoration-color: #008000\">'numeric'</span>: <span style=\"font-weight: bold\">[</span><span style=\"color: #008000; text-decoration-color: #008000\">'age'</span>, <span style=\"color: #008000; text-decoration-color: #008000\">'income'</span><span style=\"font-weight: bold\">]</span>, <span style=\"color: #008000; text-decoration-color: #008000\">'categorical'</span>: <span style=\"font-weight: bold\">[</span><span style=\"color: #008000; text-decoration-color: #008000\">'city'</span><span style=\"font-weight: bold\">]</span>, <span style=\"color: #008000; text-decoration-color: #008000\">'extra'</span>: <span style=\"font-weight: bold\">[]}</span> \n",
       "</pre>\n"
      ]
     },
     "metadata": {},
     "output_type": "display_data"
    },
    {
     "data": {
      "text/plain": [
       "\u001B[34mINFO    \u001B[0m \u001B[1;92m18:49:56\u001B[0m: data:                                                                                           \n",
       "            id  age   income    city  label                                                                        \n",
       "         \u001B[1;36m0\u001B[0m   \u001B[1;36m1\u001B[0m   \u001B[1;36m24\u001B[0m  \u001B[1;36m32574.0\u001B[0m  Torino      \u001B[1;36m1\u001B[0m                                                                        \n",
       "         \u001B[1;36m1\u001B[0m   \u001B[1;36m2\u001B[0m   \u001B[1;36m60\u001B[0m  \u001B[1;36m28844.0\u001B[0m  Torino      \u001B[1;36m0\u001B[0m                                                                        \n",
       "         \u001B[1;36m2\u001B[0m   \u001B[1;36m3\u001B[0m   \u001B[1;36m54\u001B[0m  \u001B[1;36m31359.0\u001B[0m    Roma      \u001B[1;36m0\u001B[0m                                                                        \n",
       "         \u001B[1;36m3\u001B[0m   \u001B[1;36m4\u001B[0m   \u001B[1;36m42\u001B[0m  \u001B[1;36m24335.0\u001B[0m  MILANO      \u001B[1;36m0\u001B[0m                                                                        \n",
       "         \u001B[1;36m4\u001B[0m   \u001B[1;36m5\u001B[0m   \u001B[1;36m42\u001B[0m  \u001B[1;36m38887.0\u001B[0m    Roma      \u001B[1;36m0\u001B[0m                                                                        \n"
      ],
      "text/html": [
       "<pre style=\"white-space:pre;overflow-x:auto;line-height:normal;font-family:Menlo,'DejaVu Sans Mono',consolas,'Courier New',monospace\"><span style=\"color: #000080; text-decoration-color: #000080\">INFO    </span> <span style=\"color: #00ff00; text-decoration-color: #00ff00; font-weight: bold\">18:49:56</span>: data:                                                                                           \n",
       "            id  age   income    city  label                                                                        \n",
       "         <span style=\"color: #008080; text-decoration-color: #008080; font-weight: bold\">0</span>   <span style=\"color: #008080; text-decoration-color: #008080; font-weight: bold\">1</span>   <span style=\"color: #008080; text-decoration-color: #008080; font-weight: bold\">24</span>  <span style=\"color: #008080; text-decoration-color: #008080; font-weight: bold\">32574.0</span>  Torino      <span style=\"color: #008080; text-decoration-color: #008080; font-weight: bold\">1</span>                                                                        \n",
       "         <span style=\"color: #008080; text-decoration-color: #008080; font-weight: bold\">1</span>   <span style=\"color: #008080; text-decoration-color: #008080; font-weight: bold\">2</span>   <span style=\"color: #008080; text-decoration-color: #008080; font-weight: bold\">60</span>  <span style=\"color: #008080; text-decoration-color: #008080; font-weight: bold\">28844.0</span>  Torino      <span style=\"color: #008080; text-decoration-color: #008080; font-weight: bold\">0</span>                                                                        \n",
       "         <span style=\"color: #008080; text-decoration-color: #008080; font-weight: bold\">2</span>   <span style=\"color: #008080; text-decoration-color: #008080; font-weight: bold\">3</span>   <span style=\"color: #008080; text-decoration-color: #008080; font-weight: bold\">54</span>  <span style=\"color: #008080; text-decoration-color: #008080; font-weight: bold\">31359.0</span>    Roma      <span style=\"color: #008080; text-decoration-color: #008080; font-weight: bold\">0</span>                                                                        \n",
       "         <span style=\"color: #008080; text-decoration-color: #008080; font-weight: bold\">3</span>   <span style=\"color: #008080; text-decoration-color: #008080; font-weight: bold\">4</span>   <span style=\"color: #008080; text-decoration-color: #008080; font-weight: bold\">42</span>  <span style=\"color: #008080; text-decoration-color: #008080; font-weight: bold\">24335.0</span>  MILANO      <span style=\"color: #008080; text-decoration-color: #008080; font-weight: bold\">0</span>                                                                        \n",
       "         <span style=\"color: #008080; text-decoration-color: #008080; font-weight: bold\">4</span>   <span style=\"color: #008080; text-decoration-color: #008080; font-weight: bold\">5</span>   <span style=\"color: #008080; text-decoration-color: #008080; font-weight: bold\">42</span>  <span style=\"color: #008080; text-decoration-color: #008080; font-weight: bold\">38887.0</span>    Roma      <span style=\"color: #008080; text-decoration-color: #008080; font-weight: bold\">0</span>                                                                        \n",
       "</pre>\n"
      ]
     },
     "metadata": {},
     "output_type": "display_data"
    }
   ],
   "execution_count": 11
  }
 ],
 "metadata": {
  "kernelspec": {
   "display_name": "Python 3",
   "language": "python",
   "name": "python3"
  },
  "language_info": {
   "codemirror_mode": {
    "name": "ipython",
    "version": 2
   },
   "file_extension": ".py",
   "mimetype": "text/x-python",
   "name": "python",
   "nbconvert_exporter": "python",
   "pygments_lexer": "ipython2",
   "version": "2.7.6"
  }
 },
 "nbformat": 4,
 "nbformat_minor": 5
}
