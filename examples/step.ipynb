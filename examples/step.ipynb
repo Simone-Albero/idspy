{
 "cells": [
  {
   "cell_type": "markdown",
   "id": "13d94320946e2cc2",
   "metadata": {},
   "source": [
    "# Step Examples\n",
    "\n",
    "This notebook demonstrates the `Step` API with decorator-based configuration and pure run methods. Steps separate business logic from state management for better testability and composability.\n",
    "\n",
    "## Features Demonstrated\n",
    "\n",
    "- **Basic Steps**: Decorator-based input/output declarations with `@Step.requires` and `@Step.provides`\n",
    "- **Validation**: Automatic validation of required outputs and type safety\n",
    "- **Conditional Steps**: Steps that execute only when specific conditions are met\n",
    "- **Data-Driven Logic**: Decision making based on actual data characteristics\n",
    "- **Fit-Aware Steps**: Two-phase ML workflow with separate fitting and execution phases\n",
    "- **Error Handling**: Proper exception handling for unfitted steps and missing outputs\n",
    "- **Scoped Step**: Allows you to initialize a step with a restricted view of the state\n",
    "\n",
    "## Setup"
   ]
  },
  {
   "cell_type": "code",
   "execution_count": 14,
   "id": "bfa269d6",
   "metadata": {},
   "outputs": [],
   "source": [
    "import sys\n",
    "import os\n",
    "\n",
    "# Add the project root to Python path\n",
    "project_root = os.path.abspath(os.path.join(os.getcwd(), '..'))\n",
    "if project_root not in sys.path:\n",
    "    sys.path.insert(0, project_root)"
   ]
  },
  {
   "cell_type": "code",
   "execution_count": 15,
   "id": "e923a77c7a7cbd03",
   "metadata": {
    "ExecuteTime": {
     "end_time": "2025-09-03T15:14:02.721163Z",
     "start_time": "2025-09-03T15:14:02.714467Z"
    }
   },
   "outputs": [],
   "source": [
    "from src.idspy.core.state import State\n",
    "from src.idspy.core.step import Step, ConditionalStep, FitAwareStep"
   ]
  },
  {
   "cell_type": "markdown",
   "id": "8e997a680d41034d",
   "metadata": {},
   "source": [
    "## Basic Step with Decorators\n",
    "\n",
    "Decorator-based input/output declarations. Pure `run` methods with automatic validation."
   ]
  },
  {
   "cell_type": "code",
   "execution_count": 16,
   "id": "b2516edafb12e0b9",
   "metadata": {
    "ExecuteTime": {
     "end_time": "2025-09-03T15:14:02.729879Z",
     "start_time": "2025-09-03T15:14:02.725429Z"
    }
   },
   "outputs": [
    {
     "data": {
      "text/plain": [
       "State(size=2, data={'data': [1, 2, 3], 'sum': 6})"
      ]
     },
     "execution_count": 16,
     "metadata": {},
     "output_type": "execute_result"
    }
   ],
   "source": [
    "@Step.requires(data=list)\n",
    "@Step.provides(sum=int)\n",
    "class MakeSum(Step):\n",
    "    def run(self, data, **kwargs):\n",
    "        return {\"sum\": sum(data)}\n",
    "\n",
    "\n",
    "s = State({\"data\": [1, 2, 3]})\n",
    "MakeSum()(s)\n",
    "s"
   ]
  },
  {
   "cell_type": "markdown",
   "id": "f3fda5f84cf4b7aa",
   "metadata": {},
   "source": [
    "### Validation: Missing Required Outputs\n",
    "\n",
    "Automatic validation ensures steps produce all declared outputs."
   ]
  },
  {
   "cell_type": "code",
   "execution_count": 17,
   "id": "ee12b7d4b48039ce",
   "metadata": {
    "ExecuteTime": {
     "end_time": "2025-09-03T15:14:02.828521Z",
     "start_time": "2025-09-03T15:14:02.825440Z"
    }
   },
   "outputs": [],
   "source": [
    "@Step.provides(x=int)\n",
    "class NoopProvides(Step):\n",
    "    def run(self, **kwargs):\n",
    "        # forgets to return {\"x\": some_value}\n",
    "        return {}\n",
    "\n",
    "\n",
    "s = State()\n",
    "try:\n",
    "    NoopProvides()(s)\n",
    "except KeyError as e:\n",
    "    print(e)  # -> NoopProvides: missing required output 'x'"
   ]
  },
  {
   "cell_type": "markdown",
   "id": "ab7d921a0958bf2c",
   "metadata": {},
   "source": [
    "## Conditional Steps\n",
    "\n",
    "Steps that execute only when conditions are met via `should_run()` method."
   ]
  },
  {
   "cell_type": "code",
   "execution_count": 18,
   "id": "8c23f2e85db0c44e",
   "metadata": {
    "ExecuteTime": {
     "end_time": "2025-09-03T15:14:02.882922Z",
     "start_time": "2025-09-03T15:14:02.874958Z"
    }
   },
   "outputs": [
    {
     "name": "stdout",
     "output_type": "stream",
     "text": [
      "[skip] MaybeNormalize because normalize flag is False\n"
     ]
    },
    {
     "data": {
      "text/plain": [
       "{'data': [1, 2, 3], 'normalize': False}"
      ]
     },
     "execution_count": 18,
     "metadata": {},
     "output_type": "execute_result"
    }
   ],
   "source": [
    "@Step.requires(data=list)\n",
    "@Step.provides(data=list)\n",
    "class MaybeNormalize(ConditionalStep):\n",
    "    def should_run(self, state: State) -> bool:\n",
    "        return bool(state.get(\"normalize\", False))\n",
    "\n",
    "    def run(self, data, **kwargs):\n",
    "        m = sum(data) / len(data)\n",
    "        normalized = [x - m for x in data]\n",
    "        return {\"data\": normalized}\n",
    "\n",
    "    def on_skip(self, state: State) -> None:\n",
    "        print(f\"[skip] {self.name} because normalize flag is False\")\n",
    "\n",
    "\n",
    "s = State({\"data\": [1, 2, 3], \"normalize\": False})\n",
    "MaybeNormalize()(s)  # skipped → prints message\n",
    "s.to_dict()\n",
    "# {'data': [1, 2, 3], 'normalize': False}"
   ]
  },
  {
   "cell_type": "code",
   "execution_count": 19,
   "id": "44fb9e8087ad3f1d",
   "metadata": {
    "ExecuteTime": {
     "end_time": "2025-09-03T15:14:02.897631Z",
     "start_time": "2025-09-03T15:14:02.895348Z"
    }
   },
   "outputs": [
    {
     "data": {
      "text/plain": [
       "{'data': [-1.0, 0.0, 1.0], 'normalize': True}"
      ]
     },
     "execution_count": 19,
     "metadata": {},
     "output_type": "execute_result"
    }
   ],
   "source": [
    "s = State({\"data\": [1, 2, 3], \"normalize\": True})\n",
    "MaybeNormalize()(s)  # runs\n",
    "s.to_dict()\n",
    "# {'data': [-1.0, 0.0, 1.0], 'normalize': True}"
   ]
  },
  {
   "cell_type": "markdown",
   "id": "6234860e1211689e",
   "metadata": {},
   "source": [
    "### Data-Driven Conditional Steps\n",
    "\n",
    "Decision making based on actual data characteristics for dynamic pipeline behavior."
   ]
  },
  {
   "cell_type": "code",
   "execution_count": 20,
   "id": "c91cf470e4cfaf39",
   "metadata": {
    "ExecuteTime": {
     "end_time": "2025-09-03T15:14:02.920335Z",
     "start_time": "2025-09-03T15:14:02.917015Z"
    }
   },
   "outputs": [
    {
     "data": {
      "text/plain": [
       "True"
      ]
     },
     "execution_count": 20,
     "metadata": {},
     "output_type": "execute_result"
    }
   ],
   "source": [
    "@Step.requires(data=list)\n",
    "@Step.provides(trained=bool)\n",
    "class TrainIfEnoughData(ConditionalStep):\n",
    "    def __init__(self, min_len: int = 3):\n",
    "        super().__init__()\n",
    "        self.min_len = min_len\n",
    "\n",
    "    def should_run(self, state: State) -> bool:\n",
    "        return len(state.get(\"data\", [])) >= self.min_len\n",
    "\n",
    "    def run(self, data, **kwargs):\n",
    "        # pretend training...\n",
    "        return {\"trained\": True}\n",
    "\n",
    "\n",
    "s = State({\"data\": [1, 2]})\n",
    "TrainIfEnoughData(min_len=3)(s)  # skipped\n",
    "s.get(\"trained\", None)\n",
    "# None\n",
    "\n",
    "s[\"data\"] = [1, 2, 3, 4]\n",
    "TrainIfEnoughData(min_len=3)(s)  # runs\n",
    "s[\"trained\"]\n",
    "# True"
   ]
  },
  {
   "cell_type": "markdown",
   "id": "799e892a1429b7d",
   "metadata": {},
   "source": [
    "## Fit-Aware Steps\n",
    "\n",
    "Two-phase ML workflow: `fit_impl()` for learning, `run()` for applying learned parameters."
   ]
  },
  {
   "cell_type": "code",
   "execution_count": 21,
   "id": "2f0d355fbc6a005d",
   "metadata": {
    "ExecuteTime": {
     "end_time": "2025-09-03T15:14:02.940626Z",
     "start_time": "2025-09-03T15:14:02.937902Z"
    }
   },
   "outputs": [],
   "source": [
    "@Step.requires(data=list)\n",
    "@Step.provides(data=list)\n",
    "class MeanCenter(FitAwareStep):\n",
    "    def __init__(self):\n",
    "        super().__init__()\n",
    "        self.mean = None\n",
    "\n",
    "    def fit_impl(self, data, **kwargs):\n",
    "        self.mean = sum(data) / len(data)\n",
    "\n",
    "    def run(self, data, **kwargs):\n",
    "        centered = [x - self.mean for x in data]\n",
    "        return {\"data\": centered}"
   ]
  },
  {
   "cell_type": "markdown",
   "id": "fc8bcf7d11666cb4",
   "metadata": {},
   "source": [
    "### Error Handling: Unfitted Steps\n",
    "\n",
    "Framework prevents running unfitted steps with clear error messages."
   ]
  },
  {
   "cell_type": "code",
   "execution_count": 22,
   "id": "54a73492c7a94935",
   "metadata": {
    "ExecuteTime": {
     "end_time": "2025-09-03T15:14:02.952987Z",
     "start_time": "2025-09-03T15:14:02.950915Z"
    }
   },
   "outputs": [
    {
     "name": "stdout",
     "output_type": "stream",
     "text": [
      "'MeanCenter' is not fitted.\n"
     ]
    }
   ],
   "source": [
    "s = State({\"data\": [1.0, 2.0, 3.0]})\n",
    "step = MeanCenter()\n",
    "\n",
    "try:\n",
    "    step(s)\n",
    "except RuntimeError as e:\n",
    "    print(e)  # 'MeanCenter' is not fitted."
   ]
  },
  {
   "cell_type": "markdown",
   "id": "fc084f1294c54fb4",
   "metadata": {},
   "source": [
    "### Proper Usage: Fit Then Run\n",
    "\n",
    "Fitted steps store learned parameters internally, keeping pipeline state clean."
   ]
  },
  {
   "cell_type": "code",
   "execution_count": 23,
   "id": "14b40f4de938bd82",
   "metadata": {
    "ExecuteTime": {
     "end_time": "2025-09-03T15:14:51.499848Z",
     "start_time": "2025-09-03T15:14:51.496575Z"
    }
   },
   "outputs": [
    {
     "name": "stdout",
     "output_type": "stream",
     "text": [
      "Mean computed: 2.0\n",
      "{'data': [-1.0, 0.0, 1.0]}\n"
     ]
    }
   ],
   "source": [
    "step = MeanCenter()\n",
    "s = State({\"data\": [1.0, 2.0, 3.0]})\n",
    "\n",
    "step.fit(s)  # computes and stores mean internally\n",
    "print(f\"Mean computed: {step.mean}\")  # Mean computed: 2.0\n",
    "\n",
    "step(s)  # apply centering\n",
    "print(s.to_dict())  # {'data': [-1.0, 0.0, 1.0]}"
   ]
  },
  {
   "cell_type": "markdown",
   "id": "f0cd2155",
   "metadata": {},
   "source": [
    "## Scoped Step\n",
    "\n",
    "By scoping a step, you ensure that it only reads from and writes to the portion of the state relevant to its context, avoiding conflicts between similarly named data in different namespaces."
   ]
  },
  {
   "cell_type": "code",
   "execution_count": 24,
   "id": "3692d34b",
   "metadata": {},
   "outputs": [
    {
     "name": "stdout",
     "output_type": "stream",
     "text": [
      "{'user.data': [1.0, 2.0, 3.0], 'company.data': [3.0, 1.0, 2.0]}\n"
     ]
    }
   ],
   "source": [
    "@Step.requires(data=list)\n",
    "@Step.provides(data=list)\n",
    "class Sort(Step):\n",
    "    def __init__(self):\n",
    "        super().__init__(scope_prefix=\"user\")\n",
    "\n",
    "    def run(self, data: list, **kwargs):\n",
    "        return {\"data\": sorted(data)}\n",
    "\n",
    "s = State({\n",
    "    \"user.data\": [2.0, 1.0, 3.0],\n",
    "    \"company.data\": [3.0, 1.0, 2.0]\n",
    "})\n",
    "\n",
    "Sort()(s)\n",
    "print(s.to_dict())"
   ]
  }
 ],
 "metadata": {
  "kernelspec": {
   "display_name": ".venv",
   "language": "python",
   "name": "python3"
  },
  "language_info": {
   "codemirror_mode": {
    "name": "ipython",
    "version": 3
   },
   "file_extension": ".py",
   "mimetype": "text/x-python",
   "name": "python",
   "nbconvert_exporter": "python",
   "pygments_lexer": "ipython3",
   "version": "3.12.3"
  }
 },
 "nbformat": 4,
 "nbformat_minor": 5
}
