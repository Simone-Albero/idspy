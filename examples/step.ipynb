{
 "cells": [
  {
   "metadata": {},
   "cell_type": "markdown",
   "source": "### Setup",
   "id": "13d94320946e2cc2"
  },
  {
   "metadata": {
    "ExecuteTime": {
     "end_time": "2025-09-03T15:14:02.721163Z",
     "start_time": "2025-09-03T15:14:02.714467Z"
    }
   },
   "cell_type": "code",
   "source": [
    "from src.idspy.core.state import State\n",
    "from src.idspy.core.step import Step, ConditionalStep, FitAwareStep"
   ],
   "id": "e923a77c7a7cbd03",
   "outputs": [],
   "execution_count": 1
  },
  {
   "metadata": {},
   "cell_type": "markdown",
   "source": "### Happy path: `provides` present",
   "id": "8e997a680d41034d"
  },
  {
   "metadata": {
    "ExecuteTime": {
     "end_time": "2025-09-03T15:14:02.729879Z",
     "start_time": "2025-09-03T15:14:02.725429Z"
    }
   },
   "cell_type": "code",
   "source": [
    "class MakeSum(Step):\n",
    "    def __init__(self):\n",
    "        super().__init__(requires=[\"data\"], provides=[\"sum\"])\n",
    "\n",
    "    def run(self, state: State) -> None:\n",
    "        state[\"sum\"] = sum(state[\"data\"])\n",
    "\n",
    "\n",
    "s = State({\"data\": [1, 2, 3]})\n",
    "MakeSum()(s)\n",
    "s"
   ],
   "id": "b2516edafb12e0b9",
   "outputs": [
    {
     "data": {
      "text/plain": [
       "State(size=2, data={'data': [1, 2, 3], 'sum': 6})"
      ]
     },
     "execution_count": 2,
     "metadata": {},
     "output_type": "execute_result"
    }
   ],
   "execution_count": 2
  },
  {
   "metadata": {},
   "cell_type": "markdown",
   "source": "### Error if `provides` missing",
   "id": "f3fda5f84cf4b7aa"
  },
  {
   "metadata": {
    "ExecuteTime": {
     "end_time": "2025-09-03T15:14:02.828521Z",
     "start_time": "2025-09-03T15:14:02.825440Z"
    }
   },
   "cell_type": "code",
   "source": [
    "class NoopProvides(Step):\n",
    "    def __init__(self):\n",
    "        super().__init__(requires=[], provides=[\"x\"])  # claims it provides \"x\"\n",
    "\n",
    "    def run(self, state: State) -> None:\n",
    "        pass  # forgets to set \"x\"\n",
    "\n",
    "\n",
    "s = State()\n",
    "try:\n",
    "    NoopProvides()(s)\n",
    "except KeyError as e:\n",
    "    print(e)  # -> NoopProvides: missing provided keys ['x']"
   ],
   "id": "ee12b7d4b48039ce",
   "outputs": [
    {
     "name": "stdout",
     "output_type": "stream",
     "text": [
      "\"NoopProvides: missing provided keys ['x']\"\n"
     ]
    }
   ],
   "execution_count": 3
  },
  {
   "metadata": {},
   "cell_type": "markdown",
   "source": "### Enforce change (strict mode)",
   "id": "6558e1cdcd703c21"
  },
  {
   "metadata": {
    "ExecuteTime": {
     "end_time": "2025-09-03T15:14:02.837703Z",
     "start_time": "2025-09-03T15:14:02.835508Z"
    }
   },
   "cell_type": "code",
   "source": [
    "class Increment(Step):\n",
    "    def __init__(self):\n",
    "        super().__init__(requires=[\"x\"], provides=[\"x\"], validate_outputs=True, require_change=True)\n",
    "\n",
    "    def run(self, state: State) -> None:\n",
    "        state[\"x\"] += 1\n",
    "\n",
    "\n",
    "s = State({\"x\": 10})\n",
    "Increment()(s)  # ok, x changed to 11"
   ],
   "id": "7edb8a4553cc03d6",
   "outputs": [],
   "execution_count": 4
  },
  {
   "metadata": {
    "ExecuteTime": {
     "end_time": "2025-09-03T15:14:02.853449Z",
     "start_time": "2025-09-03T15:14:02.851158Z"
    }
   },
   "cell_type": "code",
   "source": [
    "s[\"x\"] = 11\n",
    "try:\n",
    "    # A step that reassigns the same value will fail in strict mode\n",
    "    class ReassignSame(Increment):\n",
    "        def run(self, state: State) -> None:\n",
    "            state[\"x\"] = 11\n",
    "\n",
    "\n",
    "    ReassignSame()(s)\n",
    "except ValueError as e:\n",
    "    print(e)  # -> ReassignSame: outputs not changed ['x']"
   ],
   "id": "7639a10d6f9bdba4",
   "outputs": [
    {
     "name": "stdout",
     "output_type": "stream",
     "text": [
      "ReassignSame: outputs not changed ['x']\n"
     ]
    }
   ],
   "execution_count": 5
  },
  {
   "metadata": {},
   "cell_type": "markdown",
   "source": "### Create a `ConditionalStep` that skips when a flag is false",
   "id": "ab7d921a0958bf2c"
  },
  {
   "metadata": {
    "ExecuteTime": {
     "end_time": "2025-09-03T15:14:02.882922Z",
     "start_time": "2025-09-03T15:14:02.874958Z"
    }
   },
   "cell_type": "code",
   "source": [
    "class MaybeNormalize(ConditionalStep):\n",
    "    def __init__(self):\n",
    "        super().__init__(requires=[\"data\"], provides=[\"data\"])\n",
    "\n",
    "    def should_run(self, state: State) -> bool:\n",
    "        return bool(state.get(\"normalize\", False))\n",
    "\n",
    "    def run(self, state: State) -> None:\n",
    "        xs = state[\"data\"]\n",
    "        m = sum(xs) / len(xs)\n",
    "        state[\"data\"] = [x - m for x in xs]\n",
    "\n",
    "    def on_skip(self, state: State) -> None:\n",
    "        print(f\"[skip] {self.name} because normalize flag is False\")\n",
    "\n",
    "\n",
    "s = State({\"data\": [1, 2, 3], \"normalize\": False})\n",
    "MaybeNormalize()(s)  # skipped → prints message\n",
    "s.to_dict()\n",
    "# {'data': [1, 2, 3], 'normalize': False}"
   ],
   "id": "8c23f2e85db0c44e",
   "outputs": [
    {
     "name": "stdout",
     "output_type": "stream",
     "text": [
      "[skip] MaybeNormalize because normalize flag is False\n"
     ]
    },
    {
     "data": {
      "text/plain": [
       "{'data': [1, 2, 3], 'normalize': False}"
      ]
     },
     "execution_count": 6,
     "metadata": {},
     "output_type": "execute_result"
    }
   ],
   "execution_count": 6
  },
  {
   "metadata": {
    "ExecuteTime": {
     "end_time": "2025-09-03T15:14:02.897631Z",
     "start_time": "2025-09-03T15:14:02.895348Z"
    }
   },
   "cell_type": "code",
   "source": [
    "s = State({\"data\": [1, 2, 3], \"normalize\": True})\n",
    "MaybeNormalize()(s)  # runs\n",
    "s.to_dict()\n",
    "# {'data': [-1.0, 0.0, 1.0], 'normalize': True}"
   ],
   "id": "44fb9e8087ad3f1d",
   "outputs": [
    {
     "data": {
      "text/plain": [
       "{'data': [-1.0, 0.0, 1.0], 'normalize': True}"
      ]
     },
     "execution_count": 7,
     "metadata": {},
     "output_type": "execute_result"
    }
   ],
   "execution_count": 7
  },
  {
   "metadata": {},
   "cell_type": "markdown",
   "source": "### Create a `ConditionalStep` based on the state’s content",
   "id": "6234860e1211689e"
  },
  {
   "metadata": {
    "ExecuteTime": {
     "end_time": "2025-09-03T15:14:02.920335Z",
     "start_time": "2025-09-03T15:14:02.917015Z"
    }
   },
   "cell_type": "code",
   "source": [
    "class TrainIfEnoughData(ConditionalStep):\n",
    "    def __init__(self, min_len: int = 3):\n",
    "        super().__init__(requires=[\"data\"], provides=[\"trained\"])\n",
    "        self.min_len = min_len\n",
    "\n",
    "    def should_run(self, state: State) -> bool:\n",
    "        return len(state.get(\"data\", [])) >= self.min_len\n",
    "\n",
    "    def run(self, state: State) -> None:\n",
    "        # pretend training...\n",
    "        state[\"trained\"] = True\n",
    "\n",
    "\n",
    "s = State({\"data\": [1, 2]})\n",
    "TrainIfEnoughData(min_len=3)(s)  # skipped\n",
    "s.get(\"trained\", None)\n",
    "# None\n",
    "\n",
    "s[\"data\"] = [1, 2, 3, 4]\n",
    "TrainIfEnoughData(min_len=3)(s)  # runs\n",
    "s[\"trained\"]\n",
    "# True"
   ],
   "id": "c91cf470e4cfaf39",
   "outputs": [
    {
     "data": {
      "text/plain": [
       "True"
      ]
     },
     "execution_count": 8,
     "metadata": {},
     "output_type": "execute_result"
    }
   ],
   "execution_count": 8
  },
  {
   "metadata": {},
   "cell_type": "markdown",
   "source": "### Build a `FitAwareStep` that learns the mean in `fit_impl` and applies it in `run`",
   "id": "799e892a1429b7d"
  },
  {
   "metadata": {
    "ExecuteTime": {
     "end_time": "2025-09-03T15:14:02.940626Z",
     "start_time": "2025-09-03T15:14:02.937902Z"
    }
   },
   "cell_type": "code",
   "source": [
    "class MeanCenter(FitAwareStep):\n",
    "    def __init__(self):\n",
    "        super().__init__(requires=[\"data\"], provides=[\"data\"])\n",
    "\n",
    "    def fit_impl(self, state: State) -> None:\n",
    "        xs = state[\"data\"]\n",
    "        state[\"preproc.mean\"] = sum(xs) / len(xs)\n",
    "\n",
    "    def run(self, state: State) -> None:\n",
    "        m = state[\"preproc.mean\"]\n",
    "        state[\"data\"] = [x - m for x in state[\"data\"]]\n"
   ],
   "id": "2f0d355fbc6a005d",
   "outputs": [],
   "execution_count": 9
  },
  {
   "metadata": {},
   "cell_type": "markdown",
   "source": "#### Error: try running before fitting",
   "id": "fc8bcf7d11666cb4"
  },
  {
   "metadata": {
    "ExecuteTime": {
     "end_time": "2025-09-03T15:14:02.952987Z",
     "start_time": "2025-09-03T15:14:02.950915Z"
    }
   },
   "cell_type": "code",
   "source": [
    "s = State({\"data\": [1.0, 2.0, 3.0]})\n",
    "step = MeanCenter()\n",
    "\n",
    "try:\n",
    "    step(s)\n",
    "except RuntimeError as e:\n",
    "    print(e)  # 'MeanCenter' is not fitted."
   ],
   "id": "54a73492c7a94935",
   "outputs": [
    {
     "name": "stdout",
     "output_type": "stream",
     "text": [
      "'MeanCenter' is not fitted.\n"
     ]
    }
   ],
   "execution_count": 10
  },
  {
   "metadata": {},
   "cell_type": "markdown",
   "source": "#### Fit first, then run",
   "id": "fc084f1294c54fb4"
  },
  {
   "metadata": {
    "ExecuteTime": {
     "end_time": "2025-09-03T15:14:51.499848Z",
     "start_time": "2025-09-03T15:14:51.496575Z"
    }
   },
   "cell_type": "code",
   "source": [
    "step.fit(s)  # computes and stores 'preproc.mean'\n",
    "print(s.to_dict())  # {'data': [1.0, 2.0, 3.0], 'preproc.mean': 2.0}\n",
    "\n",
    "step(s)  # apply centering\n",
    "print(s.to_dict())  # {'data': [-1.0, 0.0, 1.0], 'preproc.mean': 2.0}"
   ],
   "id": "14b40f4de938bd82",
   "outputs": [
    {
     "name": "stdout",
     "output_type": "stream",
     "text": [
      "{'data': [1.0, 2.0, 3.0], 'preproc.mean': 2.0}\n",
      "{'data': [-1.0, 0.0, 1.0], 'preproc.mean': 2.0}\n"
     ]
    }
   ],
   "execution_count": 11
  }
 ],
 "metadata": {
  "kernelspec": {
   "display_name": "Python 3",
   "language": "python",
   "name": "python3"
  },
  "language_info": {
   "codemirror_mode": {
    "name": "ipython",
    "version": 2
   },
   "file_extension": ".py",
   "mimetype": "text/x-python",
   "name": "python",
   "nbconvert_exporter": "python",
   "pygments_lexer": "ipython2",
   "version": "2.7.6"
  }
 },
 "nbformat": 4,
 "nbformat_minor": 5
}
