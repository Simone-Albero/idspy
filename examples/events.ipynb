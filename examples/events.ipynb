{
 "cells": [
  {
   "cell_type": "markdown",
   "id": "1e1df2b274806a3f",
   "metadata": {},
   "source": [
    "### Setup"
   ]
  },
  {
   "cell_type": "code",
   "execution_count": 8,
   "id": "a8fcc8c4",
   "metadata": {},
   "outputs": [],
   "source": [
    "import sys\n",
    "import os\n",
    "\n",
    "# Add the project root to Python path\n",
    "project_root = os.path.abspath(os.path.join(os.getcwd(), '..'))\n",
    "if project_root not in sys.path:\n",
    "    sys.path.insert(0, project_root)"
   ]
  },
  {
   "cell_type": "code",
   "execution_count": 3,
   "id": "b91e35df280f80fc",
   "metadata": {
    "ExecuteTime": {
     "end_time": "2025-09-03T18:24:07.476641Z",
     "start_time": "2025-09-03T18:24:07.472412Z"
    }
   },
   "outputs": [],
   "source": [
    "from src.idspy.core.pipeline import PipelineEvent, ObservablePipeline\n",
    "from src.idspy.core.state import State\n",
    "from src.idspy.core.step import Step\n",
    "from src.idspy.events.bus import EventBus\n",
    "from src.idspy.events.events import Event\n",
    "from src.idspy.events.predicates import only_id"
   ]
  },
  {
   "cell_type": "markdown",
   "id": "56ec82350ec72c07",
   "metadata": {},
   "source": [
    "### Create an `EventBus` and register subscribers"
   ]
  },
  {
   "cell_type": "code",
   "execution_count": 4,
   "id": "b1dc274996e73bca",
   "metadata": {
    "ExecuteTime": {
     "end_time": "2025-09-03T18:24:07.494347Z",
     "start_time": "2025-09-03T18:24:07.489350Z"
    }
   },
   "outputs": [],
   "source": [
    "bus = EventBus()\n",
    "\n",
    "\n",
    "# All events: minimal one-line log\n",
    "@bus.on(EventBus.ALL)\n",
    "def log_all(ev: Event) -> None:\n",
    "    print(f\"[ALL] {ev.type} :: {ev.id}\")\n",
    "\n",
    "\n",
    "# Before/After step: show index + requires/provides\n",
    "@bus.on(PipelineEvent.BEFORE_STEP.value)\n",
    "def on_before(ev: Event) -> None:\n",
    "    idx = ev.payload.get(\"index\")\n",
    "    req = ev.payload.get(\"requires\", [])\n",
    "    prov = ev.payload.get(\"provides\", [])\n",
    "    print(f\"[BEFORE] idx={idx} step={ev.id} requires={req} provides={prov}\")\n",
    "\n",
    "\n",
    "@bus.on(PipelineEvent.BEFORE_STEP.value, only_id(\"Demo.Sum\"))\n",
    "def on_before_sum(ev: Event) -> None:\n",
    "    print(f\"[BEFORE] summing step={ev.id}\")\n",
    "\n",
    "\n",
    "@bus.on(PipelineEvent.AFTER_STEP.value)\n",
    "def on_after(ev: Event) -> None:\n",
    "    idx = ev.payload.get(\"index\")\n",
    "    print(f\"[AFTER]  idx={idx} step={ev.id}\")\n",
    "\n",
    "\n",
    "# Error handler\n",
    "@bus.on(PipelineEvent.ON_ERROR.value)\n",
    "def on_err(ev: Event) -> None:\n",
    "    print(f\"[ERROR] step={ev.id} :: {ev.payload.get('error')}\")"
   ]
  },
  {
   "cell_type": "markdown",
   "id": "bd6c2df733328d40",
   "metadata": {},
   "source": [
    "### Define a couple of simple `Steps`"
   ]
  },
  {
   "cell_type": "code",
   "execution_count": 5,
   "id": "bed906bcd8ad3a7",
   "metadata": {
    "ExecuteTime": {
     "end_time": "2025-09-03T18:24:07.504436Z",
     "start_time": "2025-09-03T18:24:07.500944Z"
    }
   },
   "outputs": [],
   "source": [
    "class Load(Step):\n",
    "    def __init__(self):\n",
    "        super().__init__(provides=[\"data\"])\n",
    "\n",
    "    def run(self, state: State) -> None:\n",
    "        state[\"data\"] = [1, 2, 3]\n",
    "\n",
    "\n",
    "class Sum(Step):\n",
    "    def __init__(self):\n",
    "        super().__init__(requires=[\"data\"], provides=[\"sum\"])\n",
    "\n",
    "    def run(self, state: State) -> None:\n",
    "        state[\"sum\"] = sum(state[\"data\"])\n",
    "\n",
    "\n",
    "class Boom(Step):\n",
    "    def __init__(self):\n",
    "        super().__init__(requires=[\"missing\"])\n",
    "\n",
    "    def run(self, state: State) -> None:\n",
    "        # never reached because requires isn't satisfied\n",
    "        pass\n"
   ]
  },
  {
   "cell_type": "markdown",
   "id": "4aff07650a76952",
   "metadata": {},
   "source": [
    "### Build and run an `ObservablePipeline`"
   ]
  },
  {
   "cell_type": "code",
   "execution_count": 6,
   "id": "9b15820328ca9184",
   "metadata": {
    "ExecuteTime": {
     "end_time": "2025-09-03T18:24:07.513086Z",
     "start_time": "2025-09-03T18:24:07.510094Z"
    }
   },
   "outputs": [
    {
     "name": "stdout",
     "output_type": "stream",
     "text": [
      "[ALL] PipelineEvent.PIPELINE_START :: Demo\n",
      "[BEFORE] idx=0 step=Demo.Load requires=[] provides=['data']\n",
      "[ALL] PipelineEvent.BEFORE_STEP :: Demo.Load\n",
      "[AFTER]  idx=0 step=Demo.Load\n",
      "[ALL] PipelineEvent.AFTER_STEP :: Demo.Load\n",
      "[BEFORE] idx=1 step=Demo.Sum requires=['data'] provides=['sum']\n",
      "[BEFORE] summing step=Demo.Sum\n",
      "[ALL] PipelineEvent.BEFORE_STEP :: Demo.Sum\n",
      "[AFTER]  idx=1 step=Demo.Sum\n",
      "[ALL] PipelineEvent.AFTER_STEP :: Demo.Sum\n",
      "[ALL] PipelineEvent.PIPELINE_END :: Demo\n",
      "STATE: {'data': [1, 2, 3], 'sum': 6}\n"
     ]
    }
   ],
   "source": [
    "p = ObservablePipeline([Load(), Sum()], name=\"Demo\", bus=bus)\n",
    "\n",
    "s = State()\n",
    "p(s)\n",
    "print(\"STATE:\", s.to_dict())\n",
    "# Expected:\n",
    "# [ALL] PipelineEvent.PIPELINE_START :: Demo\n",
    "# [BEFORE] idx=0 step=Demo.Load requires=[] provides=['data']\n",
    "# [ALL] PipelineEvent.BEFORE_STEP :: Demo.Load\n",
    "# [AFTER]  idx=0 step=Demo.Load\n",
    "# [ALL] PipelineEvent.AFTER_STEP :: Demo.Load\n",
    "# [BEFORE] idx=1 step=Demo.Sum requires=['data'] provides=['sum']\n",
    "# [BEFORE] summing step=Demo.Sum\n",
    "# [ALL] PipelineEvent.BEFORE_STEP :: Demo.Sum\n",
    "# [AFTER]  idx=1 step=Demo.Sum\n",
    "# [ALL] PipelineEvent.AFTER_STEP :: Demo.Sum\n",
    "# [ALL] PipelineEvent.PIPELINE_END :: Demo\n",
    "# STATE: {'data': [1, 2, 3], 'sum': 6}"
   ]
  },
  {
   "cell_type": "markdown",
   "id": "6f2e250c69aa80ea",
   "metadata": {},
   "source": [
    "### Error path (triggers on_error)"
   ]
  },
  {
   "cell_type": "code",
   "execution_count": 7,
   "id": "6d041f17ee1430d5",
   "metadata": {
    "ExecuteTime": {
     "end_time": "2025-09-03T18:24:07.527943Z",
     "start_time": "2025-09-03T18:24:07.525462Z"
    }
   },
   "outputs": [
    {
     "name": "stdout",
     "output_type": "stream",
     "text": [
      "[ALL] PipelineEvent.PIPELINE_START :: ErrDemo\n",
      "[BEFORE] idx=0 step=ErrDemo.Boom requires=['missing'] provides=[]\n",
      "[ALL] PipelineEvent.BEFORE_STEP :: ErrDemo.Boom\n",
      "[ERROR] step=ErrDemo.Boom :: KeyError(\"Boom: missing ['missing']\")\n",
      "[ALL] PipelineEvent.ON_ERROR :: ErrDemo.Boom\n",
      "[ALL] PipelineEvent.PIPELINE_END :: ErrDemo\n"
     ]
    }
   ],
   "source": [
    "p_err = ObservablePipeline([Boom()], name=\"ErrDemo\", bus=bus)\n",
    "\n",
    "try:\n",
    "    p_err(State())\n",
    "except KeyError:\n",
    "    pass\n",
    "# Expected:\n",
    "# [ALL] PipelineEvent.PIPELINE_START :: ErrDemo\n",
    "# [BEFORE] idx=0 step=ErrDemo.Boom requires=['missing'] provides=[]\n",
    "# [ALL] PipelineEvent.BEFORE_STEP :: ErrDemo.Boom\n",
    "# [ERROR] step=ErrDemo.Boom :: KeyError(\"Boom: missing ['missing']\")\n",
    "# [ALL] PipelineEvent.ON_ERROR :: ErrDemo.Boom\n",
    "# [ALL] PipelineEvent.PIPELINE_END :: ErrDemo"
   ]
  }
 ],
 "metadata": {
  "kernelspec": {
   "display_name": ".venv",
   "language": "python",
   "name": "python3"
  },
  "language_info": {
   "codemirror_mode": {
    "name": "ipython",
    "version": 3
   },
   "file_extension": ".py",
   "mimetype": "text/x-python",
   "name": "python",
   "nbconvert_exporter": "python",
   "pygments_lexer": "ipython3",
   "version": "3.12.3"
  }
 },
 "nbformat": 4,
 "nbformat_minor": 5
}
