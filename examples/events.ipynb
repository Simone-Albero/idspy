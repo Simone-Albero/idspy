{
 "cells": [
  {
   "metadata": {},
   "cell_type": "markdown",
   "source": "### Setup",
   "id": "1e1df2b274806a3f"
  },
  {
   "metadata": {
    "ExecuteTime": {
     "end_time": "2025-09-03T18:24:07.476641Z",
     "start_time": "2025-09-03T18:24:07.472412Z"
    }
   },
   "cell_type": "code",
   "source": [
    "from src.idspy.core.pipeline import PipelineEvent, ObservablePipeline\n",
    "from src.idspy.core.state import State\n",
    "from src.idspy.core.step import Step\n",
    "from src.idspy.events.bus import EventBus\n",
    "from src.idspy.events.events import Event\n",
    "from src.idspy.events.predicates import only_id"
   ],
   "id": "b91e35df280f80fc",
   "outputs": [],
   "execution_count": 6
  },
  {
   "metadata": {},
   "cell_type": "markdown",
   "source": "### Create an `EventBus` and register subscribers",
   "id": "56ec82350ec72c07"
  },
  {
   "metadata": {
    "ExecuteTime": {
     "end_time": "2025-09-03T18:24:07.494347Z",
     "start_time": "2025-09-03T18:24:07.489350Z"
    }
   },
   "cell_type": "code",
   "source": [
    "bus = EventBus()\n",
    "\n",
    "\n",
    "# All events: minimal one-line log\n",
    "@bus.on(EventBus.ALL)\n",
    "def log_all(ev: Event) -> None:\n",
    "    print(f\"[ALL] {ev.type} :: {ev.id}\")\n",
    "\n",
    "\n",
    "# Before/After step: show index + requires/provides\n",
    "@bus.on(PipelineEvent.BEFORE_STEP.value)\n",
    "def on_before(ev: Event) -> None:\n",
    "    idx = ev.payload.get(\"index\")\n",
    "    req = ev.payload.get(\"requires\", [])\n",
    "    prov = ev.payload.get(\"provides\", [])\n",
    "    print(f\"[BEFORE] idx={idx} step={ev.id} requires={req} provides={prov}\")\n",
    "\n",
    "\n",
    "@bus.on(PipelineEvent.BEFORE_STEP.value, only_id(\"Demo.Sum\"))\n",
    "def on_before_sum(ev: Event) -> None:\n",
    "    print(f\"[BEFORE] summing step={ev.id}\")\n",
    "\n",
    "\n",
    "@bus.on(PipelineEvent.AFTER_STEP.value)\n",
    "def on_after(ev: Event) -> None:\n",
    "    idx = ev.payload.get(\"index\")\n",
    "    print(f\"[AFTER]  idx={idx} step={ev.id}\")\n",
    "\n",
    "\n",
    "# Error handler\n",
    "@bus.on(PipelineEvent.ON_ERROR.value)\n",
    "def on_err(ev: Event) -> None:\n",
    "    print(f\"[ERROR] step={ev.id} :: {ev.payload.get('error')}\")"
   ],
   "id": "b1dc274996e73bca",
   "outputs": [],
   "execution_count": 7
  },
  {
   "metadata": {},
   "cell_type": "markdown",
   "source": "### Define a couple of simple `Steps`",
   "id": "bd6c2df733328d40"
  },
  {
   "metadata": {
    "ExecuteTime": {
     "end_time": "2025-09-03T18:24:07.504436Z",
     "start_time": "2025-09-03T18:24:07.500944Z"
    }
   },
   "cell_type": "code",
   "source": [
    "class Load(Step):\n",
    "    def __init__(self):\n",
    "        super().__init__(provides=[\"data\"])\n",
    "\n",
    "    def run(self, state: State) -> None:\n",
    "        state[\"data\"] = [1, 2, 3]\n",
    "\n",
    "\n",
    "class Sum(Step):\n",
    "    def __init__(self):\n",
    "        super().__init__(requires=[\"data\"], provides=[\"sum\"])\n",
    "\n",
    "    def run(self, state: State) -> None:\n",
    "        state[\"sum\"] = sum(state[\"data\"])\n",
    "\n",
    "\n",
    "class Boom(Step):\n",
    "    def __init__(self):\n",
    "        super().__init__(requires=[\"missing\"])\n",
    "\n",
    "    def run(self, state: State) -> None:\n",
    "        # never reached because requires isn't satisfied\n",
    "        pass\n"
   ],
   "id": "bed906bcd8ad3a7",
   "outputs": [],
   "execution_count": 8
  },
  {
   "metadata": {},
   "cell_type": "markdown",
   "source": "### Build and run an `ObservablePipeline`",
   "id": "4aff07650a76952"
  },
  {
   "metadata": {
    "ExecuteTime": {
     "end_time": "2025-09-03T18:24:07.513086Z",
     "start_time": "2025-09-03T18:24:07.510094Z"
    }
   },
   "cell_type": "code",
   "source": [
    "p = ObservablePipeline([Load(), Sum()], name=\"Demo\", bus=bus)\n",
    "\n",
    "s = State()\n",
    "p(s)\n",
    "print(\"STATE:\", s.to_dict())\n",
    "# Expected:\n",
    "# [ALL] PipelineEvent.PIPELINE_START :: Demo\n",
    "# [BEFORE] idx=0 step=Demo.Load requires=[] provides=['data']\n",
    "# [ALL] PipelineEvent.BEFORE_STEP :: Demo.Load\n",
    "# [AFTER]  idx=0 step=Demo.Load\n",
    "# [ALL] PipelineEvent.AFTER_STEP :: Demo.Load\n",
    "# [BEFORE] idx=1 step=Demo.Sum requires=['data'] provides=['sum']\n",
    "# [BEFORE] summing step=Demo.Sum\n",
    "# [ALL] PipelineEvent.BEFORE_STEP :: Demo.Sum\n",
    "# [AFTER]  idx=1 step=Demo.Sum\n",
    "# [ALL] PipelineEvent.AFTER_STEP :: Demo.Sum\n",
    "# [ALL] PipelineEvent.PIPELINE_END :: Demo\n",
    "# STATE: {'data': [1, 2, 3], 'sum': 6}"
   ],
   "id": "9b15820328ca9184",
   "outputs": [
    {
     "name": "stdout",
     "output_type": "stream",
     "text": [
      "[ALL] PipelineEvent.PIPELINE_START :: Demo\n",
      "[BEFORE] idx=0 step=Demo.Load requires=[] provides=['data']\n",
      "[ALL] PipelineEvent.BEFORE_STEP :: Demo.Load\n",
      "[AFTER]  idx=0 step=Demo.Load\n",
      "[ALL] PipelineEvent.AFTER_STEP :: Demo.Load\n",
      "[BEFORE] idx=1 step=Demo.Sum requires=['data'] provides=['sum']\n",
      "[BEFORE] summing step=Demo.Sum\n",
      "[ALL] PipelineEvent.BEFORE_STEP :: Demo.Sum\n",
      "[AFTER]  idx=1 step=Demo.Sum\n",
      "[ALL] PipelineEvent.AFTER_STEP :: Demo.Sum\n",
      "[ALL] PipelineEvent.PIPELINE_END :: Demo\n",
      "STATE: {'data': [1, 2, 3], 'sum': 6}\n"
     ]
    }
   ],
   "execution_count": 9
  },
  {
   "metadata": {},
   "cell_type": "markdown",
   "source": "### Error path (triggers on_error)",
   "id": "6f2e250c69aa80ea"
  },
  {
   "metadata": {
    "ExecuteTime": {
     "end_time": "2025-09-03T18:24:07.527943Z",
     "start_time": "2025-09-03T18:24:07.525462Z"
    }
   },
   "cell_type": "code",
   "source": [
    "p_err = ObservablePipeline([Boom()], name=\"ErrDemo\", bus=bus)\n",
    "\n",
    "try:\n",
    "    p_err(State())\n",
    "except KeyError:\n",
    "    pass\n",
    "# Expected:\n",
    "# [ALL] PipelineEvent.PIPELINE_START :: ErrDemo\n",
    "# [BEFORE] idx=0 step=ErrDemo.Boom requires=['missing'] provides=[]\n",
    "# [ALL] PipelineEvent.BEFORE_STEP :: ErrDemo.Boom\n",
    "# [ERROR] step=ErrDemo.Boom :: KeyError(\"Boom: missing ['missing']\")\n",
    "# [ALL] PipelineEvent.ON_ERROR :: ErrDemo.Boom\n",
    "# [ALL] PipelineEvent.PIPELINE_END :: ErrDemo"
   ],
   "id": "6d041f17ee1430d5",
   "outputs": [
    {
     "name": "stdout",
     "output_type": "stream",
     "text": [
      "[ALL] PipelineEvent.PIPELINE_START :: ErrDemo\n",
      "[BEFORE] idx=0 step=ErrDemo.Boom requires=['missing'] provides=[]\n",
      "[ALL] PipelineEvent.BEFORE_STEP :: ErrDemo.Boom\n",
      "[ERROR] step=ErrDemo.Boom :: KeyError(\"Boom: missing ['missing']\")\n",
      "[ALL] PipelineEvent.ON_ERROR :: ErrDemo.Boom\n",
      "[ALL] PipelineEvent.PIPELINE_END :: ErrDemo\n"
     ]
    }
   ],
   "execution_count": 10
  }
 ],
 "metadata": {
  "kernelspec": {
   "display_name": "Python 3",
   "language": "python",
   "name": "python3"
  },
  "language_info": {
   "codemirror_mode": {
    "name": "ipython",
    "version": 2
   },
   "file_extension": ".py",
   "mimetype": "text/x-python",
   "name": "python",
   "nbconvert_exporter": "python",
   "pygments_lexer": "ipython2",
   "version": "2.7.6"
  }
 },
 "nbformat": 4,
 "nbformat_minor": 5
}
