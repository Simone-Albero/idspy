{
 "cells": [
  {
   "cell_type": "markdown",
   "id": "66978cc8",
   "metadata": {},
   "source": [
    "# PyTorch Training Example with IDS-Py Framework\n",
    "\n",
    "This notebook demonstrates a complete training workflow using the IDS-Py framework components:\n",
    "- **Batch formalism**: Custom batch containers for flexible data handling\n",
    "- **BaseModel**: Abstract base class for models with consistent interfaces  \n",
    "- **BaseLoss**: Abstract base class for loss functions with reduction support\n",
    "- **Training loops**: High-level training and evaluation loops with event handling\n",
    "\n",
    "## Overview\n",
    "\n",
    "We'll create a simple classification example that showcases:\n",
    "1. Custom dataset and dataloader integration with Batch containers\n",
    "2. Concrete model and loss implementations\n",
    "3. Training loop with gradient clipping and progress tracking\n",
    "4. Evaluation loop with output saving\n",
    "5. Complete training pipeline with multiple epochs\n",
    "\n",
    "\n",
    "---\n",
    "\n",
    "Let's start by setting up our environment and exploring the ML workflow."
   ]
  },
  {
   "cell_type": "code",
   "execution_count": 17,
   "id": "42fda4ef",
   "metadata": {},
   "outputs": [],
   "source": [
    "import sys\n",
    "import os\n",
    "\n",
    "# Add the project root to Python path\n",
    "project_root = os.path.abspath(os.path.join(os.getcwd(), '..'))\n",
    "if project_root not in sys.path:\n",
    "    sys.path.insert(0, project_root)"
   ]
  },
  {
   "cell_type": "code",
   "execution_count": 18,
   "id": "b2ac2993",
   "metadata": {},
   "outputs": [],
   "source": [
    "# PyTorch imports\n",
    "import torch\n",
    "import torch.nn as nn\n",
    "from torch.utils.data import Dataset, DataLoader\n",
    "from torch.optim import Adam\n",
    "import numpy as np\n",
    "import pandas as pd\n",
    "import matplotlib.pyplot as plt\n",
    "from sklearn.datasets import make_classification\n",
    "from sklearn.model_selection import train_test_split\n",
    "from sklearn.preprocessing import StandardScaler\n",
    "\n",
    "# IDS-Py framework imports\n",
    "from src.idspy.data.torch.batch import Batch, default_collate, ensure_batch\n",
    "from src.idspy.nn.torch.model.base import BaseModel, ModelOutput\n",
    "from src.idspy.nn.torch.loss.base import BaseLoss\n",
    "from src.idspy.nn.torch.engine.loops import train_epoch, eval_epoch\n",
    "\n",
    "# Set random seeds for reproducibility\n",
    "torch.manual_seed(42)\n",
    "np.random.seed(42)"
   ]
  },
  {
   "cell_type": "markdown",
   "id": "0afd2dcc",
   "metadata": {},
   "source": [
    "## 2. Create Sample Dataset and DataLoader\n",
    "\n",
    "We'll create a synthetic classification dataset and implement a custom Dataset class that returns samples compatible with our Batch format."
   ]
  },
  {
   "cell_type": "code",
   "execution_count": 19,
   "id": "77d67687",
   "metadata": {},
   "outputs": [
    {
     "name": "stdout",
     "output_type": "stream",
     "text": [
      "Generating synthetic classification dataset...\n",
      "Training samples: 800\n",
      "Validation samples: 200\n",
      "Feature dimensions: 20\n",
      "Number of classes: 3\n",
      "\n",
      "Sample batch type: <class 'src.idspy.data.torch.batch.Batch'>\n",
      "Features shape: torch.Size([32, 20])\n",
      "Target shape: torch.Size([32])\n",
      "Target values: tensor([0, 0, 0, 2, 2])\n"
     ]
    }
   ],
   "source": [
    "class SyntheticDataset(Dataset):\n",
    "    \"\"\"\n",
    "    Custom dataset that returns samples compatible with Batch format.\n",
    "    Each sample is a dictionary with 'features' and 'target' keys.\n",
    "    \"\"\"\n",
    "\n",
    "    def __init__(self, features, targets):\n",
    "        self.features = torch.FloatTensor(features)\n",
    "        self.targets = torch.LongTensor(targets)\n",
    "\n",
    "    def __len__(self):\n",
    "        return len(self.features)\n",
    "\n",
    "    def __getitem__(self, idx):\n",
    "        # Return dictionary format compatible with Batch\n",
    "        sample = {\n",
    "            'features': self.features[idx],\n",
    "            'target': self.targets[idx]\n",
    "        }\n",
    "\n",
    "        return sample\n",
    "\n",
    "# Generate synthetic classification data\n",
    "print(\"Generating synthetic classification dataset...\")\n",
    "X, y = make_classification(\n",
    "    n_samples=1000,\n",
    "    n_features=20,\n",
    "    n_informative=15,\n",
    "    n_redundant=5,\n",
    "    n_classes=3,\n",
    "    random_state=42\n",
    ")\n",
    "\n",
    "# Split into train/validation sets\n",
    "X_train, X_val, y_train, y_val = train_test_split(\n",
    "    X, y, test_size=0.2, random_state=42, stratify=y\n",
    ")\n",
    "\n",
    "# Standardize features\n",
    "scaler = StandardScaler()\n",
    "X_train = scaler.fit_transform(X_train)\n",
    "X_val = scaler.transform(X_val)\n",
    "\n",
    "# Create datasets\n",
    "train_dataset = SyntheticDataset(X_train, y_train)\n",
    "val_dataset = SyntheticDataset(X_val, y_val)\n",
    "\n",
    "# Create dataloaders with custom collate function\n",
    "train_loader = DataLoader(\n",
    "    train_dataset,\n",
    "    batch_size=32,\n",
    "    shuffle=True,\n",
    "    collate_fn=default_collate,  # Use our custom collate function\n",
    "    num_workers=0\n",
    ")\n",
    "\n",
    "val_loader = DataLoader(\n",
    "    val_dataset,\n",
    "    batch_size=32,\n",
    "    shuffle=False,\n",
    "    collate_fn=default_collate,\n",
    "    num_workers=0\n",
    ")\n",
    "\n",
    "print(f\"Training samples: {len(train_dataset)}\")\n",
    "print(f\"Validation samples: {len(val_dataset)}\")\n",
    "print(f\"Feature dimensions: {X_train.shape[1]}\")\n",
    "print(f\"Number of classes: {len(np.unique(y))}\")\n",
    "\n",
    "# Test a single batch\n",
    "sample_batch = next(iter(train_loader))\n",
    "print(f\"\\nSample batch type: {type(sample_batch)}\")\n",
    "print(f\"Features shape: {sample_batch.features.shape}\")\n",
    "print(f\"Target shape: {sample_batch.target.shape}\")\n",
    "print(f\"Target values: {sample_batch.target[:5]}\")"
   ]
  },
  {
   "cell_type": "markdown",
   "id": "4fec5f7b",
   "metadata": {},
   "source": [
    "## 3. Define Example Model\n",
    "\n",
    "Now let's implement a concrete model class that inherits from BaseModel. This model will implement both the `forward()` and `for_loss()` methods required by the base class.\n",
    "\n",
    "`for_loss()` method prepare arguments to be passed to the loss function, default is (output.logits, batch.target)"
   ]
  },
  {
   "cell_type": "code",
   "execution_count": 20,
   "id": "96a8d798",
   "metadata": {},
   "outputs": [
    {
     "name": "stdout",
     "output_type": "stream",
     "text": [
      "Model created:\n",
      "  Input dimension: 20\n",
      "  Hidden dimension: 128\n",
      "  Number of classes: 3\n",
      "  Total parameters: 22,278\n",
      "\n",
      "Model output:\n",
      "  Logits shape: torch.Size([32, 3])\n",
      "  Latents shape: torch.Size([32, 64])\n",
      "  Loss inputs shapes: [torch.Size([32, 3]), torch.Size([32])]\n"
     ]
    }
   ],
   "source": [
    "class SimpleClassifier(BaseModel):\n",
    "    \"\"\"\n",
    "    Simple feedforward neural network for classification.\n",
    "    Demonstrates proper BaseModel implementation.\n",
    "    \"\"\"\n",
    "\n",
    "    def __init__(self, input_dim: int, hidden_dim: int, num_classes: int, dropout: float = 0.2):\n",
    "        super().__init__()\n",
    "        self.input_dim = input_dim\n",
    "        self.hidden_dim = hidden_dim\n",
    "        self.num_classes = num_classes\n",
    "\n",
    "        # Define layers\n",
    "        self.layers = nn.Sequential(\n",
    "            nn.Linear(input_dim, hidden_dim),\n",
    "            nn.ReLU(),\n",
    "            nn.Dropout(dropout),\n",
    "            nn.Linear(hidden_dim, hidden_dim // 2),\n",
    "            nn.ReLU(),\n",
    "            nn.Dropout(dropout),\n",
    "            nn.Linear(hidden_dim // 2, num_classes)\n",
    "        )\n",
    "\n",
    "        # Feature extractor for latent representations\n",
    "        self.feature_extractor = nn.Sequential(\n",
    "            nn.Linear(input_dim, hidden_dim),\n",
    "            nn.ReLU(),\n",
    "            nn.Dropout(dropout),\n",
    "            nn.Linear(hidden_dim, hidden_dim // 2),\n",
    "            nn.ReLU()\n",
    "        )\n",
    "\n",
    "        self.classifier = nn.Linear(hidden_dim // 2, num_classes)\n",
    "\n",
    "    def forward(self, batch):\n",
    "        \"\"\"\n",
    "        Forward pass implementation required by BaseModel.\n",
    "\n",
    "        Args:\n",
    "            batch: Batch object or mapping with 'features' key\n",
    "\n",
    "        Returns:\n",
    "            ModelOutput: Contains logits and optional latents/extras\n",
    "        \"\"\"\n",
    "        batch = ensure_batch(batch)\n",
    "        features = batch.features\n",
    "\n",
    "        # Extract latent features\n",
    "        latents = self.feature_extractor(features)\n",
    "\n",
    "        # Get logits\n",
    "        logits = self.classifier(latents)\n",
    "        return ModelOutput(\n",
    "            logits=logits,\n",
    "            latents=latents,  # Include latent representations\n",
    "        )\n",
    "\n",
    "    def for_loss(self, output: ModelOutput, batch):\n",
    "        \"\"\"\n",
    "        Prepare inputs for loss function as required by BaseModel.\n",
    "\n",
    "        Args:\n",
    "            output: ModelOutput from forward pass\n",
    "            batch: Batch object or mapping\n",
    "\n",
    "        Returns:\n",
    "            Tuple of (predictions, targets) for loss function\n",
    "        \"\"\"\n",
    "        batch = ensure_batch(batch)\n",
    "        return output.logits, batch.target\n",
    "\n",
    "# Create model instance\n",
    "input_dim = X_train.shape[1]\n",
    "hidden_dim = 128\n",
    "num_classes = len(np.unique(y))\n",
    "\n",
    "model = SimpleClassifier(\n",
    "    input_dim=input_dim,\n",
    "    hidden_dim=hidden_dim,\n",
    "    num_classes=num_classes,\n",
    "    dropout=0.2\n",
    ")\n",
    "\n",
    "print(f\"Model created:\")\n",
    "print(f\"  Input dimension: {input_dim}\")\n",
    "print(f\"  Hidden dimension: {hidden_dim}\")\n",
    "print(f\"  Number of classes: {num_classes}\")\n",
    "print(f\"  Total parameters: {sum(p.numel() for p in model.parameters()):,}\")\n",
    "\n",
    "# Test model with sample batch\n",
    "model.eval()\n",
    "with torch.no_grad():\n",
    "    sample_output = model(sample_batch)\n",
    "    print(f\"\\nModel output:\")\n",
    "    print(f\"  Logits shape: {sample_output.logits.shape}\")\n",
    "    print(f\"  Latents shape: {sample_output.latents.shape}\")\n",
    "\n",
    "    # Test for_loss method\n",
    "    loss_inputs = model.for_loss(sample_output, sample_batch)\n",
    "    print(f\"  Loss inputs shapes: {[t.shape for t in loss_inputs]}\")"
   ]
  },
  {
   "cell_type": "markdown",
   "id": "66b3fa31",
   "metadata": {},
   "source": [
    "## 4. Define Example Loss Function\n",
    "\n",
    "Now let's implement a concrete loss function that inherits from BaseLoss. We'll create a cross-entropy loss with optional label smoothing for classification.\n",
    "\n",
    "`_reduce` is provided by BaseLoss and handles 'mean', 'sum', 'none'"
   ]
  },
  {
   "cell_type": "code",
   "execution_count": 21,
   "id": "ca7ac407",
   "metadata": {},
   "outputs": [
    {
     "name": "stdout",
     "output_type": "stream",
     "text": [
      "Loss function created:\n",
      "  Type: CrossEntropyLoss\n",
      "  Reduction: mean\n",
      "  Label smoothing: 0.1\n",
      "\n",
      "Sample loss: 1.1040\n",
      "Loss tensor shape: torch.Size([])\n"
     ]
    }
   ],
   "source": [
    "class CrossEntropyLoss(BaseLoss):\n",
    "    \"\"\"\n",
    "    Cross-entropy loss with optional label smoothing.\n",
    "    Demonstrates proper BaseLoss implementation.\n",
    "    \"\"\"\n",
    "\n",
    "    def __init__(self, reduction: str = \"mean\", label_smoothing: float = 0.0):\n",
    "        super().__init__(reduction)\n",
    "        self.label_smoothing = label_smoothing\n",
    "        self.cross_entropy = nn.CrossEntropyLoss(\n",
    "            reduction='none',  # We handle reduction ourselves\n",
    "            label_smoothing=label_smoothing\n",
    "        )\n",
    "\n",
    "    def forward(self, pred: torch.Tensor, target: torch.Tensor, **extras) -> torch.Tensor:\n",
    "        \"\"\"\n",
    "        Compute cross-entropy loss.\n",
    "\n",
    "        Args:\n",
    "            pred: Model predictions (logits) of shape [batch_size, num_classes]\n",
    "            target: Target labels of shape [batch_size]\n",
    "            **extras: Additional optional fields (unused in this example)\n",
    "\n",
    "        Returns:\n",
    "            Loss tensor (scalar or per-sample if reduction='none')\n",
    "        \"\"\"\n",
    "        if target is None:\n",
    "            raise ValueError(\"Target cannot be None for CrossEntropyLoss\")\n",
    "\n",
    "        # Compute raw loss (per-sample)\n",
    "        loss = self.cross_entropy(pred, target)\n",
    "\n",
    "        # Apply reduction\n",
    "        return self._reduce(loss)\n",
    "\n",
    "# Create loss function\n",
    "loss_fn = CrossEntropyLoss(reduction='mean', label_smoothing=0.1)\n",
    "\n",
    "print(f\"Loss function created:\")\n",
    "print(f\"  Type: CrossEntropyLoss\")\n",
    "print(f\"  Reduction: {loss_fn.reduction}\")\n",
    "print(f\"  Label smoothing: {loss_fn.label_smoothing}\")\n",
    "\n",
    "# Test loss function with sample batch\n",
    "model.eval()\n",
    "with torch.no_grad():\n",
    "    sample_output = model(sample_batch)\n",
    "    loss_inputs = model.for_loss(sample_output, sample_batch)\n",
    "    sample_loss = loss_fn(*loss_inputs)\n",
    "    print(f\"\\nSample loss: {sample_loss.item():.4f}\")\n",
    "    print(f\"Loss tensor shape: {sample_loss.shape}\")  # Should be scalar for 'mean' reduction"
   ]
  },
  {
   "cell_type": "markdown",
   "id": "548d8a2f",
   "metadata": {},
   "source": [
    "## 5. Set Up Training Components\n",
    "\n",
    "Let's configure the optimizer, device, and other training components before running the training loop."
   ]
  },
  {
   "cell_type": "code",
   "execution_count": 22,
   "id": "2c1e4763",
   "metadata": {},
   "outputs": [
    {
     "name": "stdout",
     "output_type": "stream",
     "text": [
      "Using device: cpu\n",
      "Optimizer: Adam(lr=0.001, weight_decay=1e-4)\n",
      "Training configuration:\n",
      "  Epochs: 10\n",
      "  Gradient clipping: 1.0\n",
      "  Batch size: 32\n",
      "  Training batches per epoch: 25\n",
      "  Validation batches per epoch: 7\n"
     ]
    }
   ],
   "source": [
    "# Set up device\n",
    "device = torch.device('cpu')\n",
    "model = model.to(device)\n",
    "print(f\"Using device: {device}\")\n",
    "\n",
    "# Set up optimizer\n",
    "optimizer = Adam(model.parameters(), lr=0.001, weight_decay=1e-4)\n",
    "print(f\"Optimizer: Adam(lr=0.001, weight_decay=1e-4)\")\n",
    "\n",
    "# Training hyperparameters\n",
    "num_epochs = 10\n",
    "clip_grad_max_norm = 1.0\n",
    "\n",
    "print(f\"Training configuration:\")\n",
    "print(f\"  Epochs: {num_epochs}\")\n",
    "print(f\"  Gradient clipping: {clip_grad_max_norm}\")\n",
    "print(f\"  Batch size: {train_loader.batch_size}\")\n",
    "print(f\"  Training batches per epoch: {len(train_loader)}\")\n",
    "print(f\"  Validation batches per epoch: {len(val_loader)}\")\n",
    "\n",
    "# Initialize tracking lists for metrics\n",
    "train_losses = []\n",
    "val_losses = []\n",
    "learning_rates = []\n",
    "gradient_norms = []"
   ]
  },
  {
   "cell_type": "markdown",
   "id": "83d62df6",
   "metadata": {},
   "source": [
    "## 6. Training Loop\n",
    "\n",
    "Now let's run the complete training loop using the engine loops from the idspy framework. This demonstrates the high-level training and evaluation functions."
   ]
  },
  {
   "cell_type": "code",
   "execution_count": 23,
   "id": "ccfc9725",
   "metadata": {},
   "outputs": [
    {
     "name": "stdout",
     "output_type": "stream",
     "text": [
      "Starting training...\n",
      "==================================================\n",
      "\n",
      "Epoch 1/10\n",
      "------------------------------\n"
     ]
    },
    {
     "name": "stderr",
     "output_type": "stream",
     "text": [
      "Training: 100%|██████████| 25/25 [00:00<00:00, 504.37batch/s, loss=1.0223]\n",
      "Evaluating: 100%|██████████| 7/7 [00:00<00:00, 855.76batch/s, loss=0.9193]\n"
     ]
    },
    {
     "name": "stdout",
     "output_type": "stream",
     "text": [
      "Epoch 1 Summary:\n",
      "  Train Loss: 1.0359\n",
      "  Val Loss: 0.9476\n",
      "  Learning Rate: 0.001000\n",
      "  Grad Norm: 0.4847\n",
      "\n",
      "Epoch 2/10\n",
      "------------------------------\n"
     ]
    },
    {
     "name": "stderr",
     "output_type": "stream",
     "text": [
      "Training: 100%|██████████| 25/25 [00:00<00:00, 530.56batch/s, loss=0.7632]\n",
      "Evaluating: 100%|██████████| 7/7 [00:00<00:00, 1010.22batch/s, loss=0.7313]\n"
     ]
    },
    {
     "name": "stdout",
     "output_type": "stream",
     "text": [
      "Epoch 2 Summary:\n",
      "  Train Loss: 0.8850\n",
      "  Val Loss: 0.8060\n",
      "  Learning Rate: 0.001000\n",
      "  Grad Norm: 0.6736\n",
      "\n",
      "Epoch 3/10\n",
      "------------------------------\n"
     ]
    },
    {
     "name": "stderr",
     "output_type": "stream",
     "text": [
      "Training: 100%|██████████| 25/25 [00:00<00:00, 483.80batch/s, loss=0.7837]\n",
      "Evaluating: 100%|██████████| 7/7 [00:00<00:00, 923.25batch/s, loss=0.6397]\n"
     ]
    },
    {
     "name": "stdout",
     "output_type": "stream",
     "text": [
      "Epoch 3 Summary:\n",
      "  Train Loss: 0.7839\n",
      "  Val Loss: 0.7401\n",
      "  Learning Rate: 0.001000\n",
      "  Grad Norm: 0.6024\n",
      "\n",
      "Epoch 4/10\n",
      "------------------------------\n"
     ]
    },
    {
     "name": "stderr",
     "output_type": "stream",
     "text": [
      "Training: 100%|██████████| 25/25 [00:00<00:00, 508.75batch/s, loss=0.7142]\n",
      "Evaluating: 100%|██████████| 7/7 [00:00<00:00, 1016.73batch/s, loss=0.5263]\n"
     ]
    },
    {
     "name": "stdout",
     "output_type": "stream",
     "text": [
      "Epoch 4 Summary:\n",
      "  Train Loss: 0.7167\n",
      "  Val Loss: 0.6860\n",
      "  Learning Rate: 0.001000\n",
      "  Grad Norm: 0.6576\n",
      "\n",
      "Epoch 5/10\n",
      "------------------------------\n"
     ]
    },
    {
     "name": "stderr",
     "output_type": "stream",
     "text": [
      "Training: 100%|██████████| 25/25 [00:00<00:00, 566.62batch/s, loss=0.6365]\n",
      "Evaluating: 100%|██████████| 7/7 [00:00<00:00, 1000.75batch/s, loss=0.5203]\n"
     ]
    },
    {
     "name": "stdout",
     "output_type": "stream",
     "text": [
      "Epoch 5 Summary:\n",
      "  Train Loss: 0.6672\n",
      "  Val Loss: 0.6667\n",
      "  Learning Rate: 0.001000\n",
      "  Grad Norm: 0.5739\n",
      "\n",
      "Epoch 6/10\n",
      "------------------------------\n"
     ]
    },
    {
     "name": "stderr",
     "output_type": "stream",
     "text": [
      "Training: 100%|██████████| 25/25 [00:00<00:00, 528.41batch/s, loss=0.6049]\n",
      "Evaluating: 100%|██████████| 7/7 [00:00<00:00, 1353.94batch/s, loss=0.4648]\n"
     ]
    },
    {
     "name": "stdout",
     "output_type": "stream",
     "text": [
      "Epoch 6 Summary:\n",
      "  Train Loss: 0.6337\n",
      "  Val Loss: 0.6363\n",
      "  Learning Rate: 0.001000\n",
      "  Grad Norm: 0.7103\n",
      "\n",
      "Epoch 7/10\n",
      "------------------------------\n"
     ]
    },
    {
     "name": "stderr",
     "output_type": "stream",
     "text": [
      "Training: 100%|██████████| 25/25 [00:00<00:00, 576.51batch/s, loss=0.5042]\n",
      "Evaluating: 100%|██████████| 7/7 [00:00<00:00, 1206.65batch/s, loss=0.4602]\n"
     ]
    },
    {
     "name": "stdout",
     "output_type": "stream",
     "text": [
      "Epoch 7 Summary:\n",
      "  Train Loss: 0.6077\n",
      "  Val Loss: 0.6182\n",
      "  Learning Rate: 0.001000\n",
      "  Grad Norm: 0.5219\n",
      "\n",
      "Epoch 8/10\n",
      "------------------------------\n"
     ]
    },
    {
     "name": "stderr",
     "output_type": "stream",
     "text": [
      "Training: 100%|██████████| 25/25 [00:00<00:00, 493.17batch/s, loss=0.5315]\n",
      "Evaluating: 100%|██████████| 7/7 [00:00<00:00, 846.33batch/s, loss=0.4623]\n"
     ]
    },
    {
     "name": "stdout",
     "output_type": "stream",
     "text": [
      "Epoch 8 Summary:\n",
      "  Train Loss: 0.5847\n",
      "  Val Loss: 0.6029\n",
      "  Learning Rate: 0.001000\n",
      "  Grad Norm: 0.4365\n",
      "\n",
      "Epoch 9/10\n",
      "------------------------------\n"
     ]
    },
    {
     "name": "stderr",
     "output_type": "stream",
     "text": [
      "Training: 100%|██████████| 25/25 [00:00<00:00, 481.28batch/s, loss=0.5721]\n",
      "Evaluating: 100%|██████████| 7/7 [00:00<00:00, 999.73batch/s, loss=0.4431]\n"
     ]
    },
    {
     "name": "stdout",
     "output_type": "stream",
     "text": [
      "Epoch 9 Summary:\n",
      "  Train Loss: 0.5713\n",
      "  Val Loss: 0.5844\n",
      "  Learning Rate: 0.001000\n",
      "  Grad Norm: 0.5318\n",
      "\n",
      "Epoch 10/10\n",
      "------------------------------\n"
     ]
    },
    {
     "name": "stderr",
     "output_type": "stream",
     "text": [
      "Training: 100%|██████████| 25/25 [00:00<00:00, 483.08batch/s, loss=0.5526]\n",
      "Evaluating: 100%|██████████| 7/7 [00:00<00:00, 929.12batch/s, loss=0.4477]"
     ]
    },
    {
     "name": "stdout",
     "output_type": "stream",
     "text": [
      "Epoch 10 Summary:\n",
      "  Train Loss: 0.5434\n",
      "  Val Loss: 0.5719\n",
      "  Learning Rate: 0.001000\n",
      "  Grad Norm: 0.6744\n",
      "\n",
      "==================================================\n",
      "Training completed!\n",
      "Final train loss: 0.5434\n",
      "Final validation loss: 0.5719\n",
      "Best validation loss: 0.5719 (epoch 10)\n"
     ]
    },
    {
     "name": "stderr",
     "output_type": "stream",
     "text": [
      "\n"
     ]
    }
   ],
   "source": [
    "print(\"Starting training...\")\n",
    "print(\"=\" * 50)\n",
    "\n",
    "for epoch in range(num_epochs):\n",
    "    print(f\"\\nEpoch {epoch + 1}/{num_epochs}\")\n",
    "    print(\"-\" * 30)\n",
    "\n",
    "    # Training phase\n",
    "    train_loss, grad_norm, lr = train_epoch(\n",
    "        dataloader=train_loader,\n",
    "        model=model,\n",
    "        device=device,\n",
    "        optimizer=optimizer,\n",
    "        loss_fn=loss_fn,\n",
    "        clip_grad_max_norm=clip_grad_max_norm\n",
    "    )\n",
    "\n",
    "    # Validation phase\n",
    "    val_loss, _ = eval_epoch(\n",
    "        dataloader=val_loader,\n",
    "        model=model,\n",
    "        device=device,\n",
    "        loss_fn=loss_fn,\n",
    "        save_outputs=False  # We don't need outputs for now\n",
    "    )\n",
    "\n",
    "    # Store metrics\n",
    "    train_losses.append(train_loss)\n",
    "    val_losses.append(val_loss)\n",
    "    learning_rates.append(lr)\n",
    "    if grad_norm is not None:\n",
    "        gradient_norms.append(grad_norm)\n",
    "\n",
    "    # Print epoch summary\n",
    "    print(f\"Epoch {epoch + 1} Summary:\")\n",
    "    print(f\"  Train Loss: {train_loss:.4f}\")\n",
    "    print(f\"  Val Loss: {val_loss:.4f}\")\n",
    "    print(f\"  Learning Rate: {lr:.6f}\")\n",
    "    if grad_norm is not None:\n",
    "        print(f\"  Grad Norm: {grad_norm:.4f}\")\n",
    "\n",
    "print(\"\\n\" + \"=\" * 50)\n",
    "print(\"Training completed!\")\n",
    "print(f\"Final train loss: {train_losses[-1]:.4f}\")\n",
    "print(f\"Final validation loss: {val_losses[-1]:.4f}\")\n",
    "print(f\"Best validation loss: {min(val_losses):.4f} (epoch {val_losses.index(min(val_losses)) + 1})\")"
   ]
  },
  {
   "cell_type": "markdown",
   "id": "dac5bf84",
   "metadata": {},
   "source": [
    "## 7. Model Evaluation and Analysis\n",
    "\n",
    "Let's evaluate the trained model more thoroughly and analyze its performance."
   ]
  },
  {
   "cell_type": "code",
   "execution_count": 24,
   "id": "0ab37b29",
   "metadata": {},
   "outputs": [
    {
     "name": "stdout",
     "output_type": "stream",
     "text": [
      "Running detailed evaluation...\n"
     ]
    },
    {
     "name": "stderr",
     "output_type": "stream",
     "text": [
      "Evaluating: 100%|██████████| 7/7 [00:00<00:00, 922.38batch/s, loss=0.4477]\n"
     ]
    },
    {
     "name": "stdout",
     "output_type": "stream",
     "text": [
      "Validation Accuracy: 0.8300\n",
      "\n",
      "Per-class accuracy:\n",
      "  Class 0: 0.8657 (67 samples)\n",
      "  Class 1: 0.8939 (66 samples)\n",
      "  Class 2: 0.7313 (67 samples)\n",
      "\n",
      "Confidence statistics:\n",
      "  Mean confidence: 0.7550\n",
      "  Min confidence: 0.3915\n",
      "  Max confidence: 0.9990\n",
      "  Std confidence: 0.1662\n",
      "\n",
      "Example predictions (first 10 samples):\n",
      "  ✓ Pred: 0, True: 0, Conf: 0.568\n",
      "  ✗ Pred: 0, True: 2, Conf: 0.532\n",
      "  ✓ Pred: 1, True: 1, Conf: 0.755\n",
      "  ✓ Pred: 1, True: 1, Conf: 0.796\n",
      "  ✓ Pred: 2, True: 2, Conf: 0.926\n",
      "  ✓ Pred: 1, True: 1, Conf: 0.517\n",
      "  ✓ Pred: 2, True: 2, Conf: 0.908\n",
      "  ✓ Pred: 0, True: 0, Conf: 0.866\n",
      "  ✓ Pred: 0, True: 0, Conf: 0.652\n",
      "  ✓ Pred: 0, True: 0, Conf: 0.520\n"
     ]
    }
   ],
   "source": [
    "# Detailed evaluation with outputs saved\n",
    "print(\"Running detailed evaluation...\")\n",
    "val_loss_final, val_outputs = eval_epoch(\n",
    "    dataloader=val_loader,\n",
    "    model=model,\n",
    "    device=device,\n",
    "    loss_fn=loss_fn,\n",
    "    save_outputs=True  # Save outputs for analysis\n",
    ")\n",
    "\n",
    "# Collect predictions and targets\n",
    "all_predictions = []\n",
    "all_targets = []\n",
    "all_logits = []\n",
    "\n",
    "for batch, outputs in zip(val_loader, val_outputs):\n",
    "    batch = ensure_batch(batch)\n",
    "\n",
    "    # Get predictions (class with highest probability)\n",
    "    predictions = torch.argmax(outputs.logits, dim=1)\n",
    "    all_predictions.extend(predictions.cpu().numpy())\n",
    "    all_targets.extend(batch.target.cpu().numpy())\n",
    "    all_logits.extend(outputs.logits.cpu().numpy())\n",
    "\n",
    "all_predictions = np.array(all_predictions)\n",
    "all_targets = np.array(all_targets)\n",
    "all_logits = np.array(all_logits)\n",
    "\n",
    "# Calculate accuracy\n",
    "accuracy = (all_predictions == all_targets).mean()\n",
    "print(f\"Validation Accuracy: {accuracy:.4f}\")\n",
    "\n",
    "# Calculate per-class accuracy\n",
    "unique_classes = np.unique(all_targets)\n",
    "print(\"\\nPer-class accuracy:\")\n",
    "for cls in unique_classes:\n",
    "    cls_mask = all_targets == cls\n",
    "    cls_accuracy = (all_predictions[cls_mask] == all_targets[cls_mask]).mean()\n",
    "    print(f\"  Class {cls}: {cls_accuracy:.4f} ({cls_mask.sum()} samples)\")\n",
    "\n",
    "# Calculate confidence statistics\n",
    "probabilities = torch.softmax(torch.tensor(all_logits), dim=1).numpy()\n",
    "max_probabilities = probabilities.max(axis=1)\n",
    "print(f\"\\nConfidence statistics:\")\n",
    "print(f\"  Mean confidence: {max_probabilities.mean():.4f}\")\n",
    "print(f\"  Min confidence: {max_probabilities.min():.4f}\")\n",
    "print(f\"  Max confidence: {max_probabilities.max():.4f}\")\n",
    "print(f\"  Std confidence: {max_probabilities.std():.4f}\")\n",
    "\n",
    "# Show some example predictions\n",
    "print(f\"\\nExample predictions (first 10 samples):\")\n",
    "for i in range(min(10, len(all_predictions))):\n",
    "    confidence = max_probabilities[i]\n",
    "    correct = \"✓\" if all_predictions[i] == all_targets[i] else \"✗\"\n",
    "    print(f\"  {correct} Pred: {all_predictions[i]}, True: {all_targets[i]}, Conf: {confidence:.3f}\")"
   ]
  },
  {
   "cell_type": "markdown",
   "id": "de92cc27",
   "metadata": {},
   "source": [
    "## 8. Training Visualization\n",
    "\n",
    "Let's visualize the training progress and model performance."
   ]
  },
  {
   "cell_type": "code",
   "execution_count": 25,
   "id": "94d09c07",
   "metadata": {},
   "outputs": [
    {
     "data": {
      "image/png": "[encoded data removed]",
      "text/plain": [
       "<Figure size 1500x1000 with 4 Axes>"
      ]
     },
     "metadata": {},
     "output_type": "display_data"
    },
    {
     "name": "stdout",
     "output_type": "stream",
     "text": [
      "\n",
      "============================================================\n",
      "TRAINING SUMMARY\n",
      "============================================================\n",
      "Dataset: Synthetic classification (800 train, 200 val)\n",
      "Model: SimpleClassifier (22,278 parameters)\n",
      "Training epochs: 10\n",
      "Final training loss: 0.5434\n",
      "Final validation loss: 0.5719\n",
      "Best validation loss: 0.5719 (epoch 10)\n",
      "Final validation accuracy: 0.8300\n",
      "Average prediction confidence: 0.7550\n",
      "============================================================\n"
     ]
    }
   ],
   "source": [
    "# Create training visualization\n",
    "fig, axes = plt.subplots(2, 2, figsize=(15, 10))\n",
    "fig.suptitle('Training Progress and Model Analysis', fontsize=16)\n",
    "\n",
    "# Plot 1: Training and Validation Loss\n",
    "epochs_range = range(1, num_epochs + 1)\n",
    "axes[0, 0].plot(epochs_range, train_losses, 'b-', label='Training Loss', linewidth=2)\n",
    "axes[0, 0].plot(epochs_range, val_losses, 'r-', label='Validation Loss', linewidth=2)\n",
    "axes[0, 0].set_xlabel('Epoch')\n",
    "axes[0, 0].set_ylabel('Loss')\n",
    "axes[0, 0].set_title('Training vs Validation Loss')\n",
    "axes[0, 0].legend()\n",
    "axes[0, 0].grid(True, alpha=0.3)\n",
    "\n",
    "# Plot 2: Learning Rate Schedule\n",
    "if learning_rates:\n",
    "    axes[0, 1].plot(epochs_range, learning_rates, 'g-', linewidth=2)\n",
    "    axes[0, 1].set_xlabel('Epoch')\n",
    "    axes[0, 1].set_ylabel('Learning Rate')\n",
    "    axes[0, 1].set_title('Learning Rate Schedule')\n",
    "    axes[0, 1].grid(True, alpha=0.3)\n",
    "    axes[0, 1].ticklabel_format(style='scientific', axis='y', scilimits=(0,0))\n",
    "\n",
    "# Plot 3: Gradient Norms\n",
    "if gradient_norms:\n",
    "    axes[1, 0].plot(epochs_range, gradient_norms, 'm-', linewidth=2)\n",
    "    axes[1, 0].set_xlabel('Epoch')\n",
    "    axes[1, 0].set_ylabel('Gradient Norm')\n",
    "    axes[1, 0].set_title('Gradient Norms During Training')\n",
    "    axes[1, 0].grid(True, alpha=0.3)\n",
    "\n",
    "# Plot 4: Confidence Distribution\n",
    "axes[1, 1].hist(max_probabilities, bins=30, alpha=0.7, color='skyblue', edgecolor='black')\n",
    "axes[1, 1].set_xlabel('Prediction Confidence')\n",
    "axes[1, 1].set_ylabel('Count')\n",
    "axes[1, 1].set_title('Distribution of Prediction Confidence')\n",
    "axes[1, 1].grid(True, alpha=0.3)\n",
    "\n",
    "plt.tight_layout()\n",
    "plt.show()\n",
    "\n",
    "# Print final summary\n",
    "print(\"\\n\" + \"=\" * 60)\n",
    "print(\"TRAINING SUMMARY\")\n",
    "print(\"=\" * 60)\n",
    "print(f\"Dataset: Synthetic classification ({len(train_dataset)} train, {len(val_dataset)} val)\")\n",
    "print(f\"Model: SimpleClassifier ({sum(p.numel() for p in model.parameters()):,} parameters)\")\n",
    "print(f\"Training epochs: {num_epochs}\")\n",
    "print(f\"Final training loss: {train_losses[-1]:.4f}\")\n",
    "print(f\"Final validation loss: {val_losses[-1]:.4f}\")\n",
    "print(f\"Best validation loss: {min(val_losses):.4f} (epoch {val_losses.index(min(val_losses)) + 1})\")\n",
    "print(f\"Final validation accuracy: {accuracy:.4f}\")\n",
    "print(f\"Average prediction confidence: {max_probabilities.mean():.4f}\")\n",
    "print(\"=\" * 60)"
   ]
  },
  {
   "cell_type": "markdown",
   "id": "98cf86f5",
   "metadata": {},
   "source": [
    "## Key Takeaways\n",
    "\n",
    "1. **Flexible Data Handling**: The `Batch` class provides a consistent interface for model inputs\n",
    "2. **BaseModel Interface**: Consistent `forward()` and `for_loss()` method signatures\n",
    "3. **ModelOutput Structure**: Structured outputs with logits, latents, and optional extras\n",
    "4. **BaseLoss Interface**: Consistent loss computation with flexible reduction strategies\n",
    "5. **High-Level Loops**: Pre-built training and evaluation loops with progress tracking"
   ]
  }
 ],
 "metadata": {
  "kernelspec": {
   "display_name": ".venv",
   "language": "python",
   "name": "python3"
  },
  "language_info": {
   "codemirror_mode": {
    "name": "ipython",
    "version": 3
   },
   "file_extension": ".py",
   "mimetype": "text/x-python",
   "name": "python",
   "nbconvert_exporter": "python",
   "pygments_lexer": "ipython3",
   "version": "3.12.3"
  }
 },
 "nbformat": 4,
 "nbformat_minor": 5
}
