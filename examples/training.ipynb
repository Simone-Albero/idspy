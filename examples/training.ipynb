{
 "cells": [
  {
   "cell_type": "markdown",
   "id": "66978cc8",
   "metadata": {},
   "source": [
    "# PyTorch Training Example with IDS-Py Framework\n",
    "\n",
    "This notebook demonstrates a complete training workflow using the IDS-Py framework components:\n",
    "- **Batch formalism**: Custom batch containers for flexible data handling\n",
    "- **BaseModel**: Abstract base class for models with consistent interfaces  \n",
    "- **BaseLoss**: Abstract base class for loss functions with reduction support\n",
    "- **Training loops**: High-level training and evaluation loops with event handling\n",
    "\n",
    "## Overview\n",
    "\n",
    "We'll create a simple classification example that showcases:\n",
    "1. Custom dataset and dataloader integration with Batch containers\n",
    "2. Concrete model and loss implementations\n",
    "3. Training loop with gradient clipping and progress tracking\n",
    "4. Evaluation loop with output saving\n",
    "5. Complete training pipeline with multiple epochs\n",
    "\n",
    "\n",
    "---\n",
    "\n",
    "Let's start by setting up our environment and exploring the ML workflow."
   ]
  },
  {
   "cell_type": "code",
   "execution_count": 10,
   "id": "42fda4ef",
   "metadata": {},
   "outputs": [],
   "source": [
    "import sys\n",
    "import os\n",
    "\n",
    "# Add the project root to Python path\n",
    "project_root = os.path.abspath(os.path.join(os.getcwd(), '..'))\n",
    "if project_root not in sys.path:\n",
    "    sys.path.insert(0, project_root)"
   ]
  },
  {
   "cell_type": "code",
   "execution_count": 11,
   "id": "b2ac2993",
   "metadata": {},
   "outputs": [],
   "source": [
    "# PyTorch imports\n",
    "import torch\n",
    "import torch.nn as nn\n",
    "from torch.utils.data import DataLoader\n",
    "from torch.optim import Adam\n",
    "import numpy as np\n",
    "import matplotlib.pyplot as plt\n",
    "from sklearn.datasets import make_classification\n",
    "from sklearn.model_selection import train_test_split\n",
    "from sklearn.preprocessing import StandardScaler\n",
    "\n",
    "# IDS-Py framework imports\n",
    "from src.idspy.data.torch.batch import default_collate\n",
    "from src.idspy.data.torch.dataset import TensorDataset\n",
    "from src.idspy.nn.torch.model.base import BaseModel, ModelOutput\n",
    "from src.idspy.nn.torch.loss.base import BaseLoss\n",
    "from src.idspy.nn.torch.engine.epoch import train_epoch, eval_epoch\n",
    "\n",
    "# Set random seeds for reproducibility\n",
    "torch.manual_seed(42)\n",
    "np.random.seed(42)"
   ]
  },
  {
   "cell_type": "markdown",
   "id": "0afd2dcc",
   "metadata": {},
   "source": [
    "## 2. Create Sample Dataset and DataLoader\n",
    "\n",
    "We'll create a synthetic classification dataset and implement a custom Dataset class that returns samples compatible with our Batch format."
   ]
  },
  {
   "cell_type": "code",
   "execution_count": 12,
   "id": "77d67687",
   "metadata": {},
   "outputs": [
    {
     "name": "stdout",
     "output_type": "stream",
     "text": [
      "Generating synthetic classification dataset...\n",
      "Training samples: 800\n",
      "Validation samples: 200\n",
      "Feature dimensions: 20\n",
      "Number of classes: 3\n",
      "\n",
      "Sample batch type: <class 'src.idspy.data.torch.batch.Batch'>\n",
      "Features type: <class 'list'>\n",
      "Target type: <class 'list'>\n",
      "Features shape: torch.Size([32, 20])\n",
      "Target shape: torch.Size([32])\n",
      "Target values: [tensor([0, 0, 0, 2, 2, 2, 1, 1, 1, 1, 0, 1, 0, 1, 1, 1, 2, 2, 2, 2, 0, 1, 1, 2,\n",
      "        0, 2, 0, 2, 0, 0, 1, 1])]\n"
     ]
    }
   ],
   "source": [
    "# Generate synthetic classification data\n",
    "print(\"Generating synthetic classification dataset...\")\n",
    "X, y = make_classification(\n",
    "    n_samples=1000,\n",
    "    n_features=20,\n",
    "    n_informative=15,\n",
    "    n_redundant=5,\n",
    "    n_classes=3,\n",
    "    random_state=42\n",
    ")\n",
    "\n",
    "# Split into train/validation sets\n",
    "X_train, X_val, y_train, y_val = train_test_split(\n",
    "    X, y, test_size=0.2, random_state=42, stratify=y\n",
    ")\n",
    "\n",
    "# Standardize features\n",
    "scaler = StandardScaler()\n",
    "X_train = scaler.fit_transform(X_train)\n",
    "X_val = scaler.transform(X_val)\n",
    "\n",
    "# Create datasets\n",
    "train_dataset = TensorDataset(X_train, y_train)\n",
    "val_dataset = TensorDataset(X_val, y_val)\n",
    "\n",
    "# Create dataloaders with custom collate function\n",
    "train_loader = DataLoader(\n",
    "    train_dataset,\n",
    "    batch_size=32,\n",
    "    shuffle=True,\n",
    "    collate_fn=default_collate,  # Use our custom collate function\n",
    "    num_workers=0\n",
    ")\n",
    "\n",
    "val_loader = DataLoader(\n",
    "    val_dataset,\n",
    "    batch_size=32,\n",
    "    shuffle=False,\n",
    "    collate_fn=default_collate,\n",
    "    num_workers=0\n",
    ")\n",
    "\n",
    "print(f\"Training samples: {len(train_dataset)}\")\n",
    "print(f\"Validation samples: {len(val_dataset)}\")\n",
    "print(f\"Feature dimensions: {X_train.shape[1]}\")\n",
    "print(f\"Number of classes: {len(np.unique(y))}\")\n",
    "\n",
    "# Test a single batch\n",
    "sample_batch = next(iter(train_loader))\n",
    "print(f\"\\nSample batch type: {type(sample_batch)}\")\n",
    "print(f\"Features type: {type(sample_batch.features)}\")\n",
    "print(f\"Target type: {type(sample_batch.targets)}\")\n",
    "\n",
    "print(f\"Features shape: {sample_batch.features[0].shape}\")\n",
    "print(f\"Target shape: {sample_batch.targets[0].shape}\")\n",
    "print(f\"Target values: {sample_batch.targets[:5]}\")"
   ]
  },
  {
   "cell_type": "markdown",
   "id": "4fec5f7b",
   "metadata": {},
   "source": [
    "## 3. Define Example Model\n",
    "\n",
    "Now let's implement a concrete model class that inherits from BaseModel. This model will implement both the `forward()` and `for_loss()` methods required by the base class.\n",
    "\n",
    "`for_loss()` method prepare arguments to be passed to the loss function, default is (output.logits, batch.target)"
   ]
  },
  {
   "cell_type": "code",
   "execution_count": 13,
   "id": "96a8d798",
   "metadata": {},
   "outputs": [
    {
     "name": "stdout",
     "output_type": "stream",
     "text": [
      "Model created:\n",
      "- Total parameters: 22,278\n"
     ]
    }
   ],
   "source": [
    "from typing import Tuple\n",
    "\n",
    "\n",
    "class SimpleClassifier(BaseModel):\n",
    "    \"\"\"\n",
    "    Simple feedforward neural network for classification.\n",
    "    Demonstrates proper BaseModel implementation.\n",
    "    \"\"\"\n",
    "\n",
    "    def __init__(self, input_dim: int, hidden_dim: int, num_classes: int, dropout: float = 0.2):\n",
    "        super().__init__()\n",
    "        self.input_dim = input_dim\n",
    "        self.hidden_dim = hidden_dim\n",
    "        self.num_classes = num_classes\n",
    "\n",
    "        # Define layers\n",
    "        self.layers = nn.Sequential(\n",
    "            nn.Linear(input_dim, hidden_dim),\n",
    "            nn.ReLU(),\n",
    "            nn.Dropout(dropout),\n",
    "            nn.Linear(hidden_dim, hidden_dim // 2),\n",
    "            nn.ReLU(),\n",
    "            nn.Dropout(dropout),\n",
    "            nn.Linear(hidden_dim // 2, num_classes)\n",
    "        )\n",
    "\n",
    "        # Feature extractor for latent representations\n",
    "        self.feature_extractor = nn.Sequential(\n",
    "            nn.Linear(input_dim, hidden_dim),\n",
    "            nn.ReLU(),\n",
    "            nn.Dropout(dropout),\n",
    "            nn.Linear(hidden_dim, hidden_dim // 2),\n",
    "            nn.ReLU()\n",
    "        )\n",
    "\n",
    "        self.classifier = nn.Linear(hidden_dim // 2, num_classes)\n",
    "\n",
    "    def forward(self, x: torch.Tensor) -> ModelOutput:\n",
    "        \"\"\"\n",
    "        Forward pass implementation required by BaseModel.\n",
    "\n",
    "        Returns:\n",
    "            ModelOutput: Contains logits and optional latents/extras\n",
    "        \"\"\"\n",
    "        # Extract latent features\n",
    "        latents = self.feature_extractor(x)\n",
    "        logits = self.classifier(latents)\n",
    "        return ModelOutput(\n",
    "            logits=logits,\n",
    "            latents=latents,  # Include latent representations\n",
    "        )\n",
    "\n",
    "    def for_loss(\n",
    "        self,\n",
    "        output: ModelOutput,\n",
    "        targets: torch.Tensor,\n",
    "    ) -> Tuple[torch.Tensor, torch.Tensor]:\n",
    "        \"\"\"\n",
    "        Prepares arguments for the loss function. Default: pred=output['logits'], target=batch.target.\n",
    "        Override if your model/loss requires different fields.\n",
    "        \"\"\"\n",
    "        return output.logits, targets\n",
    "\n",
    "# Create model instance\n",
    "input_dim = X_train.shape[1]\n",
    "hidden_dim = 128\n",
    "num_classes = len(np.unique(y))\n",
    "\n",
    "model = SimpleClassifier(\n",
    "    input_dim=input_dim,\n",
    "    hidden_dim=hidden_dim,\n",
    "    num_classes=num_classes,\n",
    "    dropout=0.2\n",
    ")\n",
    "\n",
    "print(f\"Model created:\")\n",
    "print(f\"- Total parameters: {sum(p.numel() for p in model.parameters()):,}\")"
   ]
  },
  {
   "cell_type": "markdown",
   "id": "66b3fa31",
   "metadata": {},
   "source": [
    "## 4. Define Example Loss Function\n",
    "\n",
    "Now let's implement a concrete loss function that inherits from BaseLoss. We'll create a cross-entropy loss with optional label smoothing for classification.\n",
    "\n",
    "`_reduce` is provided by BaseLoss and handles 'mean', 'sum', 'none'"
   ]
  },
  {
   "cell_type": "code",
   "execution_count": 14,
   "id": "ca7ac407",
   "metadata": {},
   "outputs": [],
   "source": [
    "class CrossEntropyLoss(BaseLoss):\n",
    "    \"\"\"\n",
    "    Cross-entropy loss with optional label smoothing.\n",
    "    Demonstrates proper BaseLoss implementation.\n",
    "    \"\"\"\n",
    "\n",
    "    def __init__(self, reduction: str = \"mean\", label_smoothing: float = 0.0):\n",
    "        super().__init__(reduction)\n",
    "        self.label_smoothing = label_smoothing\n",
    "        self.cross_entropy = nn.CrossEntropyLoss(\n",
    "            reduction='none',  # We handle reduction ourselves\n",
    "            label_smoothing=label_smoothing\n",
    "        )\n",
    "\n",
    "    def forward(self, x: torch.Tensor, target: torch.Tensor) -> torch.Tensor:\n",
    "        \"\"\"\n",
    "        Compute cross-entropy loss.\n",
    "\n",
    "        Args:\n",
    "            x: Model predictions (logits) of shape [batch_size, num_classes]\n",
    "            target: Target labels of shape [batch_size]\n",
    "\n",
    "        Returns:\n",
    "            Loss tensor (scalar or per-sample if reduction='none')\n",
    "        \"\"\"\n",
    "        if target is None:\n",
    "            raise ValueError(\"Target cannot be None for CrossEntropyLoss\")\n",
    "\n",
    "        # Compute raw loss (per-sample)\n",
    "        loss = self.cross_entropy(x, target)\n",
    "\n",
    "        # Apply reduction\n",
    "        return self._reduce(loss)\n",
    "\n",
    "# Create loss function\n",
    "loss_fn = CrossEntropyLoss(reduction='mean', label_smoothing=0.1)"
   ]
  },
  {
   "cell_type": "markdown",
   "id": "548d8a2f",
   "metadata": {},
   "source": [
    "## 5. Set Up Training Components\n",
    "\n",
    "Let's configure the optimizer, device, and other training components before running the training loop."
   ]
  },
  {
   "cell_type": "code",
   "execution_count": 15,
   "id": "2c1e4763",
   "metadata": {},
   "outputs": [
    {
     "name": "stdout",
     "output_type": "stream",
     "text": [
      "Using device: cpu\n",
      "Training configuration:\n",
      "- Epochs: 50\n",
      "- Batch size: 32\n",
      "- Training batches per epoch: 25\n",
      "- Validation batches per epoch: 7\n"
     ]
    }
   ],
   "source": [
    "# Set up device\n",
    "device = torch.device('cpu')\n",
    "model = model.to(device)\n",
    "print(f\"Using device: {device}\")\n",
    "\n",
    "# Set up optimizer\n",
    "optimizer = Adam(model.parameters(), lr=0.001, weight_decay=1e-4)\n",
    "\n",
    "# Training hyperparameters\n",
    "num_epochs = 50\n",
    "clip_grad_max_norm = 1.0\n",
    "\n",
    "print(f\"Training configuration:\")\n",
    "print(f\"- Epochs: {num_epochs}\")\n",
    "print(f\"- Batch size: {train_loader.batch_size}\")\n",
    "print(f\"- Training batches per epoch: {len(train_loader)}\")\n",
    "print(f\"- Validation batches per epoch: {len(val_loader)}\")\n",
    "\n",
    "# Initialize tracking lists for metrics\n",
    "train_losses = []\n",
    "val_losses = []\n",
    "learning_rates = []\n",
    "gradient_norms = []"
   ]
  },
  {
   "cell_type": "markdown",
   "id": "83d62df6",
   "metadata": {},
   "source": [
    "## 6. Training Loop\n",
    "\n",
    "Now let's run the complete training loop using the engine loops from the idspy framework. This demonstrates the high-level training and evaluation functions."
   ]
  },
  {
   "cell_type": "code",
   "execution_count": 16,
   "id": "ccfc9725",
   "metadata": {},
   "outputs": [
    {
     "name": "stdout",
     "output_type": "stream",
     "text": [
      "Starting training...\n",
      "==================================================\n",
      "\n",
      "Epoch 1/50\n",
      "--------------------------------------------------\n"
     ]
    },
    {
     "name": "stderr",
     "output_type": "stream",
     "text": [
      "Training: 100%|██████████| 25/25 [00:00<00:00, 645.52batch/s, loss=1.0223]\n",
      "Evaluating: 100%|██████████| 7/7 [00:00<00:00, 1269.13batch/s, loss=0.9476]\n"
     ]
    },
    {
     "name": "stdout",
     "output_type": "stream",
     "text": [
      "Epoch 1 Summary:\n",
      "  Train Loss: 1.0359\n",
      "  Val Loss: 0.9476\n",
      "\n",
      "Epoch 2/50\n",
      "--------------------------------------------------\n"
     ]
    },
    {
     "name": "stderr",
     "output_type": "stream",
     "text": [
      "Training: 100%|██████████| 25/25 [00:00<00:00, 661.83batch/s, loss=0.7632]\n",
      "Evaluating: 100%|██████████| 7/7 [00:00<00:00, 1271.11batch/s, loss=0.8060]\n"
     ]
    },
    {
     "name": "stdout",
     "output_type": "stream",
     "text": [
      "Epoch 2 Summary:\n",
      "  Train Loss: 0.8850\n",
      "  Val Loss: 0.8060\n",
      "\n",
      "Epoch 3/50\n",
      "--------------------------------------------------\n"
     ]
    },
    {
     "name": "stderr",
     "output_type": "stream",
     "text": [
      "Training: 100%|██████████| 25/25 [00:00<00:00, 633.16batch/s, loss=0.7837]\n",
      "Evaluating: 100%|██████████| 7/7 [00:00<00:00, 1092.06batch/s, loss=0.7401]\n"
     ]
    },
    {
     "name": "stdout",
     "output_type": "stream",
     "text": [
      "Epoch 3 Summary:\n",
      "  Train Loss: 0.7839\n",
      "  Val Loss: 0.7401\n",
      "\n",
      "Epoch 4/50\n",
      "--------------------------------------------------\n"
     ]
    },
    {
     "name": "stderr",
     "output_type": "stream",
     "text": [
      "Training: 100%|██████████| 25/25 [00:00<00:00, 594.63batch/s, loss=0.7142]\n",
      "Evaluating: 100%|██████████| 7/7 [00:00<00:00, 1078.70batch/s, loss=0.6860]\n"
     ]
    },
    {
     "name": "stdout",
     "output_type": "stream",
     "text": [
      "Epoch 4 Summary:\n",
      "  Train Loss: 0.7167\n",
      "  Val Loss: 0.6860\n",
      "\n",
      "Epoch 5/50\n",
      "--------------------------------------------------\n"
     ]
    },
    {
     "name": "stderr",
     "output_type": "stream",
     "text": [
      "Training: 100%|██████████| 25/25 [00:00<00:00, 579.91batch/s, loss=0.6365]\n",
      "Evaluating: 100%|██████████| 7/7 [00:00<00:00, 1086.97batch/s, loss=0.6667]\n"
     ]
    },
    {
     "name": "stdout",
     "output_type": "stream",
     "text": [
      "Epoch 5 Summary:\n",
      "  Train Loss: 0.6672\n",
      "  Val Loss: 0.6667\n",
      "\n",
      "Epoch 6/50\n",
      "--------------------------------------------------\n"
     ]
    },
    {
     "name": "stderr",
     "output_type": "stream",
     "text": [
      "Training: 100%|██████████| 25/25 [00:00<00:00, 680.05batch/s, loss=0.6049]\n",
      "Evaluating: 100%|██████████| 7/7 [00:00<00:00, 1227.02batch/s, loss=0.6363]\n"
     ]
    },
    {
     "name": "stdout",
     "output_type": "stream",
     "text": [
      "Epoch 6 Summary:\n",
      "  Train Loss: 0.6337\n",
      "  Val Loss: 0.6363\n",
      "\n",
      "Epoch 7/50\n",
      "--------------------------------------------------\n"
     ]
    },
    {
     "name": "stderr",
     "output_type": "stream",
     "text": [
      "Training: 100%|██████████| 25/25 [00:00<00:00, 685.83batch/s, loss=0.5042]\n",
      "Evaluating: 100%|██████████| 7/7 [00:00<00:00, 1311.31batch/s, loss=0.6182]\n"
     ]
    },
    {
     "name": "stdout",
     "output_type": "stream",
     "text": [
      "Epoch 7 Summary:\n",
      "  Train Loss: 0.6077\n",
      "  Val Loss: 0.6182\n",
      "\n",
      "Epoch 8/50\n",
      "--------------------------------------------------\n"
     ]
    },
    {
     "name": "stderr",
     "output_type": "stream",
     "text": [
      "Training: 100%|██████████| 25/25 [00:00<00:00, 702.66batch/s, loss=0.5315]\n",
      "Evaluating: 100%|██████████| 7/7 [00:00<00:00, 1054.68batch/s, loss=0.6029]\n"
     ]
    },
    {
     "name": "stdout",
     "output_type": "stream",
     "text": [
      "Epoch 8 Summary:\n",
      "  Train Loss: 0.5847\n",
      "  Val Loss: 0.6029\n",
      "\n",
      "Epoch 9/50\n",
      "--------------------------------------------------\n"
     ]
    },
    {
     "name": "stderr",
     "output_type": "stream",
     "text": [
      "Training: 100%|██████████| 25/25 [00:00<00:00, 501.60batch/s, loss=0.5721]\n",
      "Evaluating: 100%|██████████| 7/7 [00:00<00:00, 923.13batch/s, loss=0.5844]\n"
     ]
    },
    {
     "name": "stdout",
     "output_type": "stream",
     "text": [
      "Epoch 9 Summary:\n",
      "  Train Loss: 0.5713\n",
      "  Val Loss: 0.5844\n",
      "\n",
      "Epoch 10/50\n",
      "--------------------------------------------------\n"
     ]
    },
    {
     "name": "stderr",
     "output_type": "stream",
     "text": [
      "Training: 100%|██████████| 25/25 [00:00<00:00, 401.70batch/s, loss=0.5526]\n",
      "Evaluating: 100%|██████████| 7/7 [00:00<00:00, 534.91batch/s, loss=0.5719]\n"
     ]
    },
    {
     "name": "stdout",
     "output_type": "stream",
     "text": [
      "Epoch 10 Summary:\n",
      "  Train Loss: 0.5434\n",
      "  Val Loss: 0.5719\n",
      "\n",
      "Epoch 11/50\n",
      "--------------------------------------------------\n"
     ]
    },
    {
     "name": "stderr",
     "output_type": "stream",
     "text": [
      "Training: 100%|██████████| 25/25 [00:00<00:00, 459.43batch/s, loss=0.5427]\n",
      "Evaluating: 100%|██████████| 7/7 [00:00<00:00, 969.65batch/s, loss=0.5671]\n"
     ]
    },
    {
     "name": "stdout",
     "output_type": "stream",
     "text": [
      "Epoch 11 Summary:\n",
      "  Train Loss: 0.5283\n",
      "  Val Loss: 0.5671\n",
      "\n",
      "Epoch 12/50\n",
      "--------------------------------------------------\n"
     ]
    },
    {
     "name": "stderr",
     "output_type": "stream",
     "text": [
      "Training: 100%|██████████| 25/25 [00:00<00:00, 577.03batch/s, loss=0.6013]\n",
      "Evaluating: 100%|██████████| 7/7 [00:00<00:00, 1224.21batch/s, loss=0.5629]\n"
     ]
    },
    {
     "name": "stdout",
     "output_type": "stream",
     "text": [
      "Epoch 12 Summary:\n",
      "  Train Loss: 0.5144\n",
      "  Val Loss: 0.5629\n",
      "\n",
      "Epoch 13/50\n",
      "--------------------------------------------------\n"
     ]
    },
    {
     "name": "stderr",
     "output_type": "stream",
     "text": [
      "Training: 100%|██████████| 25/25 [00:00<00:00, 212.81batch/s, loss=0.5544]\n",
      "Evaluating: 100%|██████████| 7/7 [00:00<00:00, 1165.13batch/s, loss=0.5594]\n"
     ]
    },
    {
     "name": "stdout",
     "output_type": "stream",
     "text": [
      "Epoch 13 Summary:\n",
      "  Train Loss: 0.5110\n",
      "  Val Loss: 0.5594\n",
      "\n",
      "Epoch 14/50\n",
      "--------------------------------------------------\n"
     ]
    },
    {
     "name": "stderr",
     "output_type": "stream",
     "text": [
      "Training: 100%|██████████| 25/25 [00:00<00:00, 578.37batch/s, loss=0.4645]\n",
      "Evaluating: 100%|██████████| 7/7 [00:00<00:00, 1397.44batch/s, loss=0.5413]\n"
     ]
    },
    {
     "name": "stdout",
     "output_type": "stream",
     "text": [
      "Epoch 14 Summary:\n",
      "  Train Loss: 0.4917\n",
      "  Val Loss: 0.5413\n",
      "\n",
      "Epoch 15/50\n",
      "--------------------------------------------------\n"
     ]
    },
    {
     "name": "stderr",
     "output_type": "stream",
     "text": [
      "Training: 100%|██████████| 25/25 [00:00<00:00, 608.38batch/s, loss=0.5380]\n",
      "Evaluating: 100%|██████████| 7/7 [00:00<00:00, 1188.24batch/s, loss=0.5366]\n"
     ]
    },
    {
     "name": "stdout",
     "output_type": "stream",
     "text": [
      "Epoch 15 Summary:\n",
      "  Train Loss: 0.4913\n",
      "  Val Loss: 0.5366\n",
      "\n",
      "Epoch 16/50\n",
      "--------------------------------------------------\n"
     ]
    },
    {
     "name": "stderr",
     "output_type": "stream",
     "text": [
      "Training: 100%|██████████| 25/25 [00:00<00:00, 616.81batch/s, loss=0.3873]\n",
      "Evaluating: 100%|██████████| 7/7 [00:00<00:00, 1264.71batch/s, loss=0.5417]\n"
     ]
    },
    {
     "name": "stdout",
     "output_type": "stream",
     "text": [
      "Epoch 16 Summary:\n",
      "  Train Loss: 0.4831\n",
      "  Val Loss: 0.5417\n",
      "\n",
      "Epoch 17/50\n",
      "--------------------------------------------------\n"
     ]
    },
    {
     "name": "stderr",
     "output_type": "stream",
     "text": [
      "Training: 100%|██████████| 25/25 [00:00<00:00, 609.83batch/s, loss=0.4775]\n",
      "Evaluating: 100%|██████████| 7/7 [00:00<00:00, 1244.02batch/s, loss=0.5356]\n"
     ]
    },
    {
     "name": "stdout",
     "output_type": "stream",
     "text": [
      "Epoch 17 Summary:\n",
      "  Train Loss: 0.4704\n",
      "  Val Loss: 0.5356\n",
      "\n",
      "Epoch 18/50\n",
      "--------------------------------------------------\n"
     ]
    },
    {
     "name": "stderr",
     "output_type": "stream",
     "text": [
      "Training: 100%|██████████| 25/25 [00:00<00:00, 491.76batch/s, loss=0.4111]\n",
      "Evaluating: 100%|██████████| 7/7 [00:00<00:00, 997.29batch/s, loss=0.5329]\n"
     ]
    },
    {
     "name": "stdout",
     "output_type": "stream",
     "text": [
      "Epoch 18 Summary:\n",
      "  Train Loss: 0.4646\n",
      "  Val Loss: 0.5329\n",
      "\n",
      "Epoch 19/50\n",
      "--------------------------------------------------\n"
     ]
    },
    {
     "name": "stderr",
     "output_type": "stream",
     "text": [
      "Training: 100%|██████████| 25/25 [00:00<00:00, 460.41batch/s, loss=0.4563]\n",
      "Evaluating: 100%|██████████| 7/7 [00:00<00:00, 829.69batch/s, loss=0.5269]\n"
     ]
    },
    {
     "name": "stdout",
     "output_type": "stream",
     "text": [
      "Epoch 19 Summary:\n",
      "  Train Loss: 0.4567\n",
      "  Val Loss: 0.5269\n",
      "\n",
      "Epoch 20/50\n",
      "--------------------------------------------------\n"
     ]
    },
    {
     "name": "stderr",
     "output_type": "stream",
     "text": [
      "Training: 100%|██████████| 25/25 [00:00<00:00, 458.08batch/s, loss=0.4495]\n",
      "Evaluating: 100%|██████████| 7/7 [00:00<00:00, 849.74batch/s, loss=0.5255]\n"
     ]
    },
    {
     "name": "stdout",
     "output_type": "stream",
     "text": [
      "Epoch 20 Summary:\n",
      "  Train Loss: 0.4610\n",
      "  Val Loss: 0.5255\n",
      "\n",
      "Epoch 21/50\n",
      "--------------------------------------------------\n"
     ]
    },
    {
     "name": "stderr",
     "output_type": "stream",
     "text": [
      "Training: 100%|██████████| 25/25 [00:00<00:00, 429.93batch/s, loss=0.4818]\n",
      "Evaluating: 100%|██████████| 7/7 [00:00<00:00, 853.89batch/s, loss=0.5344]\n"
     ]
    },
    {
     "name": "stdout",
     "output_type": "stream",
     "text": [
      "Epoch 21 Summary:\n",
      "  Train Loss: 0.4470\n",
      "  Val Loss: 0.5344\n",
      "\n",
      "Epoch 22/50\n",
      "--------------------------------------------------\n"
     ]
    },
    {
     "name": "stderr",
     "output_type": "stream",
     "text": [
      "Training: 100%|██████████| 25/25 [00:00<00:00, 462.81batch/s, loss=0.4186]\n",
      "Evaluating: 100%|██████████| 7/7 [00:00<00:00, 938.71batch/s, loss=0.5195]\n"
     ]
    },
    {
     "name": "stdout",
     "output_type": "stream",
     "text": [
      "Epoch 22 Summary:\n",
      "  Train Loss: 0.4384\n",
      "  Val Loss: 0.5195\n",
      "\n",
      "Epoch 23/50\n",
      "--------------------------------------------------\n"
     ]
    },
    {
     "name": "stderr",
     "output_type": "stream",
     "text": [
      "Training: 100%|██████████| 25/25 [00:00<00:00, 491.11batch/s, loss=0.4521]\n",
      "Evaluating: 100%|██████████| 7/7 [00:00<00:00, 960.99batch/s, loss=0.5216]\n"
     ]
    },
    {
     "name": "stdout",
     "output_type": "stream",
     "text": [
      "Epoch 23 Summary:\n",
      "  Train Loss: 0.4523\n",
      "  Val Loss: 0.5216\n",
      "\n",
      "Epoch 24/50\n",
      "--------------------------------------------------\n"
     ]
    },
    {
     "name": "stderr",
     "output_type": "stream",
     "text": [
      "Training: 100%|██████████| 25/25 [00:00<00:00, 464.42batch/s, loss=0.5219]\n",
      "Evaluating: 100%|██████████| 7/7 [00:00<00:00, 934.71batch/s, loss=0.5237]\n"
     ]
    },
    {
     "name": "stdout",
     "output_type": "stream",
     "text": [
      "Epoch 24 Summary:\n",
      "  Train Loss: 0.4344\n",
      "  Val Loss: 0.5237\n",
      "\n",
      "Epoch 25/50\n",
      "--------------------------------------------------\n"
     ]
    },
    {
     "name": "stderr",
     "output_type": "stream",
     "text": [
      "Training: 100%|██████████| 25/25 [00:00<00:00, 441.98batch/s, loss=0.4048]\n",
      "Evaluating: 100%|██████████| 7/7 [00:00<00:00, 870.65batch/s, loss=0.5235]\n"
     ]
    },
    {
     "name": "stdout",
     "output_type": "stream",
     "text": [
      "Epoch 25 Summary:\n",
      "  Train Loss: 0.4290\n",
      "  Val Loss: 0.5235\n",
      "\n",
      "Epoch 26/50\n",
      "--------------------------------------------------\n"
     ]
    },
    {
     "name": "stderr",
     "output_type": "stream",
     "text": [
      "Training: 100%|██████████| 25/25 [00:00<00:00, 430.33batch/s, loss=0.4915]\n",
      "Evaluating: 100%|██████████| 7/7 [00:00<00:00, 916.47batch/s, loss=0.5147]\n"
     ]
    },
    {
     "name": "stdout",
     "output_type": "stream",
     "text": [
      "Epoch 26 Summary:\n",
      "  Train Loss: 0.4263\n",
      "  Val Loss: 0.5147\n",
      "\n",
      "Epoch 27/50\n",
      "--------------------------------------------------\n"
     ]
    },
    {
     "name": "stderr",
     "output_type": "stream",
     "text": [
      "Training: 100%|██████████| 25/25 [00:00<00:00, 512.30batch/s, loss=0.4461]\n",
      "Evaluating: 100%|██████████| 7/7 [00:00<00:00, 1268.53batch/s, loss=0.5100]\n"
     ]
    },
    {
     "name": "stdout",
     "output_type": "stream",
     "text": [
      "Epoch 27 Summary:\n",
      "  Train Loss: 0.4272\n",
      "  Val Loss: 0.5100\n",
      "\n",
      "Epoch 28/50\n",
      "--------------------------------------------------\n"
     ]
    },
    {
     "name": "stderr",
     "output_type": "stream",
     "text": [
      "Training: 100%|██████████| 25/25 [00:00<00:00, 497.17batch/s, loss=0.4542]\n",
      "Evaluating: 100%|██████████| 7/7 [00:00<00:00, 917.45batch/s, loss=0.5090]\n"
     ]
    },
    {
     "name": "stdout",
     "output_type": "stream",
     "text": [
      "Epoch 28 Summary:\n",
      "  Train Loss: 0.4287\n",
      "  Val Loss: 0.5090\n",
      "\n",
      "Epoch 29/50\n",
      "--------------------------------------------------\n"
     ]
    },
    {
     "name": "stderr",
     "output_type": "stream",
     "text": [
      "Training: 100%|██████████| 25/25 [00:00<00:00, 466.50batch/s, loss=0.4274]\n",
      "Evaluating: 100%|██████████| 7/7 [00:00<00:00, 1122.84batch/s, loss=0.5100]\n"
     ]
    },
    {
     "name": "stdout",
     "output_type": "stream",
     "text": [
      "Epoch 29 Summary:\n",
      "  Train Loss: 0.4190\n",
      "  Val Loss: 0.5100\n",
      "\n",
      "Epoch 30/50\n",
      "--------------------------------------------------\n"
     ]
    },
    {
     "name": "stderr",
     "output_type": "stream",
     "text": [
      "Training: 100%|██████████| 25/25 [00:00<00:00, 479.38batch/s, loss=0.4394]\n",
      "Evaluating: 100%|██████████| 7/7 [00:00<00:00, 916.47batch/s, loss=0.5068]\n"
     ]
    },
    {
     "name": "stdout",
     "output_type": "stream",
     "text": [
      "Epoch 30 Summary:\n",
      "  Train Loss: 0.4168\n",
      "  Val Loss: 0.5068\n",
      "\n",
      "Epoch 31/50\n",
      "--------------------------------------------------\n"
     ]
    },
    {
     "name": "stderr",
     "output_type": "stream",
     "text": [
      "Training: 100%|██████████| 25/25 [00:00<00:00, 499.22batch/s, loss=0.4531]\n",
      "Evaluating: 100%|██████████| 7/7 [00:00<00:00, 997.73batch/s, loss=0.5022]\n"
     ]
    },
    {
     "name": "stdout",
     "output_type": "stream",
     "text": [
      "Epoch 31 Summary:\n",
      "  Train Loss: 0.4163\n",
      "  Val Loss: 0.5022\n",
      "\n",
      "Epoch 32/50\n",
      "--------------------------------------------------\n"
     ]
    },
    {
     "name": "stderr",
     "output_type": "stream",
     "text": [
      "Training: 100%|██████████| 25/25 [00:00<00:00, 473.56batch/s, loss=0.4660]\n",
      "Evaluating: 100%|██████████| 7/7 [00:00<00:00, 1140.02batch/s, loss=0.4946]\n"
     ]
    },
    {
     "name": "stdout",
     "output_type": "stream",
     "text": [
      "Epoch 32 Summary:\n",
      "  Train Loss: 0.4231\n",
      "  Val Loss: 0.4946\n",
      "\n",
      "Epoch 33/50\n",
      "--------------------------------------------------\n"
     ]
    },
    {
     "name": "stderr",
     "output_type": "stream",
     "text": [
      "Training: 100%|██████████| 25/25 [00:00<00:00, 529.19batch/s, loss=0.4418]\n",
      "Evaluating: 100%|██████████| 7/7 [00:00<00:00, 1008.84batch/s, loss=0.4981]\n"
     ]
    },
    {
     "name": "stdout",
     "output_type": "stream",
     "text": [
      "Epoch 33 Summary:\n",
      "  Train Loss: 0.4116\n",
      "  Val Loss: 0.4981\n",
      "\n",
      "Epoch 34/50\n",
      "--------------------------------------------------\n"
     ]
    },
    {
     "name": "stderr",
     "output_type": "stream",
     "text": [
      "Training: 100%|██████████| 25/25 [00:00<00:00, 563.08batch/s, loss=0.3925]\n",
      "Evaluating: 100%|██████████| 7/7 [00:00<00:00, 1121.26batch/s, loss=0.5028]\n"
     ]
    },
    {
     "name": "stdout",
     "output_type": "stream",
     "text": [
      "Epoch 34 Summary:\n",
      "  Train Loss: 0.4095\n",
      "  Val Loss: 0.5028\n",
      "\n",
      "Epoch 35/50\n",
      "--------------------------------------------------\n"
     ]
    },
    {
     "name": "stderr",
     "output_type": "stream",
     "text": [
      "Training: 100%|██████████| 25/25 [00:00<00:00, 580.79batch/s, loss=0.3644]\n",
      "Evaluating: 100%|██████████| 7/7 [00:00<00:00, 1215.94batch/s, loss=0.4951]\n"
     ]
    },
    {
     "name": "stdout",
     "output_type": "stream",
     "text": [
      "Epoch 35 Summary:\n",
      "  Train Loss: 0.4077\n",
      "  Val Loss: 0.4951\n",
      "\n",
      "Epoch 36/50\n",
      "--------------------------------------------------\n"
     ]
    },
    {
     "name": "stderr",
     "output_type": "stream",
     "text": [
      "Training: 100%|██████████| 25/25 [00:00<00:00, 178.17batch/s, loss=0.3981]\n",
      "Evaluating: 100%|██████████| 7/7 [00:00<00:00, 583.29batch/s, loss=0.5000]\n"
     ]
    },
    {
     "name": "stdout",
     "output_type": "stream",
     "text": [
      "Epoch 36 Summary:\n",
      "  Train Loss: 0.4012\n",
      "  Val Loss: 0.5000\n",
      "\n",
      "Epoch 37/50\n",
      "--------------------------------------------------\n"
     ]
    },
    {
     "name": "stderr",
     "output_type": "stream",
     "text": [
      "Training: 100%|██████████| 25/25 [00:00<00:00, 424.36batch/s, loss=0.4639]\n",
      "Evaluating: 100%|██████████| 7/7 [00:00<00:00, 1118.78batch/s, loss=0.4957]\n"
     ]
    },
    {
     "name": "stdout",
     "output_type": "stream",
     "text": [
      "Epoch 37 Summary:\n",
      "  Train Loss: 0.3989\n",
      "  Val Loss: 0.4957\n",
      "\n",
      "Epoch 38/50\n",
      "--------------------------------------------------\n"
     ]
    },
    {
     "name": "stderr",
     "output_type": "stream",
     "text": [
      "Training: 100%|██████████| 25/25 [00:00<00:00, 563.28batch/s, loss=0.3991]\n",
      "Evaluating: 100%|██████████| 7/7 [00:00<00:00, 1073.57batch/s, loss=0.4917]\n"
     ]
    },
    {
     "name": "stdout",
     "output_type": "stream",
     "text": [
      "Epoch 38 Summary:\n",
      "  Train Loss: 0.3999\n",
      "  Val Loss: 0.4917\n",
      "\n",
      "Epoch 39/50\n",
      "--------------------------------------------------\n"
     ]
    },
    {
     "name": "stderr",
     "output_type": "stream",
     "text": [
      "Training: 100%|██████████| 25/25 [00:00<00:00, 570.76batch/s, loss=0.3567]\n",
      "Evaluating: 100%|██████████| 7/7 [00:00<00:00, 1047.12batch/s, loss=0.4949]\n"
     ]
    },
    {
     "name": "stdout",
     "output_type": "stream",
     "text": [
      "Epoch 39 Summary:\n",
      "  Train Loss: 0.3907\n",
      "  Val Loss: 0.4949\n",
      "\n",
      "Epoch 40/50\n",
      "--------------------------------------------------\n"
     ]
    },
    {
     "name": "stderr",
     "output_type": "stream",
     "text": [
      "Training: 100%|██████████| 25/25 [00:00<00:00, 564.44batch/s, loss=0.3922]\n",
      "Evaluating: 100%|██████████| 7/7 [00:00<00:00, 1292.49batch/s, loss=0.4902]\n"
     ]
    },
    {
     "name": "stdout",
     "output_type": "stream",
     "text": [
      "Epoch 40 Summary:\n",
      "  Train Loss: 0.3895\n",
      "  Val Loss: 0.4902\n",
      "\n",
      "Epoch 41/50\n",
      "--------------------------------------------------\n"
     ]
    },
    {
     "name": "stderr",
     "output_type": "stream",
     "text": [
      "Training: 100%|██████████| 25/25 [00:00<00:00, 591.36batch/s, loss=0.4059]\n",
      "Evaluating: 100%|██████████| 7/7 [00:00<00:00, 1183.26batch/s, loss=0.4934]\n"
     ]
    },
    {
     "name": "stdout",
     "output_type": "stream",
     "text": [
      "Epoch 41 Summary:\n",
      "  Train Loss: 0.3957\n",
      "  Val Loss: 0.4934\n",
      "\n",
      "Epoch 42/50\n",
      "--------------------------------------------------\n"
     ]
    },
    {
     "name": "stderr",
     "output_type": "stream",
     "text": [
      "Training: 100%|██████████| 25/25 [00:00<00:00, 559.22batch/s, loss=0.3694]\n",
      "Evaluating: 100%|██████████| 7/7 [00:00<00:00, 1134.52batch/s, loss=0.4907]\n"
     ]
    },
    {
     "name": "stdout",
     "output_type": "stream",
     "text": [
      "Epoch 42 Summary:\n",
      "  Train Loss: 0.3839\n",
      "  Val Loss: 0.4907\n",
      "\n",
      "Epoch 43/50\n",
      "--------------------------------------------------\n"
     ]
    },
    {
     "name": "stderr",
     "output_type": "stream",
     "text": [
      "Training: 100%|██████████| 25/25 [00:00<00:00, 534.18batch/s, loss=0.4304]\n",
      "Evaluating: 100%|██████████| 7/7 [00:00<00:00, 1259.66batch/s, loss=0.4904]\n"
     ]
    },
    {
     "name": "stdout",
     "output_type": "stream",
     "text": [
      "Epoch 43 Summary:\n",
      "  Train Loss: 0.3867\n",
      "  Val Loss: 0.4904\n",
      "\n",
      "Epoch 44/50\n",
      "--------------------------------------------------\n"
     ]
    },
    {
     "name": "stderr",
     "output_type": "stream",
     "text": [
      "Training: 100%|██████████| 25/25 [00:00<00:00, 589.52batch/s, loss=0.3899]\n",
      "Evaluating: 100%|██████████| 7/7 [00:00<00:00, 1036.87batch/s, loss=0.4909]\n"
     ]
    },
    {
     "name": "stdout",
     "output_type": "stream",
     "text": [
      "Epoch 44 Summary:\n",
      "  Train Loss: 0.3873\n",
      "  Val Loss: 0.4909\n",
      "\n",
      "Epoch 45/50\n",
      "--------------------------------------------------\n"
     ]
    },
    {
     "name": "stderr",
     "output_type": "stream",
     "text": [
      "Training: 100%|██████████| 25/25 [00:00<00:00, 568.31batch/s, loss=0.4122]\n",
      "Evaluating: 100%|██████████| 7/7 [00:00<00:00, 1082.76batch/s, loss=0.4872]\n"
     ]
    },
    {
     "name": "stdout",
     "output_type": "stream",
     "text": [
      "Epoch 45 Summary:\n",
      "  Train Loss: 0.3921\n",
      "  Val Loss: 0.4872\n",
      "\n",
      "Epoch 46/50\n",
      "--------------------------------------------------\n"
     ]
    },
    {
     "name": "stderr",
     "output_type": "stream",
     "text": [
      "Training: 100%|██████████| 25/25 [00:00<00:00, 530.88batch/s, loss=0.3745]\n",
      "Evaluating: 100%|██████████| 7/7 [00:00<00:00, 1055.63batch/s, loss=0.4919]\n"
     ]
    },
    {
     "name": "stdout",
     "output_type": "stream",
     "text": [
      "Epoch 46 Summary:\n",
      "  Train Loss: 0.3878\n",
      "  Val Loss: 0.4919\n",
      "\n",
      "Epoch 47/50\n",
      "--------------------------------------------------\n"
     ]
    },
    {
     "name": "stderr",
     "output_type": "stream",
     "text": [
      "Training: 100%|██████████| 25/25 [00:00<00:00, 608.40batch/s, loss=0.3446]\n",
      "Evaluating: 100%|██████████| 7/7 [00:00<00:00, 1368.26batch/s, loss=0.4877]\n"
     ]
    },
    {
     "name": "stdout",
     "output_type": "stream",
     "text": [
      "Epoch 47 Summary:\n",
      "  Train Loss: 0.3780\n",
      "  Val Loss: 0.4877\n",
      "\n",
      "Epoch 48/50\n",
      "--------------------------------------------------\n"
     ]
    },
    {
     "name": "stderr",
     "output_type": "stream",
     "text": [
      "Training: 100%|██████████| 25/25 [00:00<00:00, 481.96batch/s, loss=0.4135]\n",
      "Evaluating: 100%|██████████| 7/7 [00:00<00:00, 1054.38batch/s, loss=0.4843]\n"
     ]
    },
    {
     "name": "stdout",
     "output_type": "stream",
     "text": [
      "Epoch 48 Summary:\n",
      "  Train Loss: 0.3867\n",
      "  Val Loss: 0.4843\n",
      "\n",
      "Epoch 49/50\n",
      "--------------------------------------------------\n"
     ]
    },
    {
     "name": "stderr",
     "output_type": "stream",
     "text": [
      "Training: 100%|██████████| 25/25 [00:00<00:00, 553.93batch/s, loss=0.3979]\n",
      "Evaluating: 100%|██████████| 7/7 [00:00<00:00, 1322.77batch/s, loss=0.4858]\n"
     ]
    },
    {
     "name": "stdout",
     "output_type": "stream",
     "text": [
      "Epoch 49 Summary:\n",
      "  Train Loss: 0.3818\n",
      "  Val Loss: 0.4858\n",
      "\n",
      "Epoch 50/50\n",
      "--------------------------------------------------\n"
     ]
    },
    {
     "name": "stderr",
     "output_type": "stream",
     "text": [
      "Training: 100%|██████████| 25/25 [00:00<00:00, 545.52batch/s, loss=0.3819]\n",
      "Evaluating: 100%|██████████| 7/7 [00:00<00:00, 1138.08batch/s, loss=0.4779]"
     ]
    },
    {
     "name": "stdout",
     "output_type": "stream",
     "text": [
      "Epoch 50 Summary:\n",
      "  Train Loss: 0.3765\n",
      "  Val Loss: 0.4779\n",
      "\n",
      "==================================================\n",
      "Training completed!\n",
      "Final train loss: 0.3765\n",
      "Final validation loss: 0.4779\n",
      "Best validation loss: 0.4779 (epoch 50)\n"
     ]
    },
    {
     "name": "stderr",
     "output_type": "stream",
     "text": [
      "\n"
     ]
    }
   ],
   "source": [
    "print(\"Starting training...\")\n",
    "print(\"=\" * 50)\n",
    "\n",
    "for epoch in range(num_epochs):\n",
    "    print(f\"\\nEpoch {epoch + 1}/{num_epochs}\")\n",
    "    print(\"-\" * 50)\n",
    "\n",
    "    # Training phase\n",
    "    train_loss, grad_norm, lr = train_epoch(\n",
    "        dataloader=train_loader,\n",
    "        model=model,\n",
    "        device=device,\n",
    "        optimizer=optimizer,\n",
    "        loss_fn=loss_fn,\n",
    "        clip_grad_max_norm=clip_grad_max_norm\n",
    "    )\n",
    "\n",
    "    # Validation phase\n",
    "    val_loss, _, _ = eval_epoch(\n",
    "        dataloader=val_loader,\n",
    "        model=model,\n",
    "        device=device,\n",
    "        loss_fn=loss_fn,\n",
    "        save_outputs=False  # We don't need outputs for now\n",
    "    )\n",
    "\n",
    "    # Store metrics\n",
    "    train_losses.append(train_loss)\n",
    "    val_losses.append(val_loss)\n",
    "    learning_rates.append(lr)\n",
    "    if grad_norm is not None:\n",
    "        gradient_norms.append(grad_norm)\n",
    "\n",
    "    # Print epoch summary\n",
    "    print(f\"Epoch {epoch + 1} Summary:\")\n",
    "    print(f\"  Train Loss: {train_loss:.4f}\")\n",
    "    print(f\"  Val Loss: {val_loss:.4f}\")\n",
    "\n",
    "print(\"\\n\" + \"=\" * 50)\n",
    "print(\"Training completed!\")\n",
    "print(f\"Final train loss: {train_losses[-1]:.4f}\")\n",
    "print(f\"Final validation loss: {val_losses[-1]:.4f}\")\n",
    "print(f\"Best validation loss: {min(val_losses):.4f} (epoch {val_losses.index(min(val_losses)) + 1})\")"
   ]
  },
  {
   "cell_type": "markdown",
   "id": "dac5bf84",
   "metadata": {},
   "source": [
    "## 7. Model Evaluation and Analysis\n",
    "\n",
    "Let's evaluate the trained model more thoroughly and analyze its performance."
   ]
  },
  {
   "cell_type": "code",
   "execution_count": 17,
   "id": "0ab37b29",
   "metadata": {},
   "outputs": [
    {
     "name": "stdout",
     "output_type": "stream",
     "text": [
      "Running detailed evaluation...\n"
     ]
    },
    {
     "name": "stderr",
     "output_type": "stream",
     "text": [
      "Evaluating: 100%|██████████| 7/7 [00:00<00:00, 870.45batch/s, loss=0.4779]\n"
     ]
    },
    {
     "name": "stdout",
     "output_type": "stream",
     "text": [
      "Validation Accuracy: 0.8800\n",
      "\n",
      "Per-class accuracy:\n",
      "  Class 0: 0.8806 (67 samples)\n",
      "  Class 1: 0.8788 (66 samples)\n",
      "  Class 2: 0.8806 (67 samples)\n",
      "\n",
      "Confidence statistics:\n",
      "  Mean confidence: 0.8311\n",
      "  Min confidence: 0.4121\n",
      "  Max confidence: 0.9994\n",
      "  Std confidence: 0.1619\n",
      "\n",
      "Example predictions (first 10 samples):\n",
      "  ✗ Pred: 2, True: 0, Conf: 0.574\n",
      "  ✓ Pred: 2, True: 2, Conf: 0.482\n",
      "  ✓ Pred: 1, True: 1, Conf: 0.931\n",
      "  ✓ Pred: 1, True: 1, Conf: 0.970\n",
      "  ✓ Pred: 2, True: 2, Conf: 0.935\n",
      "  ✗ Pred: 2, True: 1, Conf: 0.494\n",
      "  ✓ Pred: 2, True: 2, Conf: 0.968\n",
      "  ✓ Pred: 0, True: 0, Conf: 0.954\n",
      "  ✓ Pred: 0, True: 0, Conf: 0.953\n",
      "  ✗ Pred: 2, True: 0, Conf: 0.719\n"
     ]
    }
   ],
   "source": [
    "# Detailed evaluation with outputs saved\n",
    "print(\"Running detailed evaluation...\")\n",
    "val_loss_final, _, val_outputs = eval_epoch(\n",
    "    dataloader=val_loader,\n",
    "    model=model,\n",
    "    device=device,\n",
    "    loss_fn=loss_fn,\n",
    "    save_outputs=True  # Save outputs for analysis\n",
    ")\n",
    "\n",
    "# Collect predictions and targets\n",
    "all_logits = []\n",
    "all_predictions = []\n",
    "all_targets = []\n",
    "\n",
    "\n",
    "for batch, outputs in zip(val_loader, val_outputs):\n",
    "    # Get predictions (class with highest probability)\n",
    "    predictions = torch.argmax(outputs.logits, dim=1)\n",
    "    all_logits.extend(outputs.logits.cpu().numpy())\n",
    "    all_predictions.extend(predictions.cpu().numpy())\n",
    "    all_targets.extend(batch.targets[0].cpu().numpy())\n",
    "\n",
    "all_predictions = np.array(all_predictions)\n",
    "all_targets = np.array(all_targets)\n",
    "all_logits = np.array(all_logits)\n",
    "\n",
    "# Calculate accuracy\n",
    "accuracy = (all_predictions == all_targets).mean()\n",
    "print(f\"Validation Accuracy: {accuracy:.4f}\")\n",
    "\n",
    "# Calculate per-class accuracy\n",
    "unique_classes = np.unique(all_targets)\n",
    "print(\"\\nPer-class accuracy:\")\n",
    "for cls in unique_classes:\n",
    "    cls_mask = all_targets == cls\n",
    "    cls_accuracy = (all_predictions[cls_mask] == all_targets[cls_mask]).mean()\n",
    "    print(f\"  Class {cls}: {cls_accuracy:.4f} ({cls_mask.sum()} samples)\")\n",
    "\n",
    "# Calculate confidence statistics\n",
    "probabilities = torch.softmax(torch.tensor(all_logits), dim=1).numpy()\n",
    "max_probabilities = probabilities.max(axis=1)\n",
    "print(f\"\\nConfidence statistics:\")\n",
    "print(f\"  Mean confidence: {max_probabilities.mean():.4f}\")\n",
    "print(f\"  Min confidence: {max_probabilities.min():.4f}\")\n",
    "print(f\"  Max confidence: {max_probabilities.max():.4f}\")\n",
    "print(f\"  Std confidence: {max_probabilities.std():.4f}\")\n",
    "\n",
    "# Show some example predictions\n",
    "print(f\"\\nExample predictions (first 10 samples):\")\n",
    "for i in range(min(10, len(all_predictions))):\n",
    "    confidence = max_probabilities[i]\n",
    "    correct = \"✓\" if all_predictions[i] == all_targets[i] else \"✗\"\n",
    "    print(f\"  {correct} Pred: {all_predictions[i]}, True: {all_targets[i]}, Conf: {confidence:.3f}\")"
   ]
  },
  {
   "cell_type": "markdown",
   "id": "de92cc27",
   "metadata": {},
   "source": [
    "## 8. Training Visualization\n",
    "\n",
    "Let's visualize the training progress and model performance."
   ]
  },
  {
   "cell_type": "code",
   "execution_count": 18,
   "id": "94d09c07",
   "metadata": {},
   "outputs": [
    {
     "data": {
      "image/png": "[encoded data removed]",
      "text/plain": [
       "<Figure size 1500x1000 with 4 Axes>"
      ]
     },
     "metadata": {},
     "output_type": "display_data"
    },
    {
     "name": "stdout",
     "output_type": "stream",
     "text": [
      "\n",
      "============================================================\n",
      "TRAINING SUMMARY\n",
      "============================================================\n",
      "Dataset: Synthetic classification (800 train, 200 val)\n",
      "Model: SimpleClassifier (22,278 parameters)\n",
      "Training epochs: 50\n",
      "Final training loss: 0.3765\n",
      "Final validation loss: 0.4779\n",
      "Best validation loss: 0.4779 (epoch 50)\n",
      "Final validation accuracy: 0.8800\n",
      "Average prediction confidence: 0.8311\n",
      "============================================================\n"
     ]
    }
   ],
   "source": [
    "# Create training visualization\n",
    "fig, axes = plt.subplots(2, 2, figsize=(15, 10))\n",
    "fig.suptitle('Training Progress and Model Analysis', fontsize=16)\n",
    "\n",
    "# Plot 1: Training and Validation Loss\n",
    "epochs_range = range(1, num_epochs + 1)\n",
    "axes[0, 0].plot(epochs_range, train_losses, 'b-', label='Training Loss', linewidth=2)\n",
    "axes[0, 0].plot(epochs_range, val_losses, 'r-', label='Validation Loss', linewidth=2)\n",
    "axes[0, 0].set_xlabel('Epoch')\n",
    "axes[0, 0].set_ylabel('Loss')\n",
    "axes[0, 0].set_title('Training vs Validation Loss')\n",
    "axes[0, 0].legend()\n",
    "axes[0, 0].grid(True, alpha=0.3)\n",
    "\n",
    "# Plot 2: Learning Rate Schedule\n",
    "if learning_rates:\n",
    "    axes[0, 1].plot(epochs_range, learning_rates, 'g-', linewidth=2)\n",
    "    axes[0, 1].set_xlabel('Epoch')\n",
    "    axes[0, 1].set_ylabel('Learning Rate')\n",
    "    axes[0, 1].set_title('Learning Rate Schedule')\n",
    "    axes[0, 1].grid(True, alpha=0.3)\n",
    "    axes[0, 1].ticklabel_format(style='scientific', axis='y', scilimits=(0,0))\n",
    "\n",
    "# Plot 3: Gradient Norms\n",
    "if gradient_norms:\n",
    "    axes[1, 0].plot(epochs_range, gradient_norms, 'm-', linewidth=2)\n",
    "    axes[1, 0].set_xlabel('Epoch')\n",
    "    axes[1, 0].set_ylabel('Gradient Norm')\n",
    "    axes[1, 0].set_title('Gradient Norms During Training')\n",
    "    axes[1, 0].grid(True, alpha=0.3)\n",
    "\n",
    "# Plot 4: Confidence Distribution\n",
    "axes[1, 1].hist(max_probabilities, bins=30, alpha=0.7, color='skyblue', edgecolor='black')\n",
    "axes[1, 1].set_xlabel('Prediction Confidence')\n",
    "axes[1, 1].set_ylabel('Count')\n",
    "axes[1, 1].set_title('Distribution of Prediction Confidence')\n",
    "axes[1, 1].grid(True, alpha=0.3)\n",
    "\n",
    "plt.tight_layout()\n",
    "plt.show()\n",
    "\n",
    "# Print final summary\n",
    "print(\"\\n\" + \"=\" * 60)\n",
    "print(\"TRAINING SUMMARY\")\n",
    "print(\"=\" * 60)\n",
    "print(f\"Dataset: Synthetic classification ({len(train_dataset)} train, {len(val_dataset)} val)\")\n",
    "print(f\"Model: SimpleClassifier ({sum(p.numel() for p in model.parameters()):,} parameters)\")\n",
    "print(f\"Training epochs: {num_epochs}\")\n",
    "print(f\"Final training loss: {train_losses[-1]:.4f}\")\n",
    "print(f\"Final validation loss: {val_losses[-1]:.4f}\")\n",
    "print(f\"Best validation loss: {min(val_losses):.4f} (epoch {val_losses.index(min(val_losses)) + 1})\")\n",
    "print(f\"Final validation accuracy: {accuracy:.4f}\")\n",
    "print(f\"Average prediction confidence: {max_probabilities.mean():.4f}\")\n",
    "print(\"=\" * 60)"
   ]
  },
  {
   "cell_type": "markdown",
   "id": "98cf86f5",
   "metadata": {},
   "source": [
    "## Key Takeaways\n",
    "\n",
    "1. **Flexible Data Handling**: The `Batch` class provides a consistent interface for model inputs\n",
    "2. **BaseModel Interface**: Consistent `forward()` and `for_loss()` method signatures\n",
    "3. **ModelOutput Structure**: Structured outputs with logits, latents, and optional extras\n",
    "4. **BaseLoss Interface**: Consistent loss computation with flexible reduction strategies\n",
    "5. **High-Level Loops**: Pre-built training and evaluation loops with progress tracking"
   ]
  }
 ],
 "metadata": {
  "kernelspec": {
   "display_name": "venv",
   "language": "python",
   "name": "python3"
  },
  "language_info": {
   "codemirror_mode": {
    "name": "ipython",
    "version": 3
   },
   "file_extension": ".py",
   "mimetype": "text/x-python",
   "name": "python",
   "nbconvert_exporter": "python",
   "pygments_lexer": "ipython3",
   "version": "3.12.3"
  }
 },
 "nbformat": 4,
 "nbformat_minor": 5
}
