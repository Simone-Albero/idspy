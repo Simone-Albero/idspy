{
 "cells": [
  {
   "cell_type": "markdown",
   "id": "b0aafc9ceb99e5e8",
   "metadata": {},
   "source": [
    "### Setup"
   ]
  },
  {
   "cell_type": "code",
   "execution_count": 7,
   "id": "319d0a2a",
   "metadata": {},
   "outputs": [],
   "source": [
    "import sys\n",
    "import os\n",
    "\n",
    "# Add the project root to Python path\n",
    "project_root = os.path.abspath(os.path.join(os.getcwd(), '..'))\n",
    "if project_root not in sys.path:\n",
    "    sys.path.insert(0, project_root)"
   ]
  },
  {
   "cell_type": "code",
   "execution_count": 2,
   "id": "9008cdd4332453d9",
   "metadata": {
    "ExecuteTime": {
     "end_time": "2025-09-03T16:15:22.248593Z",
     "start_time": "2025-09-03T16:15:22.235873Z"
    }
   },
   "outputs": [],
   "source": [
    "from src.idspy.core.pipeline import Pipeline, PipelineEvent, hook, FitAwarePipeline\n",
    "from src.idspy.core.state import State\n",
    "from src.idspy.core.step import Step, FitAwareStep, Repeat"
   ]
  },
  {
   "cell_type": "markdown",
   "id": "7d048dd1a556d0dd",
   "metadata": {},
   "source": [
    "### Example `Steps`"
   ]
  },
  {
   "cell_type": "code",
   "execution_count": 3,
   "id": "449c9925ad8d96b2",
   "metadata": {
    "ExecuteTime": {
     "end_time": "2025-09-03T16:15:22.255836Z",
     "start_time": "2025-09-03T16:15:22.251582Z"
    }
   },
   "outputs": [],
   "source": [
    "class Load(Step):\n",
    "    def __init__(self): super().__init__(provides=[\"data\"])\n",
    "\n",
    "    def run(self, state: State) -> None:\n",
    "        state[\"data\"] = [1, 2, 3]\n",
    "\n",
    "\n",
    "class Sum(Step):\n",
    "    def __init__(self): super().__init__(requires=[\"data\"], provides=[\"sum\"])\n",
    "\n",
    "    def run(self, state: State) -> None:\n",
    "        state[\"sum\"] = sum(state[\"data\"])\n",
    "\n",
    "\n",
    "class MeanCenter(FitAwareStep):\n",
    "    def __init__(self): super().__init__(requires=[\"data\"], provides=[\"data\"])\n",
    "\n",
    "    def fit_impl(self, state: State) -> None:\n",
    "        xs = state[\"data\"];\n",
    "        state[\"preproc.mean\"] = sum(xs) / len(xs)\n",
    "\n",
    "    def run(self, state: State) -> None:\n",
    "        m = state[\"preproc.mean\"]\n",
    "        state[\"data\"] = [x - m for x in state[\"data\"]]\n",
    "\n",
    "\n",
    "class Accumulate(Step):\n",
    "    def __init__(self): super().__init__(requires=[\"sum\"], provides=[\"tot\"])\n",
    "\n",
    "    def run(self, state: State) -> None:\n",
    "        state[\"tot\"] = state.get(\"tot\", 0) + state[\"sum\"]\n",
    "\n"
   ]
  },
  {
   "cell_type": "markdown",
   "id": "212b656ebe8a6654",
   "metadata": {},
   "source": [
    "### Build a `Pipeline` with Custom `@decorator` Hooks"
   ]
  },
  {
   "cell_type": "code",
   "execution_count": 4,
   "id": "7fe3f8d5f04849fc",
   "metadata": {
    "ExecuteTime": {
     "end_time": "2025-09-03T16:15:22.336616Z",
     "start_time": "2025-09-03T16:15:22.333258Z"
    }
   },
   "outputs": [
    {
     "name": "stdout",
     "output_type": "stream",
     "text": [
      "[pipeline] start\n",
      "[pipeline] before 0: Load\n",
      "[pipeline] after 0:  Load\n",
      "[pipeline] before 1: Sum\n",
      "[pipeline] after 1:  Sum\n",
      "[pipeline] end\n",
      "{'data': [1, 2, 3], 'sum': 6}\n"
     ]
    }
   ],
   "source": [
    "class MyPipeline(Pipeline):\n",
    "    @hook(PipelineEvent.PIPELINE_START)\n",
    "    def _start(self, state: State) -> None:\n",
    "        print(\"[pipeline] start\")\n",
    "\n",
    "    @hook(PipelineEvent.BEFORE_STEP, priority=-1)\n",
    "    def _before(self, step: Step, state: State, *, index: int) -> None:\n",
    "        print(f\"[pipeline] before {index}: {step.name}\")\n",
    "\n",
    "    @hook(PipelineEvent.AFTER_STEP)\n",
    "    def _after(self, step: Step, state: State, *, index: int) -> None:\n",
    "        print(f\"[pipeline] after {index}:  {step.name}\")\n",
    "\n",
    "    @hook(PipelineEvent.PIPELINE_END)\n",
    "    def _end(self, state: State) -> None:\n",
    "        print(\"[pipeline] end\")\n",
    "\n",
    "\n",
    "s = State()\n",
    "p = MyPipeline([Load(), Sum()], name=\"Plain\")\n",
    "p(s)\n",
    "print(s.to_dict())\n",
    "# [pipeline] start\n",
    "# [pipeline] before 0: Load\n",
    "# [pipeline] after 0:  Load\n",
    "# [pipeline] before 1: Sum\n",
    "# [pipeline] after 1:  Sum\n",
    "# [pipeline] end\n",
    "# {'data': [1, 2, 3], 'sum': 6}"
   ]
  },
  {
   "cell_type": "markdown",
   "id": "54ea4eb9854e4692",
   "metadata": {},
   "source": [
    "### Build a `FitAwarePipeline` that fits all `FitAwareSteps` prior to execution"
   ]
  },
  {
   "cell_type": "code",
   "execution_count": 5,
   "id": "306540356cd87a5c",
   "metadata": {
    "ExecuteTime": {
     "end_time": "2025-09-03T16:15:22.350008Z",
     "start_time": "2025-09-03T16:15:22.347008Z"
    }
   },
   "outputs": [
    {
     "name": "stdout",
     "output_type": "stream",
     "text": [
      "{'data': [-1.0, 0.0, 1.0], 'preproc.mean': 2.0, 'sum': 0.0}\n",
      "{'data': [0.0, 2.0, 4.0], 'preproc.mean': 2.0, 'sum': 6.0}\n",
      "{'data': [-2.0, 0.0, 2.0], 'preproc.mean': 4.0, 'sum': 0.0}\n"
     ]
    }
   ],
   "source": [
    "s = State({\"data\": [1.0, 2.0, 3.0]})\n",
    "fp = FitAwarePipeline([MeanCenter(), Sum()], name=\"FitPipe\", refit=False)\n",
    "fp(s)\n",
    "print(s.to_dict())\n",
    "# {'data': [-1.0, 0.0, 1.0], 'preproc.mean': 2.0, 'sum': 0.0}\n",
    "\n",
    "# secondo run senza refit (usa ancora mean=2.0)\n",
    "s[\"data\"] = [2.0, 4.0, 6.0]\n",
    "fp(s)\n",
    "print(s.to_dict())\n",
    "# {'data': [0.0, 2.0, 4.0], 'preproc.mean': 2.0, 'sum': 6.0}\n",
    "\n",
    "# pipeline con refit=True\n",
    "s2 = State({\"data\": [2.0, 4.0, 6.0]})\n",
    "fp_refit = FitAwarePipeline([MeanCenter(), Sum()], name=\"FitPipeRefit\", refit=True)\n",
    "fp_refit(s2)\n",
    "print(s2.to_dict())\n",
    "# {'data': [-2.0, 0.0, 2.0], 'preproc.mean': 4.0, 'sum': 0.0}"
   ]
  },
  {
   "cell_type": "markdown",
   "id": "66bead3f4af1543d",
   "metadata": {},
   "source": [
    "### Repeat the Pipeline `count` times"
   ]
  },
  {
   "cell_type": "code",
   "execution_count": 6,
   "id": "288cec62360093ef",
   "metadata": {
    "ExecuteTime": {
     "end_time": "2025-09-03T16:15:22.370892Z",
     "start_time": "2025-09-03T16:15:22.368590Z"
    }
   },
   "outputs": [
    {
     "name": "stdout",
     "output_type": "stream",
     "text": [
      "{'data': [1, 2, 3], 'sum': 6, 'tot': 18}\n"
     ]
    }
   ],
   "source": [
    "p = Pipeline([Load(), Sum(), Accumulate()])\n",
    "rp = Repeat(p, count=3)\n",
    "s = State()\n",
    "rp(s)\n",
    "print(s.to_dict())\n",
    "# 1° iter: data=[1,2,3], sum=6, tot=6\n",
    "# 2° iter: data=[1,2,3], sum=6, tot=12\n",
    "# 3° iter: data=[1,2,3], sum=6, tot=18\n",
    "# {'data': [1, 2, 3], 'sum': 6, 'tot': 18}"
   ]
  }
 ],
 "metadata": {
  "kernelspec": {
   "display_name": ".venv",
   "language": "python",
   "name": "python3"
  },
  "language_info": {
   "codemirror_mode": {
    "name": "ipython",
    "version": 3
   },
   "file_extension": ".py",
   "mimetype": "text/x-python",
   "name": "python",
   "nbconvert_exporter": "python",
   "pygments_lexer": "ipython3",
   "version": "3.12.3"
  }
 },
 "nbformat": 4,
 "nbformat_minor": 5
}
