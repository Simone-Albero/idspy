{
 "cells": [
  {
   "cell_type": "markdown",
   "id": "b0aafc9ceb99e5e8",
   "metadata": {},
   "source": [
    "# Pipeline Examples\n",
    "\n",
    "This notebook demonstrates how to build and customize pipelines. Pipelines orchestrate sequences of steps with built-in event handling, conditional execution, and fitting capabilities for ML workflows.\n",
    "\n",
    "## Features Demonstrated\n",
    "\n",
    "- **Basic Pipeline**: Step orchestration with automatic state management\n",
    "- **Event Hooks**: Custom methods responding to pipeline lifecycle events\n",
    "- **Priority System**: Multi-priority hook execution with configurable order\n",
    "- **Fit-Aware Pipelines**: Automatic fitting lifecycle for ML workflows\n",
    "- **Refit Control**: Preserving or updating learned parameters across runs\n",
    "\n",
    "## Setup"
   ]
  },
  {
   "cell_type": "code",
   "execution_count": 1,
   "id": "319d0a2a",
   "metadata": {},
   "outputs": [],
   "source": [
    "import sys\n",
    "import os\n",
    "\n",
    "# Add the project root to Python path\n",
    "project_root = os.path.abspath(os.path.join(os.getcwd(), '..'))\n",
    "if project_root not in sys.path:\n",
    "    sys.path.insert(0, project_root)"
   ]
  },
  {
   "cell_type": "code",
   "execution_count": 2,
   "id": "9008cdd4332453d9",
   "metadata": {
    "ExecuteTime": {
     "end_time": "2025-09-03T16:15:22.248593Z",
     "start_time": "2025-09-03T16:15:22.235873Z"
    }
   },
   "outputs": [],
   "source": [
    "from src.idspy.core.state import State\n",
    "from src.idspy.core.step import Step, FitAwareStep\n",
    "from src.idspy.core.pipeline import Pipeline, FitAwarePipeline, PipelineEvent"
   ]
  },
  {
   "cell_type": "markdown",
   "id": "7d048dd1a556d0dd",
   "metadata": {},
   "source": [
    "## Example Steps\n",
    "\n",
    "Step definitions with explicit input/output declarations for pipeline validation."
   ]
  },
  {
   "cell_type": "code",
   "execution_count": 3,
   "id": "449c9925ad8d96b2",
   "metadata": {
    "ExecuteTime": {
     "end_time": "2025-09-03T16:15:22.255836Z",
     "start_time": "2025-09-03T16:15:22.251582Z"
    }
   },
   "outputs": [],
   "source": [
    "class Load(Step):\n",
    "    @Step.provides(data=list)\n",
    "    def run(self, state: State):\n",
    "        return {\"data\": [1, 2, 3]}\n",
    "\n",
    "\n",
    "\n",
    "class Sum(Step):\n",
    "    @Step.requires(data=list)\n",
    "    @Step.provides(sum=(int, float))\n",
    "    def run(self, state: State, data: list):\n",
    "        return {\"sum\": sum(data)}\n",
    "\n",
    "\n",
    "\n",
    "class MeanCenter(FitAwareStep):\n",
    "    def __init__(self):\n",
    "        super().__init__()\n",
    "        self.mean = None\n",
    "\n",
    "    @Step.requires(data=list)\n",
    "    def fit_impl(self, state: State, data: list):\n",
    "        self.mean = sum(data) / len(data)\n",
    "\n",
    "    @Step.requires(data=list)\n",
    "    @Step.provides(data=list)\n",
    "    def run(self, state: State, data: list):\n",
    "        centered = [x - self.mean for x in data]\n",
    "        return {\"data\": centered}\n",
    "\n",
    "\n",
    "\n",
    "class Accumulate(Step):\n",
    "    @Step.requires(sum=int, tot=int)\n",
    "    @Step.provides(tot=int)\n",
    "    def run(self, state: State, sum: int, tot: int = 0):\n",
    "        tot += sum\n",
    "        return {\"tot\": tot}"
   ]
  },
  {
   "cell_type": "markdown",
   "id": "212b656ebe8a6654",
   "metadata": {},
   "source": [
    "## Custom Pipeline with Event Hooks\n",
    "\n",
    "Register custom methods with `@Pipeline.hook()` to respond to pipeline lifecycle events."
   ]
  },
  {
   "cell_type": "code",
   "execution_count": 4,
   "id": "7fe3f8d5f04849fc",
   "metadata": {
    "ExecuteTime": {
     "end_time": "2025-09-03T16:15:22.336616Z",
     "start_time": "2025-09-03T16:15:22.333258Z"
    }
   },
   "outputs": [
    {
     "name": "stdout",
     "output_type": "stream",
     "text": [
      "[pipeline] start\n",
      "[pipeline] before 0: Load\n",
      "[pipeline] after 0:  Load\n",
      "[pipeline] before 1: Sum\n",
      "[pipeline] after 1:  Sum\n",
      "[pipeline] end\n",
      "{'data': [1, 2, 3], 'sum': 6}\n"
     ]
    }
   ],
   "source": [
    "class MyPipeline(Pipeline):\n",
    "    @Pipeline.hook(PipelineEvent.PIPELINE_START)\n",
    "    def _start(self, state: State) -> None:\n",
    "        print(\"[pipeline] start\")\n",
    "\n",
    "    @Pipeline.hook(PipelineEvent.BEFORE_STEP)\n",
    "    def _before(self, step: Step, state: State, index: int) -> None:\n",
    "        print(f\"[pipeline] before {index}: {step.name}\")\n",
    "\n",
    "    @Pipeline.hook(PipelineEvent.AFTER_STEP)\n",
    "    def _after(self, step: Step, state: State, index: int) -> None:\n",
    "        print(f\"[pipeline] after {index}:  {step.name}\")\n",
    "\n",
    "    @Pipeline.hook(PipelineEvent.PIPELINE_END)\n",
    "    def _end(self, state: State) -> None:\n",
    "        print(\"[pipeline] end\")\n",
    "\n",
    "\n",
    "s = State()\n",
    "p = MyPipeline([Load(), Sum()], name=\"Plain\")\n",
    "p(s)\n",
    "print(s.as_dict())\n",
    "# [pipeline] start\n",
    "# [pipeline] before 0: Load\n",
    "# [pipeline] after 0:  Load\n",
    "# [pipeline] before 1: Sum\n",
    "# [pipeline] after 1:  Sum\n",
    "# [pipeline] end\n",
    "# {'data': [1, 2, 3], 'sum': 6}"
   ]
  },
  {
   "cell_type": "markdown",
   "id": "1880e534",
   "metadata": {},
   "source": [
    "### Multi-Priority Hook System\n",
    "\n",
    "Multiple hooks for the same event execute by priority order (higher numbers first)."
   ]
  },
  {
   "cell_type": "code",
   "execution_count": 5,
   "id": "767f47e3",
   "metadata": {},
   "outputs": [
    {
     "name": "stdout",
     "output_type": "stream",
     "text": [
      "MEDIUM: [id: 0]\n",
      "HIGH: [id: 0]\n",
      "MEDIUM: [id: 1]\n",
      "HIGH: [id: 1]\n",
      "{'data': [1, 2, 3], 'sum': 6}\n"
     ]
    }
   ],
   "source": [
    "class MultiPriorityPipeline(Pipeline):\n",
    "    @Pipeline.hook(PipelineEvent.BEFORE_STEP, priority=100)\n",
    "    def high_priority_hook(self, step: Step, state: State, index: int):\n",
    "        print(f\"HIGH: [id: {index}]\")\n",
    "\n",
    "    @Pipeline.hook(PipelineEvent.BEFORE_STEP, priority=50)\n",
    "    def medium_priority_hook(self, step: Step, state: State, index: int):\n",
    "        print(f\"MEDIUM: [id: {index}]\")\n",
    "\n",
    "s = State()\n",
    "p = MultiPriorityPipeline([Load(), Sum()], name=\"Plain\")\n",
    "p(s)\n",
    "print(s.as_dict())\n",
    "# MEDIUM: [id: 0]\n",
    "# HIGH: [id: 0]\n",
    "# MEDIUM: [id: 1]\n",
    "# HIGH: [id: 1]\n",
    "# {'data': [1, 2, 3], 'sum': 6}"
   ]
  },
  {
   "cell_type": "markdown",
   "id": "54ea4eb9854e4692",
   "metadata": {},
   "source": [
    "## Fit-Aware Pipelines\n",
    "\n",
    "Automatic fitting lifecycle for ML workflows. Controls refit behavior across runs."
   ]
  },
  {
   "cell_type": "code",
   "execution_count": 9,
   "id": "306540356cd87a5c",
   "metadata": {
    "ExecuteTime": {
     "end_time": "2025-09-03T16:15:22.350008Z",
     "start_time": "2025-09-03T16:15:22.347008Z"
    }
   },
   "outputs": [
    {
     "name": "stdout",
     "output_type": "stream",
     "text": [
      "After first run: {'data': [-1.0, 0.0, 1.0], 'sum': 0.0}\n",
      "Mean learned: 2.0\n",
      "Second run (no refit): {'data': [0.0, 2.0, 4.0], 'sum': 6.0}\n",
      "Mean still: 2.0\n",
      "With refit=True: {'data': [-2.0, 0.0, 2.0], 'sum': 0.0}\n",
      "New mean learned: 4.0\n"
     ]
    }
   ],
   "source": [
    "s = State({\"data\": [1.0, 2.0, 3.0]})\n",
    "fp = FitAwarePipeline([MeanCenter(), Sum()], name=\"FitPipe\", refit=False)\n",
    "fp(s)\n",
    "print(\"After first run:\", s.as_dict())\n",
    "print(\"Mean learned:\", fp.steps[0].mean)\n",
    "# After first run: {'data': [-1.0, 0.0, 1.0], 'sum': 0}\n",
    "# Mean learned: 2.0\n",
    "\n",
    "# Second run without refit (uses same mean=2.0)\n",
    "s = State({\"data\": [2.0, 4.0, 6.0]})\n",
    "fp(s)\n",
    "print(\"Second run (no refit):\", s.as_dict())\n",
    "print(\"Mean still:\", fp.steps[0].mean)\n",
    "# Second run (no refit): {'data': [0.0, 2.0, 4.0], 'sum': 6}\n",
    "# Mean still: 2.0\n",
    "\n",
    "# Pipeline with refit=True (learns new mean=4.0)\n",
    "s2 = State({\"data\": [2.0, 4.0, 6.0]})\n",
    "fp_refit = FitAwarePipeline([MeanCenter(), Sum()], name=\"FitPipeRefit\", refit=True)\n",
    "fp_refit(s2)\n",
    "print(\"With refit=True:\", s2.as_dict())\n",
    "print(\"New mean learned:\", fp_refit.steps[0].mean)\n",
    "# With refit=True: {'data': [-2.0, 0.0, 2.0], 'sum': 0}\n",
    "# New mean learned: 4.0"
   ]
  }
 ],
 "metadata": {
  "kernelspec": {
   "display_name": ".venv",
   "language": "python",
   "name": "python3"
  },
  "language_info": {
   "codemirror_mode": {
    "name": "ipython",
    "version": 3
   },
   "file_extension": ".py",
   "mimetype": "text/x-python",
   "name": "python",
   "nbconvert_exporter": "python",
   "pygments_lexer": "ipython3",
   "version": "3.12.3"
  }
 },
 "nbformat": 4,
 "nbformat_minor": 5
}
