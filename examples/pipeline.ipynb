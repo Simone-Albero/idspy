{
 "cells": [
  {
   "cell_type": "code",
   "id": "initial_id",
   "metadata": {
    "collapsed": true,
    "ExecuteTime": {
     "end_time": "2025-08-11T16:58:19.955885Z",
     "start_time": "2025-08-11T16:58:19.907098Z"
    }
   },
   "source": [
    "import logging\n",
    "\n",
    "from src.idspy.core.pipeline import Pipeline\n",
    "from src.idspy.core.state import State\n",
    "from src.idspy.core.step import Step, ConditionalStep\n",
    "from src.idspy.services.logger import setup_logging\n",
    "\n",
    "setup_logging()\n",
    "logger = logging.getLogger(__name__)"
   ],
   "outputs": [],
   "execution_count": 1
  },
  {
   "metadata": {
    "ExecuteTime": {
     "end_time": "2025-08-11T16:58:19.961949Z",
     "start_time": "2025-08-11T16:58:19.958793Z"
    }
   },
   "cell_type": "code",
   "source": [
    "class BasicStep(Step):\n",
    "    def _run(self, state: State):\n",
    "        logger.info(f\"Running {self.name} ...\")\n",
    "        logger.info(f\"Adding 'should_run' to the state.\")\n",
    "        state[\"data.should_run\"] = True\n",
    "\n",
    "\n",
    "class ConditionalStep1(ConditionalStep):\n",
    "    def _run(self, state: State):\n",
    "        logger.info(f\"Running {self.name} ...\")\n",
    "        logger.info(f\"Setting 'should_run' to false.\")\n",
    "        state[\"data.should_run\"] = False\n",
    "\n",
    "    def should_run(self, state: State) -> bool:\n",
    "        logger.info(f\"{self.name} reading 'should_run' from state: {state[\"data.should_run\"]}\")\n",
    "        return state[\"data.should_run\"]\n",
    "\n",
    "\n",
    "class ConditionalStep2(ConditionalStep):\n",
    "    def _run(self, state: State):\n",
    "        logger.info(f\"Running {self.name} ...\")\n",
    "\n",
    "    def should_run(self, state: State) -> bool:\n",
    "        logger.info(f\"{self.name} reading 'should_run' from state: {state[\"data.should_run\"]}\")\n",
    "        return state[\"data.should_run\"]\n"
   ],
   "id": "93d105adec6977e5",
   "outputs": [],
   "execution_count": 2
  },
  {
   "metadata": {
    "ExecuteTime": {
     "end_time": "2025-08-11T16:58:20.046859Z",
     "start_time": "2025-08-11T16:58:20.042052Z"
    }
   },
   "cell_type": "code",
   "source": [
    "pipeline = Pipeline([\n",
    "    BasicStep(name=\"basic_step\", produces=[\"data.should_run\"]),\n",
    "    ConditionalStep1(name=\"conditional_1\", requires=[\"data.should_run\"], produces=[\"data.should_run\"]),\n",
    "    ConditionalStep2(name=\"conditional_2\", requires=[\"data.should_run\"]),\n",
    "])"
   ],
   "id": "4f4fb6e0550e91c4",
   "outputs": [],
   "execution_count": 3
  },
  {
   "metadata": {
    "ExecuteTime": {
     "end_time": "2025-08-11T16:58:20.052889Z",
     "start_time": "2025-08-11T16:58:20.051153Z"
    }
   },
   "cell_type": "code",
   "source": "state = State()",
   "id": "45248fec5d784698",
   "outputs": [],
   "execution_count": 4
  },
  {
   "metadata": {
    "ExecuteTime": {
     "end_time": "2025-08-11T16:58:20.066687Z",
     "start_time": "2025-08-11T16:58:20.057031Z"
    }
   },
   "cell_type": "code",
   "source": "pipeline.run(state)",
   "id": "f9f86246fbc43306",
   "outputs": [
    {
     "data": {
      "text/plain": [
       "\u001B[34mINFO    \u001B[0m \u001B[1;92m18:58:20\u001B[0m: Running basic_step \u001B[33m...\u001B[0m                                                                          \n"
      ],
      "text/html": [
       "<pre style=\"white-space:pre;overflow-x:auto;line-height:normal;font-family:Menlo,'DejaVu Sans Mono',consolas,'Courier New',monospace\"><span style=\"color: #000080; text-decoration-color: #000080\">INFO    </span> <span style=\"color: #00ff00; text-decoration-color: #00ff00; font-weight: bold\">18:58:20</span>: Running basic_step <span style=\"color: #808000; text-decoration-color: #808000\">...</span>                                                                          \n",
       "</pre>\n"
      ]
     },
     "metadata": {},
     "output_type": "display_data"
    },
    {
     "data": {
      "text/plain": [
       "\u001B[34mINFO    \u001B[0m \u001B[1;92m18:58:20\u001B[0m: Adding \u001B[32m'should_run'\u001B[0m to the state.                                                               \n"
      ],
      "text/html": [
       "<pre style=\"white-space:pre;overflow-x:auto;line-height:normal;font-family:Menlo,'DejaVu Sans Mono',consolas,'Courier New',monospace\"><span style=\"color: #000080; text-decoration-color: #000080\">INFO    </span> <span style=\"color: #00ff00; text-decoration-color: #00ff00; font-weight: bold\">18:58:20</span>: Adding <span style=\"color: #008000; text-decoration-color: #008000\">'should_run'</span> to the state.                                                               \n",
       "</pre>\n"
      ]
     },
     "metadata": {},
     "output_type": "display_data"
    },
    {
     "data": {
      "text/plain": [
       "\u001B[34mINFO    \u001B[0m \u001B[1;92m18:58:20\u001B[0m: conditional_1 reading \u001B[32m'should_run'\u001B[0m from state: \u001B[3;92mTrue\u001B[0m                                             \n"
      ],
      "text/html": [
       "<pre style=\"white-space:pre;overflow-x:auto;line-height:normal;font-family:Menlo,'DejaVu Sans Mono',consolas,'Courier New',monospace\"><span style=\"color: #000080; text-decoration-color: #000080\">INFO    </span> <span style=\"color: #00ff00; text-decoration-color: #00ff00; font-weight: bold\">18:58:20</span>: conditional_1 reading <span style=\"color: #008000; text-decoration-color: #008000\">'should_run'</span> from state: <span style=\"color: #00ff00; text-decoration-color: #00ff00; font-style: italic\">True</span>                                             \n",
       "</pre>\n"
      ]
     },
     "metadata": {},
     "output_type": "display_data"
    },
    {
     "data": {
      "text/plain": [
       "\u001B[34mINFO    \u001B[0m \u001B[1;92m18:58:20\u001B[0m: Running conditional_1 \u001B[33m...\u001B[0m                                                                       \n"
      ],
      "text/html": [
       "<pre style=\"white-space:pre;overflow-x:auto;line-height:normal;font-family:Menlo,'DejaVu Sans Mono',consolas,'Courier New',monospace\"><span style=\"color: #000080; text-decoration-color: #000080\">INFO    </span> <span style=\"color: #00ff00; text-decoration-color: #00ff00; font-weight: bold\">18:58:20</span>: Running conditional_1 <span style=\"color: #808000; text-decoration-color: #808000\">...</span>                                                                       \n",
       "</pre>\n"
      ]
     },
     "metadata": {},
     "output_type": "display_data"
    },
    {
     "data": {
      "text/plain": [
       "\u001B[34mINFO    \u001B[0m \u001B[1;92m18:58:20\u001B[0m: Setting \u001B[32m'should_run'\u001B[0m to false.                                                                  \n"
      ],
      "text/html": [
       "<pre style=\"white-space:pre;overflow-x:auto;line-height:normal;font-family:Menlo,'DejaVu Sans Mono',consolas,'Courier New',monospace\"><span style=\"color: #000080; text-decoration-color: #000080\">INFO    </span> <span style=\"color: #00ff00; text-decoration-color: #00ff00; font-weight: bold\">18:58:20</span>: Setting <span style=\"color: #008000; text-decoration-color: #008000\">'should_run'</span> to false.                                                                  \n",
       "</pre>\n"
      ]
     },
     "metadata": {},
     "output_type": "display_data"
    },
    {
     "data": {
      "text/plain": [
       "\u001B[34mINFO    \u001B[0m \u001B[1;92m18:58:20\u001B[0m: conditional_2 reading \u001B[32m'should_run'\u001B[0m from state: \u001B[3;91mFalse\u001B[0m                                            \n"
      ],
      "text/html": [
       "<pre style=\"white-space:pre;overflow-x:auto;line-height:normal;font-family:Menlo,'DejaVu Sans Mono',consolas,'Courier New',monospace\"><span style=\"color: #000080; text-decoration-color: #000080\">INFO    </span> <span style=\"color: #00ff00; text-decoration-color: #00ff00; font-weight: bold\">18:58:20</span>: conditional_2 reading <span style=\"color: #008000; text-decoration-color: #008000\">'should_run'</span> from state: <span style=\"color: #ff0000; text-decoration-color: #ff0000; font-style: italic\">False</span>                                            \n",
       "</pre>\n"
      ]
     },
     "metadata": {},
     "output_type": "display_data"
    }
   ],
   "execution_count": 5
  }
 ],
 "metadata": {
  "kernelspec": {
   "display_name": "Python 3",
   "language": "python",
   "name": "python3"
  },
  "language_info": {
   "codemirror_mode": {
    "name": "ipython",
    "version": 2
   },
   "file_extension": ".py",
   "mimetype": "text/x-python",
   "name": "python",
   "nbconvert_exporter": "python",
   "pygments_lexer": "ipython2",
   "version": "2.7.6"
  }
 },
 "nbformat": 4,
 "nbformat_minor": 5
}
